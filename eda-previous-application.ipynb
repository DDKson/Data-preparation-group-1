{
 "cells": [
  {
   "cell_type": "code",
   "execution_count": 1,
   "id": "b2ddda92",
   "metadata": {
    "_cell_guid": "b1076dfc-b9ad-4769-8c92-a6c4dae69d19",
    "_uuid": "8f2839f25d086af736a60e9eeb907d3b93b6e0e5",
    "execution": {
     "iopub.execute_input": "2022-11-04T13:21:50.871605Z",
     "iopub.status.busy": "2022-11-04T13:21:50.870986Z",
     "iopub.status.idle": "2022-11-04T13:21:52.387358Z",
     "shell.execute_reply": "2022-11-04T13:21:52.386006Z"
    },
    "papermill": {
     "duration": 1.537681,
     "end_time": "2022-11-04T13:21:52.391491",
     "exception": false,
     "start_time": "2022-11-04T13:21:50.853810",
     "status": "completed"
    },
    "tags": []
   },
   "outputs": [
    {
     "name": "stdout",
     "output_type": "stream",
     "text": [
      "/kaggle/input/home-credit-default-risk/sample_submission.csv\n",
      "/kaggle/input/home-credit-default-risk/bureau_balance.csv\n",
      "/kaggle/input/home-credit-default-risk/POS_CASH_balance.csv\n",
      "/kaggle/input/home-credit-default-risk/application_train.csv\n",
      "/kaggle/input/home-credit-default-risk/HomeCredit_columns_description.csv\n",
      "/kaggle/input/home-credit-default-risk/application_test.csv\n",
      "/kaggle/input/home-credit-default-risk/previous_application.csv\n",
      "/kaggle/input/home-credit-default-risk/credit_card_balance.csv\n",
      "/kaggle/input/home-credit-default-risk/installments_payments.csv\n",
      "/kaggle/input/home-credit-default-risk/bureau.csv\n"
     ]
    }
   ],
   "source": [
    "# This Python 3 environment comes with many helpful analytics libraries installed\n",
    "# It is defined by the kaggle/python Docker image: https://github.com/kaggle/docker-python\n",
    "# For example, here's several helpful packages to load\n",
    "\n",
    "import numpy as np # linear algebra\n",
    "import pandas as pd # data processing, CSV file I/O (e.g. pd.read_csv)\n",
    "import matplotlib.pyplot as plt\n",
    "import seaborn as sns\n",
    "from sklearn.impute import SimpleImputer\n",
    "# Input data files are available in the read-only \"../input/\" directory\n",
    "# For example, running this (by clicking run or pressing Shift+Enter) will list all files under the input directory\n",
    "\n",
    "import os\n",
    "for dirname, _, filenames in os.walk('/kaggle/input'):\n",
    "    for filename in filenames:\n",
    "        print(os.path.join(dirname, filename))\n",
    "\n",
    "# You can write up to 20GB to the current directory (/kaggle/working/) that gets preserved as output when you create a version using \"Save & Run All\" \n",
    "# You can also write temporary files to /kaggle/temp/, but they won't be saved outside of the current session"
   ]
  },
  {
   "cell_type": "markdown",
   "id": "ef2c3249",
   "metadata": {
    "papermill": {
     "duration": 0.015785,
     "end_time": "2022-11-04T13:21:52.421681",
     "exception": false,
     "start_time": "2022-11-04T13:21:52.405896",
     "status": "completed"
    },
    "tags": []
   },
   "source": [
    "# 1. Reading data"
   ]
  },
  {
   "cell_type": "code",
   "execution_count": 2,
   "id": "88d15791",
   "metadata": {
    "execution": {
     "iopub.execute_input": "2022-11-04T13:21:52.451773Z",
     "iopub.status.busy": "2022-11-04T13:21:52.450984Z",
     "iopub.status.idle": "2022-11-04T13:22:08.137115Z",
     "shell.execute_reply": "2022-11-04T13:22:08.135828Z"
    },
    "papermill": {
     "duration": 15.704768,
     "end_time": "2022-11-04T13:22:08.139968",
     "exception": false,
     "start_time": "2022-11-04T13:21:52.435200",
     "status": "completed"
    },
    "tags": []
   },
   "outputs": [
    {
     "data": {
      "text/html": [
       "<div>\n",
       "<style scoped>\n",
       "    .dataframe tbody tr th:only-of-type {\n",
       "        vertical-align: middle;\n",
       "    }\n",
       "\n",
       "    .dataframe tbody tr th {\n",
       "        vertical-align: top;\n",
       "    }\n",
       "\n",
       "    .dataframe thead th {\n",
       "        text-align: right;\n",
       "    }\n",
       "</style>\n",
       "<table border=\"1\" class=\"dataframe\">\n",
       "  <thead>\n",
       "    <tr style=\"text-align: right;\">\n",
       "      <th></th>\n",
       "      <th>SK_ID_PREV</th>\n",
       "      <th>SK_ID_CURR</th>\n",
       "      <th>NAME_CONTRACT_TYPE</th>\n",
       "      <th>AMT_ANNUITY</th>\n",
       "      <th>AMT_APPLICATION</th>\n",
       "      <th>AMT_CREDIT</th>\n",
       "      <th>AMT_DOWN_PAYMENT</th>\n",
       "      <th>AMT_GOODS_PRICE</th>\n",
       "      <th>WEEKDAY_APPR_PROCESS_START</th>\n",
       "      <th>HOUR_APPR_PROCESS_START</th>\n",
       "      <th>...</th>\n",
       "      <th>NAME_SELLER_INDUSTRY</th>\n",
       "      <th>CNT_PAYMENT</th>\n",
       "      <th>NAME_YIELD_GROUP</th>\n",
       "      <th>PRODUCT_COMBINATION</th>\n",
       "      <th>DAYS_FIRST_DRAWING</th>\n",
       "      <th>DAYS_FIRST_DUE</th>\n",
       "      <th>DAYS_LAST_DUE_1ST_VERSION</th>\n",
       "      <th>DAYS_LAST_DUE</th>\n",
       "      <th>DAYS_TERMINATION</th>\n",
       "      <th>NFLAG_INSURED_ON_APPROVAL</th>\n",
       "    </tr>\n",
       "  </thead>\n",
       "  <tbody>\n",
       "    <tr>\n",
       "      <th>0</th>\n",
       "      <td>2030495</td>\n",
       "      <td>271877</td>\n",
       "      <td>Consumer loans</td>\n",
       "      <td>1730.430</td>\n",
       "      <td>17145.0</td>\n",
       "      <td>17145.0</td>\n",
       "      <td>0.0</td>\n",
       "      <td>17145.0</td>\n",
       "      <td>SATURDAY</td>\n",
       "      <td>15</td>\n",
       "      <td>...</td>\n",
       "      <td>Connectivity</td>\n",
       "      <td>12.0</td>\n",
       "      <td>middle</td>\n",
       "      <td>POS mobile with interest</td>\n",
       "      <td>365243.0</td>\n",
       "      <td>-42.0</td>\n",
       "      <td>300.0</td>\n",
       "      <td>-42.0</td>\n",
       "      <td>-37.0</td>\n",
       "      <td>0.0</td>\n",
       "    </tr>\n",
       "    <tr>\n",
       "      <th>1</th>\n",
       "      <td>2802425</td>\n",
       "      <td>108129</td>\n",
       "      <td>Cash loans</td>\n",
       "      <td>25188.615</td>\n",
       "      <td>607500.0</td>\n",
       "      <td>679671.0</td>\n",
       "      <td>NaN</td>\n",
       "      <td>607500.0</td>\n",
       "      <td>THURSDAY</td>\n",
       "      <td>11</td>\n",
       "      <td>...</td>\n",
       "      <td>XNA</td>\n",
       "      <td>36.0</td>\n",
       "      <td>low_action</td>\n",
       "      <td>Cash X-Sell: low</td>\n",
       "      <td>365243.0</td>\n",
       "      <td>-134.0</td>\n",
       "      <td>916.0</td>\n",
       "      <td>365243.0</td>\n",
       "      <td>365243.0</td>\n",
       "      <td>1.0</td>\n",
       "    </tr>\n",
       "    <tr>\n",
       "      <th>2</th>\n",
       "      <td>2523466</td>\n",
       "      <td>122040</td>\n",
       "      <td>Cash loans</td>\n",
       "      <td>15060.735</td>\n",
       "      <td>112500.0</td>\n",
       "      <td>136444.5</td>\n",
       "      <td>NaN</td>\n",
       "      <td>112500.0</td>\n",
       "      <td>TUESDAY</td>\n",
       "      <td>11</td>\n",
       "      <td>...</td>\n",
       "      <td>XNA</td>\n",
       "      <td>12.0</td>\n",
       "      <td>high</td>\n",
       "      <td>Cash X-Sell: high</td>\n",
       "      <td>365243.0</td>\n",
       "      <td>-271.0</td>\n",
       "      <td>59.0</td>\n",
       "      <td>365243.0</td>\n",
       "      <td>365243.0</td>\n",
       "      <td>1.0</td>\n",
       "    </tr>\n",
       "    <tr>\n",
       "      <th>3</th>\n",
       "      <td>2819243</td>\n",
       "      <td>176158</td>\n",
       "      <td>Cash loans</td>\n",
       "      <td>47041.335</td>\n",
       "      <td>450000.0</td>\n",
       "      <td>470790.0</td>\n",
       "      <td>NaN</td>\n",
       "      <td>450000.0</td>\n",
       "      <td>MONDAY</td>\n",
       "      <td>7</td>\n",
       "      <td>...</td>\n",
       "      <td>XNA</td>\n",
       "      <td>12.0</td>\n",
       "      <td>middle</td>\n",
       "      <td>Cash X-Sell: middle</td>\n",
       "      <td>365243.0</td>\n",
       "      <td>-482.0</td>\n",
       "      <td>-152.0</td>\n",
       "      <td>-182.0</td>\n",
       "      <td>-177.0</td>\n",
       "      <td>1.0</td>\n",
       "    </tr>\n",
       "    <tr>\n",
       "      <th>4</th>\n",
       "      <td>1784265</td>\n",
       "      <td>202054</td>\n",
       "      <td>Cash loans</td>\n",
       "      <td>31924.395</td>\n",
       "      <td>337500.0</td>\n",
       "      <td>404055.0</td>\n",
       "      <td>NaN</td>\n",
       "      <td>337500.0</td>\n",
       "      <td>THURSDAY</td>\n",
       "      <td>9</td>\n",
       "      <td>...</td>\n",
       "      <td>XNA</td>\n",
       "      <td>24.0</td>\n",
       "      <td>high</td>\n",
       "      <td>Cash Street: high</td>\n",
       "      <td>NaN</td>\n",
       "      <td>NaN</td>\n",
       "      <td>NaN</td>\n",
       "      <td>NaN</td>\n",
       "      <td>NaN</td>\n",
       "      <td>NaN</td>\n",
       "    </tr>\n",
       "  </tbody>\n",
       "</table>\n",
       "<p>5 rows × 37 columns</p>\n",
       "</div>"
      ],
      "text/plain": [
       "   SK_ID_PREV  SK_ID_CURR NAME_CONTRACT_TYPE  AMT_ANNUITY  AMT_APPLICATION  \\\n",
       "0     2030495      271877     Consumer loans     1730.430          17145.0   \n",
       "1     2802425      108129         Cash loans    25188.615         607500.0   \n",
       "2     2523466      122040         Cash loans    15060.735         112500.0   \n",
       "3     2819243      176158         Cash loans    47041.335         450000.0   \n",
       "4     1784265      202054         Cash loans    31924.395         337500.0   \n",
       "\n",
       "   AMT_CREDIT  AMT_DOWN_PAYMENT  AMT_GOODS_PRICE WEEKDAY_APPR_PROCESS_START  \\\n",
       "0     17145.0               0.0          17145.0                   SATURDAY   \n",
       "1    679671.0               NaN         607500.0                   THURSDAY   \n",
       "2    136444.5               NaN         112500.0                    TUESDAY   \n",
       "3    470790.0               NaN         450000.0                     MONDAY   \n",
       "4    404055.0               NaN         337500.0                   THURSDAY   \n",
       "\n",
       "   HOUR_APPR_PROCESS_START  ... NAME_SELLER_INDUSTRY  CNT_PAYMENT  \\\n",
       "0                       15  ...         Connectivity         12.0   \n",
       "1                       11  ...                  XNA         36.0   \n",
       "2                       11  ...                  XNA         12.0   \n",
       "3                        7  ...                  XNA         12.0   \n",
       "4                        9  ...                  XNA         24.0   \n",
       "\n",
       "   NAME_YIELD_GROUP       PRODUCT_COMBINATION  DAYS_FIRST_DRAWING  \\\n",
       "0            middle  POS mobile with interest            365243.0   \n",
       "1        low_action          Cash X-Sell: low            365243.0   \n",
       "2              high         Cash X-Sell: high            365243.0   \n",
       "3            middle       Cash X-Sell: middle            365243.0   \n",
       "4              high         Cash Street: high                 NaN   \n",
       "\n",
       "  DAYS_FIRST_DUE DAYS_LAST_DUE_1ST_VERSION  DAYS_LAST_DUE DAYS_TERMINATION  \\\n",
       "0          -42.0                     300.0          -42.0            -37.0   \n",
       "1         -134.0                     916.0       365243.0         365243.0   \n",
       "2         -271.0                      59.0       365243.0         365243.0   \n",
       "3         -482.0                    -152.0         -182.0           -177.0   \n",
       "4            NaN                       NaN            NaN              NaN   \n",
       "\n",
       "  NFLAG_INSURED_ON_APPROVAL  \n",
       "0                       0.0  \n",
       "1                       1.0  \n",
       "2                       1.0  \n",
       "3                       1.0  \n",
       "4                       NaN  \n",
       "\n",
       "[5 rows x 37 columns]"
      ]
     },
     "execution_count": 2,
     "metadata": {},
     "output_type": "execute_result"
    }
   ],
   "source": [
    "previous_application = pd.read_csv(\"../input/home-credit-default-risk/previous_application.csv\")\n",
    "previous_application.head()"
   ]
  },
  {
   "cell_type": "code",
   "execution_count": 3,
   "id": "4af65888",
   "metadata": {
    "execution": {
     "iopub.execute_input": "2022-11-04T13:22:08.168257Z",
     "iopub.status.busy": "2022-11-04T13:22:08.167878Z",
     "iopub.status.idle": "2022-11-04T13:22:09.400090Z",
     "shell.execute_reply": "2022-11-04T13:22:09.398792Z"
    },
    "papermill": {
     "duration": 1.251108,
     "end_time": "2022-11-04T13:22:09.404471",
     "exception": false,
     "start_time": "2022-11-04T13:22:08.153363",
     "status": "completed"
    },
    "tags": []
   },
   "outputs": [
    {
     "name": "stdout",
     "output_type": "stream",
     "text": [
      "<class 'pandas.core.frame.DataFrame'>\n",
      "RangeIndex: 1670214 entries, 0 to 1670213\n",
      "Data columns (total 37 columns):\n",
      " #   Column                       Non-Null Count    Dtype  \n",
      "---  ------                       --------------    -----  \n",
      " 0   SK_ID_PREV                   1670214 non-null  int64  \n",
      " 1   SK_ID_CURR                   1670214 non-null  int64  \n",
      " 2   NAME_CONTRACT_TYPE           1670214 non-null  object \n",
      " 3   AMT_ANNUITY                  1297979 non-null  float64\n",
      " 4   AMT_APPLICATION              1670214 non-null  float64\n",
      " 5   AMT_CREDIT                   1670213 non-null  float64\n",
      " 6   AMT_DOWN_PAYMENT             774370 non-null   float64\n",
      " 7   AMT_GOODS_PRICE              1284699 non-null  float64\n",
      " 8   WEEKDAY_APPR_PROCESS_START   1670214 non-null  object \n",
      " 9   HOUR_APPR_PROCESS_START      1670214 non-null  int64  \n",
      " 10  FLAG_LAST_APPL_PER_CONTRACT  1670214 non-null  object \n",
      " 11  NFLAG_LAST_APPL_IN_DAY       1670214 non-null  int64  \n",
      " 12  RATE_DOWN_PAYMENT            774370 non-null   float64\n",
      " 13  RATE_INTEREST_PRIMARY        5951 non-null     float64\n",
      " 14  RATE_INTEREST_PRIVILEGED     5951 non-null     float64\n",
      " 15  NAME_CASH_LOAN_PURPOSE       1670214 non-null  object \n",
      " 16  NAME_CONTRACT_STATUS         1670214 non-null  object \n",
      " 17  DAYS_DECISION                1670214 non-null  int64  \n",
      " 18  NAME_PAYMENT_TYPE            1670214 non-null  object \n",
      " 19  CODE_REJECT_REASON           1670214 non-null  object \n",
      " 20  NAME_TYPE_SUITE              849809 non-null   object \n",
      " 21  NAME_CLIENT_TYPE             1670214 non-null  object \n",
      " 22  NAME_GOODS_CATEGORY          1670214 non-null  object \n",
      " 23  NAME_PORTFOLIO               1670214 non-null  object \n",
      " 24  NAME_PRODUCT_TYPE            1670214 non-null  object \n",
      " 25  CHANNEL_TYPE                 1670214 non-null  object \n",
      " 26  SELLERPLACE_AREA             1670214 non-null  int64  \n",
      " 27  NAME_SELLER_INDUSTRY         1670214 non-null  object \n",
      " 28  CNT_PAYMENT                  1297984 non-null  float64\n",
      " 29  NAME_YIELD_GROUP             1670214 non-null  object \n",
      " 30  PRODUCT_COMBINATION          1669868 non-null  object \n",
      " 31  DAYS_FIRST_DRAWING           997149 non-null   float64\n",
      " 32  DAYS_FIRST_DUE               997149 non-null   float64\n",
      " 33  DAYS_LAST_DUE_1ST_VERSION    997149 non-null   float64\n",
      " 34  DAYS_LAST_DUE                997149 non-null   float64\n",
      " 35  DAYS_TERMINATION             997149 non-null   float64\n",
      " 36  NFLAG_INSURED_ON_APPROVAL    997149 non-null   float64\n",
      "dtypes: float64(15), int64(6), object(16)\n",
      "memory usage: 471.5+ MB\n"
     ]
    }
   ],
   "source": [
    "previous_application.info()"
   ]
  },
  {
   "cell_type": "code",
   "execution_count": 4,
   "id": "bb04e599",
   "metadata": {
    "execution": {
     "iopub.execute_input": "2022-11-04T13:22:09.434166Z",
     "iopub.status.busy": "2022-11-04T13:22:09.433762Z",
     "iopub.status.idle": "2022-11-04T13:22:09.445134Z",
     "shell.execute_reply": "2022-11-04T13:22:09.443695Z"
    },
    "papermill": {
     "duration": 0.029598,
     "end_time": "2022-11-04T13:22:09.447982",
     "exception": false,
     "start_time": "2022-11-04T13:22:09.418384",
     "status": "completed"
    },
    "tags": []
   },
   "outputs": [],
   "source": [
    "description = pd.read_csv(\"../input/home-credit-default-risk/HomeCredit_columns_description.csv\", encoding= \"ISO-8859-1\")"
   ]
  },
  {
   "cell_type": "code",
   "execution_count": 5,
   "id": "405072b1",
   "metadata": {
    "execution": {
     "iopub.execute_input": "2022-11-04T13:22:09.476813Z",
     "iopub.status.busy": "2022-11-04T13:22:09.476432Z",
     "iopub.status.idle": "2022-11-04T13:22:09.485215Z",
     "shell.execute_reply": "2022-11-04T13:22:09.483798Z"
    },
    "papermill": {
     "duration": 0.025928,
     "end_time": "2022-11-04T13:22:09.487434",
     "exception": false,
     "start_time": "2022-11-04T13:22:09.461506",
     "status": "completed"
    },
    "tags": []
   },
   "outputs": [],
   "source": [
    "description = description[description[\"Table\"] == \"previous_application.csv\"][[\"Row\", \"Description\"]]"
   ]
  },
  {
   "cell_type": "code",
   "execution_count": 6,
   "id": "3efd1b21",
   "metadata": {
    "execution": {
     "iopub.execute_input": "2022-11-04T13:22:09.515876Z",
     "iopub.status.busy": "2022-11-04T13:22:09.515505Z",
     "iopub.status.idle": "2022-11-04T13:22:09.529422Z",
     "shell.execute_reply": "2022-11-04T13:22:09.528218Z"
    },
    "papermill": {
     "duration": 0.031027,
     "end_time": "2022-11-04T13:22:09.531785",
     "exception": false,
     "start_time": "2022-11-04T13:22:09.500758",
     "status": "completed"
    },
    "tags": []
   },
   "outputs": [
    {
     "data": {
      "text/html": [
       "<div>\n",
       "<style scoped>\n",
       "    .dataframe tbody tr th:only-of-type {\n",
       "        vertical-align: middle;\n",
       "    }\n",
       "\n",
       "    .dataframe tbody tr th {\n",
       "        vertical-align: top;\n",
       "    }\n",
       "\n",
       "    .dataframe thead th {\n",
       "        text-align: right;\n",
       "    }\n",
       "</style>\n",
       "<table border=\"1\" class=\"dataframe\">\n",
       "  <thead>\n",
       "    <tr style=\"text-align: right;\">\n",
       "      <th></th>\n",
       "      <th>Row</th>\n",
       "      <th>Description</th>\n",
       "    </tr>\n",
       "  </thead>\n",
       "  <tbody>\n",
       "    <tr>\n",
       "      <th>173</th>\n",
       "      <td>SK_ID_PREV</td>\n",
       "      <td>ID of previous credit in Home credit related t...</td>\n",
       "    </tr>\n",
       "    <tr>\n",
       "      <th>174</th>\n",
       "      <td>SK_ID_CURR</td>\n",
       "      <td>ID of loan in our sample</td>\n",
       "    </tr>\n",
       "    <tr>\n",
       "      <th>175</th>\n",
       "      <td>NAME_CONTRACT_TYPE</td>\n",
       "      <td>Contract product type (Cash loan, consumer loa...</td>\n",
       "    </tr>\n",
       "    <tr>\n",
       "      <th>176</th>\n",
       "      <td>AMT_ANNUITY</td>\n",
       "      <td>Annuity of previous application</td>\n",
       "    </tr>\n",
       "    <tr>\n",
       "      <th>177</th>\n",
       "      <td>AMT_APPLICATION</td>\n",
       "      <td>For how much credit did client ask on the prev...</td>\n",
       "    </tr>\n",
       "    <tr>\n",
       "      <th>178</th>\n",
       "      <td>AMT_CREDIT</td>\n",
       "      <td>Final credit amount on the previous applicatio...</td>\n",
       "    </tr>\n",
       "    <tr>\n",
       "      <th>179</th>\n",
       "      <td>AMT_DOWN_PAYMENT</td>\n",
       "      <td>Down payment on the previous application</td>\n",
       "    </tr>\n",
       "    <tr>\n",
       "      <th>180</th>\n",
       "      <td>AMT_GOODS_PRICE</td>\n",
       "      <td>Goods price of good that client asked for (if ...</td>\n",
       "    </tr>\n",
       "    <tr>\n",
       "      <th>181</th>\n",
       "      <td>WEEKDAY_APPR_PROCESS_START</td>\n",
       "      <td>On which day of the week did the client apply ...</td>\n",
       "    </tr>\n",
       "    <tr>\n",
       "      <th>182</th>\n",
       "      <td>HOUR_APPR_PROCESS_START</td>\n",
       "      <td>Approximately at what day hour did the client ...</td>\n",
       "    </tr>\n",
       "    <tr>\n",
       "      <th>183</th>\n",
       "      <td>FLAG_LAST_APPL_PER_CONTRACT</td>\n",
       "      <td>Flag if it was last application for the previo...</td>\n",
       "    </tr>\n",
       "    <tr>\n",
       "      <th>184</th>\n",
       "      <td>NFLAG_LAST_APPL_IN_DAY</td>\n",
       "      <td>Flag if the application was the last applicati...</td>\n",
       "    </tr>\n",
       "    <tr>\n",
       "      <th>185</th>\n",
       "      <td>NFLAG_MICRO_CASH</td>\n",
       "      <td>Flag Micro finance loan</td>\n",
       "    </tr>\n",
       "    <tr>\n",
       "      <th>186</th>\n",
       "      <td>RATE_DOWN_PAYMENT</td>\n",
       "      <td>Down payment rate normalized on previous credit</td>\n",
       "    </tr>\n",
       "    <tr>\n",
       "      <th>187</th>\n",
       "      <td>RATE_INTEREST_PRIMARY</td>\n",
       "      <td>Interest rate normalized on previous credit</td>\n",
       "    </tr>\n",
       "    <tr>\n",
       "      <th>188</th>\n",
       "      <td>RATE_INTEREST_PRIVILEGED</td>\n",
       "      <td>Interest rate normalized on previous credit</td>\n",
       "    </tr>\n",
       "    <tr>\n",
       "      <th>189</th>\n",
       "      <td>NAME_CASH_LOAN_PURPOSE</td>\n",
       "      <td>Purpose of the cash loan</td>\n",
       "    </tr>\n",
       "    <tr>\n",
       "      <th>190</th>\n",
       "      <td>NAME_CONTRACT_STATUS</td>\n",
       "      <td>Contract status (approved, cancelled, ...) of ...</td>\n",
       "    </tr>\n",
       "    <tr>\n",
       "      <th>191</th>\n",
       "      <td>DAYS_DECISION</td>\n",
       "      <td>Relative to current application when was the d...</td>\n",
       "    </tr>\n",
       "    <tr>\n",
       "      <th>192</th>\n",
       "      <td>NAME_PAYMENT_TYPE</td>\n",
       "      <td>Payment method that client chose to pay for th...</td>\n",
       "    </tr>\n",
       "    <tr>\n",
       "      <th>193</th>\n",
       "      <td>CODE_REJECT_REASON</td>\n",
       "      <td>Why was the previous application rejected</td>\n",
       "    </tr>\n",
       "    <tr>\n",
       "      <th>194</th>\n",
       "      <td>NAME_TYPE_SUITE</td>\n",
       "      <td>Who accompanied client when applying for the p...</td>\n",
       "    </tr>\n",
       "    <tr>\n",
       "      <th>195</th>\n",
       "      <td>NAME_CLIENT_TYPE</td>\n",
       "      <td>Was the client old or new client when applying...</td>\n",
       "    </tr>\n",
       "    <tr>\n",
       "      <th>196</th>\n",
       "      <td>NAME_GOODS_CATEGORY</td>\n",
       "      <td>What kind of goods did the client apply for in...</td>\n",
       "    </tr>\n",
       "    <tr>\n",
       "      <th>197</th>\n",
       "      <td>NAME_PORTFOLIO</td>\n",
       "      <td>Was the previous application for CASH, POS, CA...</td>\n",
       "    </tr>\n",
       "    <tr>\n",
       "      <th>198</th>\n",
       "      <td>NAME_PRODUCT_TYPE</td>\n",
       "      <td>Was the previous application x-sell o walk-in</td>\n",
       "    </tr>\n",
       "    <tr>\n",
       "      <th>199</th>\n",
       "      <td>CHANNEL_TYPE</td>\n",
       "      <td>Through which channel we acquired the client o...</td>\n",
       "    </tr>\n",
       "    <tr>\n",
       "      <th>200</th>\n",
       "      <td>SELLERPLACE_AREA</td>\n",
       "      <td>Selling area of seller place of the previous a...</td>\n",
       "    </tr>\n",
       "    <tr>\n",
       "      <th>201</th>\n",
       "      <td>NAME_SELLER_INDUSTRY</td>\n",
       "      <td>The industry of the seller</td>\n",
       "    </tr>\n",
       "    <tr>\n",
       "      <th>202</th>\n",
       "      <td>CNT_PAYMENT</td>\n",
       "      <td>Term of previous credit at application of the ...</td>\n",
       "    </tr>\n",
       "    <tr>\n",
       "      <th>203</th>\n",
       "      <td>NAME_YIELD_GROUP</td>\n",
       "      <td>Grouped interest rate into small medium and hi...</td>\n",
       "    </tr>\n",
       "    <tr>\n",
       "      <th>204</th>\n",
       "      <td>PRODUCT_COMBINATION</td>\n",
       "      <td>Detailed product combination of the previous a...</td>\n",
       "    </tr>\n",
       "    <tr>\n",
       "      <th>205</th>\n",
       "      <td>DAYS_FIRST_DRAWING</td>\n",
       "      <td>Relative to application date of current applic...</td>\n",
       "    </tr>\n",
       "    <tr>\n",
       "      <th>206</th>\n",
       "      <td>DAYS_FIRST_DUE</td>\n",
       "      <td>Relative to application date of current applic...</td>\n",
       "    </tr>\n",
       "    <tr>\n",
       "      <th>207</th>\n",
       "      <td>DAYS_LAST_DUE_1ST_VERSION</td>\n",
       "      <td>Relative to application date of current applic...</td>\n",
       "    </tr>\n",
       "    <tr>\n",
       "      <th>208</th>\n",
       "      <td>DAYS_LAST_DUE</td>\n",
       "      <td>Relative to application date of current applic...</td>\n",
       "    </tr>\n",
       "    <tr>\n",
       "      <th>209</th>\n",
       "      <td>DAYS_TERMINATION</td>\n",
       "      <td>Relative to application date of current applic...</td>\n",
       "    </tr>\n",
       "    <tr>\n",
       "      <th>210</th>\n",
       "      <td>NFLAG_INSURED_ON_APPROVAL</td>\n",
       "      <td>Did the client requested insurance during the ...</td>\n",
       "    </tr>\n",
       "  </tbody>\n",
       "</table>\n",
       "</div>"
      ],
      "text/plain": [
       "                             Row  \\\n",
       "173                  SK_ID_PREV    \n",
       "174                   SK_ID_CURR   \n",
       "175           NAME_CONTRACT_TYPE   \n",
       "176                  AMT_ANNUITY   \n",
       "177              AMT_APPLICATION   \n",
       "178                   AMT_CREDIT   \n",
       "179             AMT_DOWN_PAYMENT   \n",
       "180              AMT_GOODS_PRICE   \n",
       "181   WEEKDAY_APPR_PROCESS_START   \n",
       "182      HOUR_APPR_PROCESS_START   \n",
       "183  FLAG_LAST_APPL_PER_CONTRACT   \n",
       "184       NFLAG_LAST_APPL_IN_DAY   \n",
       "185             NFLAG_MICRO_CASH   \n",
       "186            RATE_DOWN_PAYMENT   \n",
       "187        RATE_INTEREST_PRIMARY   \n",
       "188     RATE_INTEREST_PRIVILEGED   \n",
       "189       NAME_CASH_LOAN_PURPOSE   \n",
       "190         NAME_CONTRACT_STATUS   \n",
       "191                DAYS_DECISION   \n",
       "192            NAME_PAYMENT_TYPE   \n",
       "193           CODE_REJECT_REASON   \n",
       "194              NAME_TYPE_SUITE   \n",
       "195             NAME_CLIENT_TYPE   \n",
       "196          NAME_GOODS_CATEGORY   \n",
       "197               NAME_PORTFOLIO   \n",
       "198            NAME_PRODUCT_TYPE   \n",
       "199                 CHANNEL_TYPE   \n",
       "200             SELLERPLACE_AREA   \n",
       "201         NAME_SELLER_INDUSTRY   \n",
       "202                  CNT_PAYMENT   \n",
       "203             NAME_YIELD_GROUP   \n",
       "204          PRODUCT_COMBINATION   \n",
       "205           DAYS_FIRST_DRAWING   \n",
       "206               DAYS_FIRST_DUE   \n",
       "207    DAYS_LAST_DUE_1ST_VERSION   \n",
       "208                DAYS_LAST_DUE   \n",
       "209             DAYS_TERMINATION   \n",
       "210    NFLAG_INSURED_ON_APPROVAL   \n",
       "\n",
       "                                           Description  \n",
       "173  ID of previous credit in Home credit related t...  \n",
       "174                           ID of loan in our sample  \n",
       "175  Contract product type (Cash loan, consumer loa...  \n",
       "176                    Annuity of previous application  \n",
       "177  For how much credit did client ask on the prev...  \n",
       "178  Final credit amount on the previous applicatio...  \n",
       "179           Down payment on the previous application  \n",
       "180  Goods price of good that client asked for (if ...  \n",
       "181  On which day of the week did the client apply ...  \n",
       "182  Approximately at what day hour did the client ...  \n",
       "183  Flag if it was last application for the previo...  \n",
       "184  Flag if the application was the last applicati...  \n",
       "185                            Flag Micro finance loan  \n",
       "186    Down payment rate normalized on previous credit  \n",
       "187        Interest rate normalized on previous credit  \n",
       "188        Interest rate normalized on previous credit  \n",
       "189                           Purpose of the cash loan  \n",
       "190  Contract status (approved, cancelled, ...) of ...  \n",
       "191  Relative to current application when was the d...  \n",
       "192  Payment method that client chose to pay for th...  \n",
       "193          Why was the previous application rejected  \n",
       "194  Who accompanied client when applying for the p...  \n",
       "195  Was the client old or new client when applying...  \n",
       "196  What kind of goods did the client apply for in...  \n",
       "197  Was the previous application for CASH, POS, CA...  \n",
       "198      Was the previous application x-sell o walk-in  \n",
       "199  Through which channel we acquired the client o...  \n",
       "200  Selling area of seller place of the previous a...  \n",
       "201                         The industry of the seller  \n",
       "202  Term of previous credit at application of the ...  \n",
       "203  Grouped interest rate into small medium and hi...  \n",
       "204  Detailed product combination of the previous a...  \n",
       "205  Relative to application date of current applic...  \n",
       "206  Relative to application date of current applic...  \n",
       "207  Relative to application date of current applic...  \n",
       "208  Relative to application date of current applic...  \n",
       "209  Relative to application date of current applic...  \n",
       "210  Did the client requested insurance during the ...  "
      ]
     },
     "execution_count": 6,
     "metadata": {},
     "output_type": "execute_result"
    }
   ],
   "source": [
    "description"
   ]
  },
  {
   "cell_type": "code",
   "execution_count": 7,
   "id": "8ea73f3b",
   "metadata": {
    "execution": {
     "iopub.execute_input": "2022-11-04T13:22:09.561850Z",
     "iopub.status.busy": "2022-11-04T13:22:09.561432Z",
     "iopub.status.idle": "2022-11-04T13:22:09.566028Z",
     "shell.execute_reply": "2022-11-04T13:22:09.565184Z"
    },
    "papermill": {
     "duration": 0.022388,
     "end_time": "2022-11-04T13:22:09.568092",
     "exception": false,
     "start_time": "2022-11-04T13:22:09.545704",
     "status": "completed"
    },
    "tags": []
   },
   "outputs": [],
   "source": [
    "def search_description(name):\n",
    "    return description[description[\"Row\"] == name].values"
   ]
  },
  {
   "cell_type": "code",
   "execution_count": 8,
   "id": "180cdd7a",
   "metadata": {
    "execution": {
     "iopub.execute_input": "2022-11-04T13:22:09.597460Z",
     "iopub.status.busy": "2022-11-04T13:22:09.597020Z",
     "iopub.status.idle": "2022-11-04T13:22:09.605413Z",
     "shell.execute_reply": "2022-11-04T13:22:09.604283Z"
    },
    "papermill": {
     "duration": 0.025882,
     "end_time": "2022-11-04T13:22:09.607745",
     "exception": false,
     "start_time": "2022-11-04T13:22:09.581863",
     "status": "completed"
    },
    "tags": []
   },
   "outputs": [
    {
     "data": {
      "text/plain": [
       "array([['DAYS_TERMINATION',\n",
       "        'Relative to application date of current application when was the expected termination of the previous application']],\n",
       "      dtype=object)"
      ]
     },
     "execution_count": 8,
     "metadata": {},
     "output_type": "execute_result"
    }
   ],
   "source": [
    "search_description(\"DAYS_TERMINATION\")"
   ]
  },
  {
   "cell_type": "code",
   "execution_count": 9,
   "id": "80694905",
   "metadata": {
    "execution": {
     "iopub.execute_input": "2022-11-04T13:22:09.637551Z",
     "iopub.status.busy": "2022-11-04T13:22:09.637032Z",
     "iopub.status.idle": "2022-11-04T13:22:09.643633Z",
     "shell.execute_reply": "2022-11-04T13:22:09.642811Z"
    },
    "papermill": {
     "duration": 0.024236,
     "end_time": "2022-11-04T13:22:09.645904",
     "exception": false,
     "start_time": "2022-11-04T13:22:09.621668",
     "status": "completed"
    },
    "tags": []
   },
   "outputs": [
    {
     "data": {
      "text/plain": [
       "Index(['SK_ID_PREV', 'SK_ID_CURR', 'NAME_CONTRACT_TYPE', 'AMT_ANNUITY',\n",
       "       'AMT_APPLICATION', 'AMT_CREDIT', 'AMT_DOWN_PAYMENT', 'AMT_GOODS_PRICE',\n",
       "       'WEEKDAY_APPR_PROCESS_START', 'HOUR_APPR_PROCESS_START',\n",
       "       'FLAG_LAST_APPL_PER_CONTRACT', 'NFLAG_LAST_APPL_IN_DAY',\n",
       "       'RATE_DOWN_PAYMENT', 'RATE_INTEREST_PRIMARY',\n",
       "       'RATE_INTEREST_PRIVILEGED', 'NAME_CASH_LOAN_PURPOSE',\n",
       "       'NAME_CONTRACT_STATUS', 'DAYS_DECISION', 'NAME_PAYMENT_TYPE',\n",
       "       'CODE_REJECT_REASON', 'NAME_TYPE_SUITE', 'NAME_CLIENT_TYPE',\n",
       "       'NAME_GOODS_CATEGORY', 'NAME_PORTFOLIO', 'NAME_PRODUCT_TYPE',\n",
       "       'CHANNEL_TYPE', 'SELLERPLACE_AREA', 'NAME_SELLER_INDUSTRY',\n",
       "       'CNT_PAYMENT', 'NAME_YIELD_GROUP', 'PRODUCT_COMBINATION',\n",
       "       'DAYS_FIRST_DRAWING', 'DAYS_FIRST_DUE', 'DAYS_LAST_DUE_1ST_VERSION',\n",
       "       'DAYS_LAST_DUE', 'DAYS_TERMINATION', 'NFLAG_INSURED_ON_APPROVAL'],\n",
       "      dtype='object')"
      ]
     },
     "execution_count": 9,
     "metadata": {},
     "output_type": "execute_result"
    }
   ],
   "source": [
    "previous_application.columns"
   ]
  },
  {
   "cell_type": "code",
   "execution_count": 10,
   "id": "0911e106",
   "metadata": {
    "execution": {
     "iopub.execute_input": "2022-11-04T13:22:09.676231Z",
     "iopub.status.busy": "2022-11-04T13:22:09.675800Z",
     "iopub.status.idle": "2022-11-04T13:22:09.682374Z",
     "shell.execute_reply": "2022-11-04T13:22:09.681202Z"
    },
    "papermill": {
     "duration": 0.024734,
     "end_time": "2022-11-04T13:22:09.684793",
     "exception": false,
     "start_time": "2022-11-04T13:22:09.660059",
     "status": "completed"
    },
    "tags": []
   },
   "outputs": [],
   "source": [
    "def check_missing_data(df):\n",
    "    total = df.isnull().sum().sort_values(ascending = False)\n",
    "    percent = ((df.isnull().sum()/len(df)) *100).sort_values(ascending = False)\n",
    "    return pd.concat([total, percent], axis=1, keys=['Total', 'Percent'])"
   ]
  },
  {
   "cell_type": "code",
   "execution_count": 11,
   "id": "5c5ce493",
   "metadata": {
    "execution": {
     "iopub.execute_input": "2022-11-04T13:22:09.714838Z",
     "iopub.status.busy": "2022-11-04T13:22:09.714451Z",
     "iopub.status.idle": "2022-11-04T13:22:12.093503Z",
     "shell.execute_reply": "2022-11-04T13:22:12.092299Z"
    },
    "papermill": {
     "duration": 2.397456,
     "end_time": "2022-11-04T13:22:12.096322",
     "exception": false,
     "start_time": "2022-11-04T13:22:09.698866",
     "status": "completed"
    },
    "tags": []
   },
   "outputs": [
    {
     "data": {
      "text/html": [
       "<div>\n",
       "<style scoped>\n",
       "    .dataframe tbody tr th:only-of-type {\n",
       "        vertical-align: middle;\n",
       "    }\n",
       "\n",
       "    .dataframe tbody tr th {\n",
       "        vertical-align: top;\n",
       "    }\n",
       "\n",
       "    .dataframe thead th {\n",
       "        text-align: right;\n",
       "    }\n",
       "</style>\n",
       "<table border=\"1\" class=\"dataframe\">\n",
       "  <thead>\n",
       "    <tr style=\"text-align: right;\">\n",
       "      <th></th>\n",
       "      <th>Total</th>\n",
       "      <th>Percent</th>\n",
       "    </tr>\n",
       "  </thead>\n",
       "  <tbody>\n",
       "    <tr>\n",
       "      <th>RATE_INTEREST_PRIVILEGED</th>\n",
       "      <td>1664263</td>\n",
       "      <td>99.643698</td>\n",
       "    </tr>\n",
       "    <tr>\n",
       "      <th>RATE_INTEREST_PRIMARY</th>\n",
       "      <td>1664263</td>\n",
       "      <td>99.643698</td>\n",
       "    </tr>\n",
       "    <tr>\n",
       "      <th>AMT_DOWN_PAYMENT</th>\n",
       "      <td>895844</td>\n",
       "      <td>53.636480</td>\n",
       "    </tr>\n",
       "    <tr>\n",
       "      <th>RATE_DOWN_PAYMENT</th>\n",
       "      <td>895844</td>\n",
       "      <td>53.636480</td>\n",
       "    </tr>\n",
       "    <tr>\n",
       "      <th>NAME_TYPE_SUITE</th>\n",
       "      <td>820405</td>\n",
       "      <td>49.119754</td>\n",
       "    </tr>\n",
       "    <tr>\n",
       "      <th>NFLAG_INSURED_ON_APPROVAL</th>\n",
       "      <td>673065</td>\n",
       "      <td>40.298129</td>\n",
       "    </tr>\n",
       "    <tr>\n",
       "      <th>DAYS_TERMINATION</th>\n",
       "      <td>673065</td>\n",
       "      <td>40.298129</td>\n",
       "    </tr>\n",
       "    <tr>\n",
       "      <th>DAYS_LAST_DUE</th>\n",
       "      <td>673065</td>\n",
       "      <td>40.298129</td>\n",
       "    </tr>\n",
       "    <tr>\n",
       "      <th>DAYS_LAST_DUE_1ST_VERSION</th>\n",
       "      <td>673065</td>\n",
       "      <td>40.298129</td>\n",
       "    </tr>\n",
       "    <tr>\n",
       "      <th>DAYS_FIRST_DUE</th>\n",
       "      <td>673065</td>\n",
       "      <td>40.298129</td>\n",
       "    </tr>\n",
       "    <tr>\n",
       "      <th>DAYS_FIRST_DRAWING</th>\n",
       "      <td>673065</td>\n",
       "      <td>40.298129</td>\n",
       "    </tr>\n",
       "    <tr>\n",
       "      <th>AMT_GOODS_PRICE</th>\n",
       "      <td>385515</td>\n",
       "      <td>23.081773</td>\n",
       "    </tr>\n",
       "    <tr>\n",
       "      <th>AMT_ANNUITY</th>\n",
       "      <td>372235</td>\n",
       "      <td>22.286665</td>\n",
       "    </tr>\n",
       "    <tr>\n",
       "      <th>CNT_PAYMENT</th>\n",
       "      <td>372230</td>\n",
       "      <td>22.286366</td>\n",
       "    </tr>\n",
       "    <tr>\n",
       "      <th>PRODUCT_COMBINATION</th>\n",
       "      <td>346</td>\n",
       "      <td>0.020716</td>\n",
       "    </tr>\n",
       "    <tr>\n",
       "      <th>AMT_CREDIT</th>\n",
       "      <td>1</td>\n",
       "      <td>0.000060</td>\n",
       "    </tr>\n",
       "    <tr>\n",
       "      <th>NAME_YIELD_GROUP</th>\n",
       "      <td>0</td>\n",
       "      <td>0.000000</td>\n",
       "    </tr>\n",
       "    <tr>\n",
       "      <th>NAME_PORTFOLIO</th>\n",
       "      <td>0</td>\n",
       "      <td>0.000000</td>\n",
       "    </tr>\n",
       "    <tr>\n",
       "      <th>NAME_SELLER_INDUSTRY</th>\n",
       "      <td>0</td>\n",
       "      <td>0.000000</td>\n",
       "    </tr>\n",
       "    <tr>\n",
       "      <th>SELLERPLACE_AREA</th>\n",
       "      <td>0</td>\n",
       "      <td>0.000000</td>\n",
       "    </tr>\n",
       "    <tr>\n",
       "      <th>CHANNEL_TYPE</th>\n",
       "      <td>0</td>\n",
       "      <td>0.000000</td>\n",
       "    </tr>\n",
       "    <tr>\n",
       "      <th>NAME_PRODUCT_TYPE</th>\n",
       "      <td>0</td>\n",
       "      <td>0.000000</td>\n",
       "    </tr>\n",
       "    <tr>\n",
       "      <th>SK_ID_PREV</th>\n",
       "      <td>0</td>\n",
       "      <td>0.000000</td>\n",
       "    </tr>\n",
       "    <tr>\n",
       "      <th>NAME_GOODS_CATEGORY</th>\n",
       "      <td>0</td>\n",
       "      <td>0.000000</td>\n",
       "    </tr>\n",
       "    <tr>\n",
       "      <th>NAME_CLIENT_TYPE</th>\n",
       "      <td>0</td>\n",
       "      <td>0.000000</td>\n",
       "    </tr>\n",
       "    <tr>\n",
       "      <th>CODE_REJECT_REASON</th>\n",
       "      <td>0</td>\n",
       "      <td>0.000000</td>\n",
       "    </tr>\n",
       "    <tr>\n",
       "      <th>SK_ID_CURR</th>\n",
       "      <td>0</td>\n",
       "      <td>0.000000</td>\n",
       "    </tr>\n",
       "    <tr>\n",
       "      <th>DAYS_DECISION</th>\n",
       "      <td>0</td>\n",
       "      <td>0.000000</td>\n",
       "    </tr>\n",
       "    <tr>\n",
       "      <th>NAME_CONTRACT_STATUS</th>\n",
       "      <td>0</td>\n",
       "      <td>0.000000</td>\n",
       "    </tr>\n",
       "    <tr>\n",
       "      <th>NAME_CASH_LOAN_PURPOSE</th>\n",
       "      <td>0</td>\n",
       "      <td>0.000000</td>\n",
       "    </tr>\n",
       "    <tr>\n",
       "      <th>NFLAG_LAST_APPL_IN_DAY</th>\n",
       "      <td>0</td>\n",
       "      <td>0.000000</td>\n",
       "    </tr>\n",
       "    <tr>\n",
       "      <th>FLAG_LAST_APPL_PER_CONTRACT</th>\n",
       "      <td>0</td>\n",
       "      <td>0.000000</td>\n",
       "    </tr>\n",
       "    <tr>\n",
       "      <th>HOUR_APPR_PROCESS_START</th>\n",
       "      <td>0</td>\n",
       "      <td>0.000000</td>\n",
       "    </tr>\n",
       "    <tr>\n",
       "      <th>WEEKDAY_APPR_PROCESS_START</th>\n",
       "      <td>0</td>\n",
       "      <td>0.000000</td>\n",
       "    </tr>\n",
       "    <tr>\n",
       "      <th>AMT_APPLICATION</th>\n",
       "      <td>0</td>\n",
       "      <td>0.000000</td>\n",
       "    </tr>\n",
       "    <tr>\n",
       "      <th>NAME_CONTRACT_TYPE</th>\n",
       "      <td>0</td>\n",
       "      <td>0.000000</td>\n",
       "    </tr>\n",
       "    <tr>\n",
       "      <th>NAME_PAYMENT_TYPE</th>\n",
       "      <td>0</td>\n",
       "      <td>0.000000</td>\n",
       "    </tr>\n",
       "  </tbody>\n",
       "</table>\n",
       "</div>"
      ],
      "text/plain": [
       "                               Total    Percent\n",
       "RATE_INTEREST_PRIVILEGED     1664263  99.643698\n",
       "RATE_INTEREST_PRIMARY        1664263  99.643698\n",
       "AMT_DOWN_PAYMENT              895844  53.636480\n",
       "RATE_DOWN_PAYMENT             895844  53.636480\n",
       "NAME_TYPE_SUITE               820405  49.119754\n",
       "NFLAG_INSURED_ON_APPROVAL     673065  40.298129\n",
       "DAYS_TERMINATION              673065  40.298129\n",
       "DAYS_LAST_DUE                 673065  40.298129\n",
       "DAYS_LAST_DUE_1ST_VERSION     673065  40.298129\n",
       "DAYS_FIRST_DUE                673065  40.298129\n",
       "DAYS_FIRST_DRAWING            673065  40.298129\n",
       "AMT_GOODS_PRICE               385515  23.081773\n",
       "AMT_ANNUITY                   372235  22.286665\n",
       "CNT_PAYMENT                   372230  22.286366\n",
       "PRODUCT_COMBINATION              346   0.020716\n",
       "AMT_CREDIT                         1   0.000060\n",
       "NAME_YIELD_GROUP                   0   0.000000\n",
       "NAME_PORTFOLIO                     0   0.000000\n",
       "NAME_SELLER_INDUSTRY               0   0.000000\n",
       "SELLERPLACE_AREA                   0   0.000000\n",
       "CHANNEL_TYPE                       0   0.000000\n",
       "NAME_PRODUCT_TYPE                  0   0.000000\n",
       "SK_ID_PREV                         0   0.000000\n",
       "NAME_GOODS_CATEGORY                0   0.000000\n",
       "NAME_CLIENT_TYPE                   0   0.000000\n",
       "CODE_REJECT_REASON                 0   0.000000\n",
       "SK_ID_CURR                         0   0.000000\n",
       "DAYS_DECISION                      0   0.000000\n",
       "NAME_CONTRACT_STATUS               0   0.000000\n",
       "NAME_CASH_LOAN_PURPOSE             0   0.000000\n",
       "NFLAG_LAST_APPL_IN_DAY             0   0.000000\n",
       "FLAG_LAST_APPL_PER_CONTRACT        0   0.000000\n",
       "HOUR_APPR_PROCESS_START            0   0.000000\n",
       "WEEKDAY_APPR_PROCESS_START         0   0.000000\n",
       "AMT_APPLICATION                    0   0.000000\n",
       "NAME_CONTRACT_TYPE                 0   0.000000\n",
       "NAME_PAYMENT_TYPE                  0   0.000000"
      ]
     },
     "execution_count": 11,
     "metadata": {},
     "output_type": "execute_result"
    }
   ],
   "source": [
    "check_missing_data(previous_application)"
   ]
  },
  {
   "cell_type": "markdown",
   "id": "bbc85ba9",
   "metadata": {
    "papermill": {
     "duration": 0.014512,
     "end_time": "2022-11-04T13:22:12.125487",
     "exception": false,
     "start_time": "2022-11-04T13:22:12.110975",
     "status": "completed"
    },
    "tags": []
   },
   "source": [
    "Let's drop RATE_INTEREST_PRIVILEGED\t and RATE_INTEREST_PRIMARY because almost all of them is null"
   ]
  },
  {
   "cell_type": "code",
   "execution_count": 12,
   "id": "1fe2f4c1",
   "metadata": {
    "execution": {
     "iopub.execute_input": "2022-11-04T13:22:12.156225Z",
     "iopub.status.busy": "2022-11-04T13:22:12.155832Z",
     "iopub.status.idle": "2022-11-04T13:22:12.553439Z",
     "shell.execute_reply": "2022-11-04T13:22:12.552247Z"
    },
    "papermill": {
     "duration": 0.416209,
     "end_time": "2022-11-04T13:22:12.556243",
     "exception": false,
     "start_time": "2022-11-04T13:22:12.140034",
     "status": "completed"
    },
    "tags": []
   },
   "outputs": [],
   "source": [
    "previous_application = previous_application.drop([\"RATE_INTEREST_PRIVILEGED\", \"RATE_INTEREST_PRIMARY\"], axis = 1)\n"
   ]
  },
  {
   "cell_type": "code",
   "execution_count": 13,
   "id": "878ab2cc",
   "metadata": {
    "execution": {
     "iopub.execute_input": "2022-11-04T13:22:12.587939Z",
     "iopub.status.busy": "2022-11-04T13:22:12.586758Z",
     "iopub.status.idle": "2022-11-04T13:22:17.853391Z",
     "shell.execute_reply": "2022-11-04T13:22:17.852273Z"
    },
    "papermill": {
     "duration": 5.284921,
     "end_time": "2022-11-04T13:22:17.855753",
     "exception": false,
     "start_time": "2022-11-04T13:22:12.570832",
     "status": "completed"
    },
    "tags": []
   },
   "outputs": [
    {
     "data": {
      "text/plain": [
       "0"
      ]
     },
     "execution_count": 13,
     "metadata": {},
     "output_type": "execute_result"
    }
   ],
   "source": [
    "previous_application.duplicated().sum()"
   ]
  },
  {
   "cell_type": "code",
   "execution_count": 14,
   "id": "f6612eff",
   "metadata": {
    "execution": {
     "iopub.execute_input": "2022-11-04T13:22:17.886497Z",
     "iopub.status.busy": "2022-11-04T13:22:17.886065Z",
     "iopub.status.idle": "2022-11-04T13:22:19.767205Z",
     "shell.execute_reply": "2022-11-04T13:22:19.765936Z"
    },
    "papermill": {
     "duration": 1.899761,
     "end_time": "2022-11-04T13:22:19.770157",
     "exception": false,
     "start_time": "2022-11-04T13:22:17.870396",
     "status": "completed"
    },
    "tags": []
   },
   "outputs": [
    {
     "data": {
      "text/html": [
       "<div>\n",
       "<style scoped>\n",
       "    .dataframe tbody tr th:only-of-type {\n",
       "        vertical-align: middle;\n",
       "    }\n",
       "\n",
       "    .dataframe tbody tr th {\n",
       "        vertical-align: top;\n",
       "    }\n",
       "\n",
       "    .dataframe thead th {\n",
       "        text-align: right;\n",
       "    }\n",
       "</style>\n",
       "<table border=\"1\" class=\"dataframe\">\n",
       "  <thead>\n",
       "    <tr style=\"text-align: right;\">\n",
       "      <th></th>\n",
       "      <th>SK_ID_PREV</th>\n",
       "      <th>SK_ID_CURR</th>\n",
       "      <th>AMT_ANNUITY</th>\n",
       "      <th>AMT_APPLICATION</th>\n",
       "      <th>AMT_CREDIT</th>\n",
       "      <th>AMT_DOWN_PAYMENT</th>\n",
       "      <th>AMT_GOODS_PRICE</th>\n",
       "      <th>HOUR_APPR_PROCESS_START</th>\n",
       "      <th>NFLAG_LAST_APPL_IN_DAY</th>\n",
       "      <th>RATE_DOWN_PAYMENT</th>\n",
       "      <th>DAYS_DECISION</th>\n",
       "      <th>SELLERPLACE_AREA</th>\n",
       "      <th>CNT_PAYMENT</th>\n",
       "      <th>DAYS_FIRST_DRAWING</th>\n",
       "      <th>DAYS_FIRST_DUE</th>\n",
       "      <th>DAYS_LAST_DUE_1ST_VERSION</th>\n",
       "      <th>DAYS_LAST_DUE</th>\n",
       "      <th>DAYS_TERMINATION</th>\n",
       "      <th>NFLAG_INSURED_ON_APPROVAL</th>\n",
       "    </tr>\n",
       "  </thead>\n",
       "  <tbody>\n",
       "    <tr>\n",
       "      <th>count</th>\n",
       "      <td>1.670214e+06</td>\n",
       "      <td>1.670214e+06</td>\n",
       "      <td>1.297979e+06</td>\n",
       "      <td>1.670214e+06</td>\n",
       "      <td>1.670213e+06</td>\n",
       "      <td>7.743700e+05</td>\n",
       "      <td>1.284699e+06</td>\n",
       "      <td>1.670214e+06</td>\n",
       "      <td>1.670214e+06</td>\n",
       "      <td>774370.000000</td>\n",
       "      <td>1.670214e+06</td>\n",
       "      <td>1.670214e+06</td>\n",
       "      <td>1.297984e+06</td>\n",
       "      <td>997149.000000</td>\n",
       "      <td>997149.000000</td>\n",
       "      <td>997149.000000</td>\n",
       "      <td>997149.000000</td>\n",
       "      <td>997149.000000</td>\n",
       "      <td>997149.000000</td>\n",
       "    </tr>\n",
       "    <tr>\n",
       "      <th>mean</th>\n",
       "      <td>1.923089e+06</td>\n",
       "      <td>2.783572e+05</td>\n",
       "      <td>1.595512e+04</td>\n",
       "      <td>1.752339e+05</td>\n",
       "      <td>1.961140e+05</td>\n",
       "      <td>6.697402e+03</td>\n",
       "      <td>2.278473e+05</td>\n",
       "      <td>1.248418e+01</td>\n",
       "      <td>9.964675e-01</td>\n",
       "      <td>0.079637</td>\n",
       "      <td>-8.806797e+02</td>\n",
       "      <td>3.139511e+02</td>\n",
       "      <td>1.605408e+01</td>\n",
       "      <td>342209.855039</td>\n",
       "      <td>13826.269337</td>\n",
       "      <td>33767.774054</td>\n",
       "      <td>76582.403064</td>\n",
       "      <td>81992.343838</td>\n",
       "      <td>0.332570</td>\n",
       "    </tr>\n",
       "    <tr>\n",
       "      <th>std</th>\n",
       "      <td>5.325980e+05</td>\n",
       "      <td>1.028148e+05</td>\n",
       "      <td>1.478214e+04</td>\n",
       "      <td>2.927798e+05</td>\n",
       "      <td>3.185746e+05</td>\n",
       "      <td>2.092150e+04</td>\n",
       "      <td>3.153966e+05</td>\n",
       "      <td>3.334028e+00</td>\n",
       "      <td>5.932963e-02</td>\n",
       "      <td>0.107823</td>\n",
       "      <td>7.790997e+02</td>\n",
       "      <td>7.127443e+03</td>\n",
       "      <td>1.456729e+01</td>\n",
       "      <td>88916.115833</td>\n",
       "      <td>72444.869708</td>\n",
       "      <td>106857.034789</td>\n",
       "      <td>149647.415123</td>\n",
       "      <td>153303.516729</td>\n",
       "      <td>0.471134</td>\n",
       "    </tr>\n",
       "    <tr>\n",
       "      <th>min</th>\n",
       "      <td>1.000001e+06</td>\n",
       "      <td>1.000010e+05</td>\n",
       "      <td>0.000000e+00</td>\n",
       "      <td>0.000000e+00</td>\n",
       "      <td>0.000000e+00</td>\n",
       "      <td>-9.000000e-01</td>\n",
       "      <td>0.000000e+00</td>\n",
       "      <td>0.000000e+00</td>\n",
       "      <td>0.000000e+00</td>\n",
       "      <td>-0.000015</td>\n",
       "      <td>-2.922000e+03</td>\n",
       "      <td>-1.000000e+00</td>\n",
       "      <td>0.000000e+00</td>\n",
       "      <td>-2922.000000</td>\n",
       "      <td>-2892.000000</td>\n",
       "      <td>-2801.000000</td>\n",
       "      <td>-2889.000000</td>\n",
       "      <td>-2874.000000</td>\n",
       "      <td>0.000000</td>\n",
       "    </tr>\n",
       "    <tr>\n",
       "      <th>25%</th>\n",
       "      <td>1.461857e+06</td>\n",
       "      <td>1.893290e+05</td>\n",
       "      <td>6.321780e+03</td>\n",
       "      <td>1.872000e+04</td>\n",
       "      <td>2.416050e+04</td>\n",
       "      <td>0.000000e+00</td>\n",
       "      <td>5.084100e+04</td>\n",
       "      <td>1.000000e+01</td>\n",
       "      <td>1.000000e+00</td>\n",
       "      <td>0.000000</td>\n",
       "      <td>-1.300000e+03</td>\n",
       "      <td>-1.000000e+00</td>\n",
       "      <td>6.000000e+00</td>\n",
       "      <td>365243.000000</td>\n",
       "      <td>-1628.000000</td>\n",
       "      <td>-1242.000000</td>\n",
       "      <td>-1314.000000</td>\n",
       "      <td>-1270.000000</td>\n",
       "      <td>0.000000</td>\n",
       "    </tr>\n",
       "    <tr>\n",
       "      <th>50%</th>\n",
       "      <td>1.923110e+06</td>\n",
       "      <td>2.787145e+05</td>\n",
       "      <td>1.125000e+04</td>\n",
       "      <td>7.104600e+04</td>\n",
       "      <td>8.054100e+04</td>\n",
       "      <td>1.638000e+03</td>\n",
       "      <td>1.123200e+05</td>\n",
       "      <td>1.200000e+01</td>\n",
       "      <td>1.000000e+00</td>\n",
       "      <td>0.051605</td>\n",
       "      <td>-5.810000e+02</td>\n",
       "      <td>3.000000e+00</td>\n",
       "      <td>1.200000e+01</td>\n",
       "      <td>365243.000000</td>\n",
       "      <td>-831.000000</td>\n",
       "      <td>-361.000000</td>\n",
       "      <td>-537.000000</td>\n",
       "      <td>-499.000000</td>\n",
       "      <td>0.000000</td>\n",
       "    </tr>\n",
       "    <tr>\n",
       "      <th>75%</th>\n",
       "      <td>2.384280e+06</td>\n",
       "      <td>3.675140e+05</td>\n",
       "      <td>2.065842e+04</td>\n",
       "      <td>1.803600e+05</td>\n",
       "      <td>2.164185e+05</td>\n",
       "      <td>7.740000e+03</td>\n",
       "      <td>2.340000e+05</td>\n",
       "      <td>1.500000e+01</td>\n",
       "      <td>1.000000e+00</td>\n",
       "      <td>0.108909</td>\n",
       "      <td>-2.800000e+02</td>\n",
       "      <td>8.200000e+01</td>\n",
       "      <td>2.400000e+01</td>\n",
       "      <td>365243.000000</td>\n",
       "      <td>-411.000000</td>\n",
       "      <td>129.000000</td>\n",
       "      <td>-74.000000</td>\n",
       "      <td>-44.000000</td>\n",
       "      <td>1.000000</td>\n",
       "    </tr>\n",
       "    <tr>\n",
       "      <th>max</th>\n",
       "      <td>2.845382e+06</td>\n",
       "      <td>4.562550e+05</td>\n",
       "      <td>4.180581e+05</td>\n",
       "      <td>6.905160e+06</td>\n",
       "      <td>6.905160e+06</td>\n",
       "      <td>3.060045e+06</td>\n",
       "      <td>6.905160e+06</td>\n",
       "      <td>2.300000e+01</td>\n",
       "      <td>1.000000e+00</td>\n",
       "      <td>1.000000</td>\n",
       "      <td>-1.000000e+00</td>\n",
       "      <td>4.000000e+06</td>\n",
       "      <td>8.400000e+01</td>\n",
       "      <td>365243.000000</td>\n",
       "      <td>365243.000000</td>\n",
       "      <td>365243.000000</td>\n",
       "      <td>365243.000000</td>\n",
       "      <td>365243.000000</td>\n",
       "      <td>1.000000</td>\n",
       "    </tr>\n",
       "  </tbody>\n",
       "</table>\n",
       "</div>"
      ],
      "text/plain": [
       "         SK_ID_PREV    SK_ID_CURR   AMT_ANNUITY  AMT_APPLICATION  \\\n",
       "count  1.670214e+06  1.670214e+06  1.297979e+06     1.670214e+06   \n",
       "mean   1.923089e+06  2.783572e+05  1.595512e+04     1.752339e+05   \n",
       "std    5.325980e+05  1.028148e+05  1.478214e+04     2.927798e+05   \n",
       "min    1.000001e+06  1.000010e+05  0.000000e+00     0.000000e+00   \n",
       "25%    1.461857e+06  1.893290e+05  6.321780e+03     1.872000e+04   \n",
       "50%    1.923110e+06  2.787145e+05  1.125000e+04     7.104600e+04   \n",
       "75%    2.384280e+06  3.675140e+05  2.065842e+04     1.803600e+05   \n",
       "max    2.845382e+06  4.562550e+05  4.180581e+05     6.905160e+06   \n",
       "\n",
       "         AMT_CREDIT  AMT_DOWN_PAYMENT  AMT_GOODS_PRICE  \\\n",
       "count  1.670213e+06      7.743700e+05     1.284699e+06   \n",
       "mean   1.961140e+05      6.697402e+03     2.278473e+05   \n",
       "std    3.185746e+05      2.092150e+04     3.153966e+05   \n",
       "min    0.000000e+00     -9.000000e-01     0.000000e+00   \n",
       "25%    2.416050e+04      0.000000e+00     5.084100e+04   \n",
       "50%    8.054100e+04      1.638000e+03     1.123200e+05   \n",
       "75%    2.164185e+05      7.740000e+03     2.340000e+05   \n",
       "max    6.905160e+06      3.060045e+06     6.905160e+06   \n",
       "\n",
       "       HOUR_APPR_PROCESS_START  NFLAG_LAST_APPL_IN_DAY  RATE_DOWN_PAYMENT  \\\n",
       "count             1.670214e+06            1.670214e+06      774370.000000   \n",
       "mean              1.248418e+01            9.964675e-01           0.079637   \n",
       "std               3.334028e+00            5.932963e-02           0.107823   \n",
       "min               0.000000e+00            0.000000e+00          -0.000015   \n",
       "25%               1.000000e+01            1.000000e+00           0.000000   \n",
       "50%               1.200000e+01            1.000000e+00           0.051605   \n",
       "75%               1.500000e+01            1.000000e+00           0.108909   \n",
       "max               2.300000e+01            1.000000e+00           1.000000   \n",
       "\n",
       "       DAYS_DECISION  SELLERPLACE_AREA   CNT_PAYMENT  DAYS_FIRST_DRAWING  \\\n",
       "count   1.670214e+06      1.670214e+06  1.297984e+06       997149.000000   \n",
       "mean   -8.806797e+02      3.139511e+02  1.605408e+01       342209.855039   \n",
       "std     7.790997e+02      7.127443e+03  1.456729e+01        88916.115833   \n",
       "min    -2.922000e+03     -1.000000e+00  0.000000e+00        -2922.000000   \n",
       "25%    -1.300000e+03     -1.000000e+00  6.000000e+00       365243.000000   \n",
       "50%    -5.810000e+02      3.000000e+00  1.200000e+01       365243.000000   \n",
       "75%    -2.800000e+02      8.200000e+01  2.400000e+01       365243.000000   \n",
       "max    -1.000000e+00      4.000000e+06  8.400000e+01       365243.000000   \n",
       "\n",
       "       DAYS_FIRST_DUE  DAYS_LAST_DUE_1ST_VERSION  DAYS_LAST_DUE  \\\n",
       "count   997149.000000              997149.000000  997149.000000   \n",
       "mean     13826.269337               33767.774054   76582.403064   \n",
       "std      72444.869708              106857.034789  149647.415123   \n",
       "min      -2892.000000               -2801.000000   -2889.000000   \n",
       "25%      -1628.000000               -1242.000000   -1314.000000   \n",
       "50%       -831.000000                -361.000000    -537.000000   \n",
       "75%       -411.000000                 129.000000     -74.000000   \n",
       "max     365243.000000              365243.000000  365243.000000   \n",
       "\n",
       "       DAYS_TERMINATION  NFLAG_INSURED_ON_APPROVAL  \n",
       "count     997149.000000              997149.000000  \n",
       "mean       81992.343838                   0.332570  \n",
       "std       153303.516729                   0.471134  \n",
       "min        -2874.000000                   0.000000  \n",
       "25%        -1270.000000                   0.000000  \n",
       "50%         -499.000000                   0.000000  \n",
       "75%          -44.000000                   1.000000  \n",
       "max       365243.000000                   1.000000  "
      ]
     },
     "execution_count": 14,
     "metadata": {},
     "output_type": "execute_result"
    }
   ],
   "source": [
    "previous_application.describe(include = np.number)"
   ]
  },
  {
   "cell_type": "code",
   "execution_count": 15,
   "id": "fda84947",
   "metadata": {
    "execution": {
     "iopub.execute_input": "2022-11-04T13:22:19.803637Z",
     "iopub.status.busy": "2022-11-04T13:22:19.803188Z",
     "iopub.status.idle": "2022-11-04T13:22:20.404358Z",
     "shell.execute_reply": "2022-11-04T13:22:20.403071Z"
    },
    "papermill": {
     "duration": 0.620612,
     "end_time": "2022-11-04T13:22:20.407499",
     "exception": false,
     "start_time": "2022-11-04T13:22:19.786887",
     "status": "completed"
    },
    "tags": []
   },
   "outputs": [],
   "source": [
    "previous_application[\"NAME_CONTRACT_STATUS\"] = previous_application[\"NAME_CONTRACT_STATUS\"].astype(\"category\")"
   ]
  },
  {
   "cell_type": "code",
   "execution_count": 16,
   "id": "04d8a70b",
   "metadata": {
    "execution": {
     "iopub.execute_input": "2022-11-04T13:22:20.439929Z",
     "iopub.status.busy": "2022-11-04T13:22:20.439552Z",
     "iopub.status.idle": "2022-11-04T13:22:20.992798Z",
     "shell.execute_reply": "2022-11-04T13:22:20.991069Z"
    },
    "papermill": {
     "duration": 0.573546,
     "end_time": "2022-11-04T13:22:20.996185",
     "exception": false,
     "start_time": "2022-11-04T13:22:20.422639",
     "status": "completed"
    },
    "tags": []
   },
   "outputs": [],
   "source": [
    "gr_by_status = previous_application.groupby(\"NAME_CONTRACT_STATUS\")\n",
    "mean_amount_status = gr_by_status.mean()[[\"AMT_ANNUITY\", \"AMT_APPLICATION\", \"AMT_CREDIT\", \"AMT_DOWN_PAYMENT\", \"AMT_GOODS_PRICE\"]]"
   ]
  },
  {
   "cell_type": "code",
   "execution_count": 17,
   "id": "9d226039",
   "metadata": {
    "execution": {
     "iopub.execute_input": "2022-11-04T13:22:21.028962Z",
     "iopub.status.busy": "2022-11-04T13:22:21.027716Z",
     "iopub.status.idle": "2022-11-04T13:22:21.035764Z",
     "shell.execute_reply": "2022-11-04T13:22:21.034498Z"
    },
    "papermill": {
     "duration": 0.026971,
     "end_time": "2022-11-04T13:22:21.038374",
     "exception": false,
     "start_time": "2022-11-04T13:22:21.011403",
     "status": "completed"
    },
    "tags": []
   },
   "outputs": [
    {
     "data": {
      "text/plain": [
       "Index(['AMT_ANNUITY', 'AMT_APPLICATION', 'AMT_CREDIT', 'AMT_DOWN_PAYMENT',\n",
       "       'AMT_GOODS_PRICE'],\n",
       "      dtype='object')"
      ]
     },
     "execution_count": 17,
     "metadata": {},
     "output_type": "execute_result"
    }
   ],
   "source": [
    "mean_amount_status.columns"
   ]
  },
  {
   "cell_type": "code",
   "execution_count": 18,
   "id": "1da2e8a6",
   "metadata": {
    "execution": {
     "iopub.execute_input": "2022-11-04T13:22:21.071377Z",
     "iopub.status.busy": "2022-11-04T13:22:21.070133Z",
     "iopub.status.idle": "2022-11-04T13:22:21.084748Z",
     "shell.execute_reply": "2022-11-04T13:22:21.083354Z"
    },
    "papermill": {
     "duration": 0.033564,
     "end_time": "2022-11-04T13:22:21.087192",
     "exception": false,
     "start_time": "2022-11-04T13:22:21.053628",
     "status": "completed"
    },
    "tags": []
   },
   "outputs": [
    {
     "data": {
      "text/html": [
       "<div>\n",
       "<style scoped>\n",
       "    .dataframe tbody tr th:only-of-type {\n",
       "        vertical-align: middle;\n",
       "    }\n",
       "\n",
       "    .dataframe tbody tr th {\n",
       "        vertical-align: top;\n",
       "    }\n",
       "\n",
       "    .dataframe thead th {\n",
       "        text-align: right;\n",
       "    }\n",
       "</style>\n",
       "<table border=\"1\" class=\"dataframe\">\n",
       "  <thead>\n",
       "    <tr style=\"text-align: right;\">\n",
       "      <th></th>\n",
       "      <th>AMT_ANNUITY</th>\n",
       "      <th>AMT_APPLICATION</th>\n",
       "      <th>AMT_CREDIT</th>\n",
       "      <th>AMT_DOWN_PAYMENT</th>\n",
       "      <th>AMT_GOODS_PRICE</th>\n",
       "    </tr>\n",
       "    <tr>\n",
       "      <th>NAME_CONTRACT_STATUS</th>\n",
       "      <th></th>\n",
       "      <th></th>\n",
       "      <th></th>\n",
       "      <th></th>\n",
       "      <th></th>\n",
       "    </tr>\n",
       "  </thead>\n",
       "  <tbody>\n",
       "    <tr>\n",
       "      <th>Approved</th>\n",
       "      <td>14720.350105</td>\n",
       "      <td>180567.000949</td>\n",
       "      <td>202564.182131</td>\n",
       "      <td>6862.640909</td>\n",
       "      <td>188348.698834</td>\n",
       "    </tr>\n",
       "    <tr>\n",
       "      <th>Canceled</th>\n",
       "      <td>30289.763892</td>\n",
       "      <td>22730.011481</td>\n",
       "      <td>24187.057127</td>\n",
       "      <td>31181.777216</td>\n",
       "      <td>668893.339078</td>\n",
       "    </tr>\n",
       "    <tr>\n",
       "      <th>Refused</th>\n",
       "      <td>20498.160274</td>\n",
       "      <td>331760.510938</td>\n",
       "      <td>371689.841222</td>\n",
       "      <td>7103.541914</td>\n",
       "      <td>380452.993018</td>\n",
       "    </tr>\n",
       "    <tr>\n",
       "      <th>Unused offer</th>\n",
       "      <td>10145.798635</td>\n",
       "      <td>69760.732970</td>\n",
       "      <td>69783.990800</td>\n",
       "      <td>1.078207</td>\n",
       "      <td>69773.929734</td>\n",
       "    </tr>\n",
       "  </tbody>\n",
       "</table>\n",
       "</div>"
      ],
      "text/plain": [
       "                       AMT_ANNUITY  AMT_APPLICATION     AMT_CREDIT  \\\n",
       "NAME_CONTRACT_STATUS                                                 \n",
       "Approved              14720.350105    180567.000949  202564.182131   \n",
       "Canceled              30289.763892     22730.011481   24187.057127   \n",
       "Refused               20498.160274    331760.510938  371689.841222   \n",
       "Unused offer          10145.798635     69760.732970   69783.990800   \n",
       "\n",
       "                      AMT_DOWN_PAYMENT  AMT_GOODS_PRICE  \n",
       "NAME_CONTRACT_STATUS                                     \n",
       "Approved                   6862.640909    188348.698834  \n",
       "Canceled                  31181.777216    668893.339078  \n",
       "Refused                    7103.541914    380452.993018  \n",
       "Unused offer                  1.078207     69773.929734  "
      ]
     },
     "execution_count": 18,
     "metadata": {},
     "output_type": "execute_result"
    }
   ],
   "source": [
    "mean_amount_status"
   ]
  },
  {
   "cell_type": "code",
   "execution_count": 19,
   "id": "23bdc444",
   "metadata": {
    "execution": {
     "iopub.execute_input": "2022-11-04T13:22:21.121310Z",
     "iopub.status.busy": "2022-11-04T13:22:21.120617Z",
     "iopub.status.idle": "2022-11-04T13:22:21.632229Z",
     "shell.execute_reply": "2022-11-04T13:22:21.630982Z"
    },
    "papermill": {
     "duration": 0.531751,
     "end_time": "2022-11-04T13:22:21.635051",
     "exception": false,
     "start_time": "2022-11-04T13:22:21.103300",
     "status": "completed"
    },
    "tags": []
   },
   "outputs": [
    {
     "name": "stderr",
     "output_type": "stream",
     "text": [
      "/opt/conda/lib/python3.7/site-packages/seaborn/_decorators.py:43: FutureWarning: Pass the following variable as a keyword arg: x. From version 0.12, the only valid positional argument will be `data`, and passing other arguments without an explicit keyword will result in an error or misinterpretation.\n",
      "  FutureWarning\n"
     ]
    },
    {
     "data": {
      "text/plain": [
       "<AxesSubplot:xlabel='AMT_DOWN_PAYMENT'>"
      ]
     },
     "execution_count": 19,
     "metadata": {},
     "output_type": "execute_result"
    },
    {
     "data": {
      "image/png": "[encoded data removed]",
      "text/plain": [
       "<Figure size 432x288 with 1 Axes>"
      ]
     },
     "metadata": {
      "needs_background": "light"
     },
     "output_type": "display_data"
    }
   ],
   "source": [
    "sns.boxplot(previous_application[\"AMT_DOWN_PAYMENT\"])"
   ]
  },
  {
   "cell_type": "code",
   "execution_count": 20,
   "id": "1fd517e1",
   "metadata": {
    "execution": {
     "iopub.execute_input": "2022-11-04T13:22:21.671330Z",
     "iopub.status.busy": "2022-11-04T13:22:21.670903Z",
     "iopub.status.idle": "2022-11-04T13:22:26.519323Z",
     "shell.execute_reply": "2022-11-04T13:22:26.518132Z"
    },
    "papermill": {
     "duration": 4.870757,
     "end_time": "2022-11-04T13:22:26.522152",
     "exception": false,
     "start_time": "2022-11-04T13:22:21.651395",
     "status": "completed"
    },
    "tags": []
   },
   "outputs": [
    {
     "data": {
      "text/plain": [
       "<AxesSubplot:>"
      ]
     },
     "execution_count": 20,
     "metadata": {},
     "output_type": "execute_result"
    },
    {
     "data": {
      "image/png": "[encoded data removed]",
      "text/plain": [
       "<Figure size 432x288 with 2 Axes>"
      ]
     },
     "metadata": {
      "needs_background": "light"
     },
     "output_type": "display_data"
    }
   ],
   "source": [
    "mask = np.triu(np.ones_like(previous_application.corr()))\n",
    "sns.heatmap(previous_application.corr(), mask = mask)"
   ]
  },
  {
   "cell_type": "code",
   "execution_count": 21,
   "id": "3f7a8d73",
   "metadata": {
    "execution": {
     "iopub.execute_input": "2022-11-04T13:22:26.557797Z",
     "iopub.status.busy": "2022-11-04T13:22:26.557416Z",
     "iopub.status.idle": "2022-11-04T13:22:26.564619Z",
     "shell.execute_reply": "2022-11-04T13:22:26.563546Z"
    },
    "papermill": {
     "duration": 0.027933,
     "end_time": "2022-11-04T13:22:26.567103",
     "exception": false,
     "start_time": "2022-11-04T13:22:26.539170",
     "status": "completed"
    },
    "tags": []
   },
   "outputs": [],
   "source": [
    "def find_high_corr_pair(df):\n",
    "    corr_matrix = df.corr()\n",
    "    upper = corr_matrix.where(np.triu(np.ones(corr_matrix.shape), k=1).astype(np.bool))\n",
    "    temp = []\n",
    "    for col in upper.columns:\n",
    "        for ind in upper.index:\n",
    "            if upper.loc[ind, col] > 0.8:\n",
    "                temp.append((col, ind))\n",
    "    return temp"
   ]
  },
  {
   "cell_type": "code",
   "execution_count": 22,
   "id": "7909acac",
   "metadata": {
    "execution": {
     "iopub.execute_input": "2022-11-04T13:22:26.611483Z",
     "iopub.status.busy": "2022-11-04T13:22:26.610495Z",
     "iopub.status.idle": "2022-11-04T13:22:28.842362Z",
     "shell.execute_reply": "2022-11-04T13:22:28.841037Z"
    },
    "papermill": {
     "duration": 2.261479,
     "end_time": "2022-11-04T13:22:28.845996",
     "exception": false,
     "start_time": "2022-11-04T13:22:26.584517",
     "status": "completed"
    },
    "tags": []
   },
   "outputs": [
    {
     "name": "stdout",
     "output_type": "stream",
     "text": [
      "[('AMT_APPLICATION', 'AMT_ANNUITY'), ('AMT_CREDIT', 'AMT_ANNUITY'), ('AMT_CREDIT', 'AMT_APPLICATION'), ('AMT_GOODS_PRICE', 'AMT_ANNUITY'), ('AMT_GOODS_PRICE', 'AMT_APPLICATION'), ('AMT_GOODS_PRICE', 'AMT_CREDIT'), ('DAYS_TERMINATION', 'DAYS_LAST_DUE')]\n"
     ]
    },
    {
     "name": "stderr",
     "output_type": "stream",
     "text": [
      "/opt/conda/lib/python3.7/site-packages/ipykernel_launcher.py:3: DeprecationWarning: `np.bool` is a deprecated alias for the builtin `bool`. To silence this warning, use `bool` by itself. Doing this will not modify any behavior and is safe. If you specifically wanted the numpy scalar type, use `np.bool_` here.\n",
      "Deprecated in NumPy 1.20; for more details and guidance: https://numpy.org/devdocs/release/1.20.0-notes.html#deprecations\n",
      "  This is separate from the ipykernel package so we can avoid doing imports until\n"
     ]
    }
   ],
   "source": [
    "high_corr = find_high_corr_pair(previous_application)\n",
    "print(high_corr)"
   ]
  },
  {
   "cell_type": "code",
   "execution_count": 23,
   "id": "59ac7566",
   "metadata": {
    "execution": {
     "iopub.execute_input": "2022-11-04T13:22:28.882557Z",
     "iopub.status.busy": "2022-11-04T13:22:28.882108Z",
     "iopub.status.idle": "2022-11-04T13:22:29.352540Z",
     "shell.execute_reply": "2022-11-04T13:22:29.351059Z"
    },
    "papermill": {
     "duration": 0.491662,
     "end_time": "2022-11-04T13:22:29.355226",
     "exception": false,
     "start_time": "2022-11-04T13:22:28.863564",
     "status": "completed"
    },
    "tags": []
   },
   "outputs": [],
   "source": [
    "to_drop = [\"AMT_APPLICATION\", 'DAYS_LAST_DUE', 'AMT_ANNUITY', 'AMT_GOODS_PRICE']\n",
    "previous_application.drop(to_drop, axis = 1, inplace = True)\n"
   ]
  },
  {
   "cell_type": "code",
   "execution_count": 24,
   "id": "c87c377e",
   "metadata": {
    "execution": {
     "iopub.execute_input": "2022-11-04T13:22:29.390581Z",
     "iopub.status.busy": "2022-11-04T13:22:29.390168Z",
     "iopub.status.idle": "2022-11-04T13:22:30.804759Z",
     "shell.execute_reply": "2022-11-04T13:22:30.803234Z"
    },
    "papermill": {
     "duration": 1.436435,
     "end_time": "2022-11-04T13:22:30.808463",
     "exception": false,
     "start_time": "2022-11-04T13:22:29.372028",
     "status": "completed"
    },
    "tags": []
   },
   "outputs": [
    {
     "name": "stdout",
     "output_type": "stream",
     "text": [
      "[]\n"
     ]
    },
    {
     "name": "stderr",
     "output_type": "stream",
     "text": [
      "/opt/conda/lib/python3.7/site-packages/ipykernel_launcher.py:3: DeprecationWarning: `np.bool` is a deprecated alias for the builtin `bool`. To silence this warning, use `bool` by itself. Doing this will not modify any behavior and is safe. If you specifically wanted the numpy scalar type, use `np.bool_` here.\n",
      "Deprecated in NumPy 1.20; for more details and guidance: https://numpy.org/devdocs/release/1.20.0-notes.html#deprecations\n",
      "  This is separate from the ipykernel package so we can avoid doing imports until\n"
     ]
    }
   ],
   "source": [
    "high_corr = find_high_corr_pair(previous_application)\n",
    "print(high_corr)"
   ]
  },
  {
   "cell_type": "markdown",
   "id": "7cb031da",
   "metadata": {
    "papermill": {
     "duration": 0.016683,
     "end_time": "2022-11-04T13:22:30.842708",
     "exception": false,
     "start_time": "2022-11-04T13:22:30.826025",
     "status": "completed"
    },
    "tags": []
   },
   "source": [
    "# Data processing"
   ]
  },
  {
   "cell_type": "code",
   "execution_count": 25,
   "id": "3a6f29a9",
   "metadata": {
    "execution": {
     "iopub.execute_input": "2022-11-04T13:22:30.878442Z",
     "iopub.status.busy": "2022-11-04T13:22:30.878022Z",
     "iopub.status.idle": "2022-11-04T13:22:30.886351Z",
     "shell.execute_reply": "2022-11-04T13:22:30.884765Z"
    },
    "papermill": {
     "duration": 0.029388,
     "end_time": "2022-11-04T13:22:30.889007",
     "exception": false,
     "start_time": "2022-11-04T13:22:30.859619",
     "status": "completed"
    },
    "tags": []
   },
   "outputs": [],
   "source": [
    "def plot_numeric_dist(table, column):\n",
    "    fig, ax = plt.subplots(figsize=(8,5))\n",
    "    ax = sns.boxplot(previous_application[column], color= 'g')\n",
    "\n",
    "def plot_numeric_dist_log(table, column):\n",
    "    fig, ax = plt.subplots(figsize=(8,5))\n",
    "    ax = sns.boxplot(np.log1p(table[column]), color= 'g').set(title=f\"Distribution of {column}\")"
   ]
  },
  {
   "cell_type": "code",
   "execution_count": 26,
   "id": "188b1ee1",
   "metadata": {
    "execution": {
     "iopub.execute_input": "2022-11-04T13:22:30.925111Z",
     "iopub.status.busy": "2022-11-04T13:22:30.924744Z",
     "iopub.status.idle": "2022-11-04T13:22:32.178584Z",
     "shell.execute_reply": "2022-11-04T13:22:32.177469Z"
    },
    "papermill": {
     "duration": 1.274761,
     "end_time": "2022-11-04T13:22:32.181072",
     "exception": false,
     "start_time": "2022-11-04T13:22:30.906311",
     "status": "completed"
    },
    "tags": []
   },
   "outputs": [
    {
     "name": "stderr",
     "output_type": "stream",
     "text": [
      "/opt/conda/lib/python3.7/site-packages/seaborn/_decorators.py:43: FutureWarning: Pass the following variable as a keyword arg: x. From version 0.12, the only valid positional argument will be `data`, and passing other arguments without an explicit keyword will result in an error or misinterpretation.\n",
      "  FutureWarning\n",
      "/opt/conda/lib/python3.7/site-packages/seaborn/_decorators.py:43: FutureWarning: Pass the following variable as a keyword arg: x. From version 0.12, the only valid positional argument will be `data`, and passing other arguments without an explicit keyword will result in an error or misinterpretation.\n",
      "  FutureWarning\n"
     ]
    },
    {
     "data": {
      "image/png": "[encoded data removed]",
      "text/plain": [
       "<Figure size 576x360 with 1 Axes>"
      ]
     },
     "metadata": {
      "needs_background": "light"
     },
     "output_type": "display_data"
    },
    {
     "data": {
      "image/png": "[encoded data removed]",
      "text/plain": [
       "<Figure size 576x360 with 1 Axes>"
      ]
     },
     "metadata": {
      "needs_background": "light"
     },
     "output_type": "display_data"
    }
   ],
   "source": [
    "for i in [\"AMT_CREDIT\", \"AMT_DOWN_PAYMENT\"]:\n",
    "    plot_numeric_dist(previous_application, i)"
   ]
  },
  {
   "cell_type": "markdown",
   "id": "ba928d17",
   "metadata": {
    "papermill": {
     "duration": 0.017026,
     "end_time": "2022-11-04T13:22:32.215638",
     "exception": false,
     "start_time": "2022-11-04T13:22:32.198612",
     "status": "completed"
    },
    "tags": []
   },
   "source": [
    "We can see all the values for the amount columns have outliers, however, the case that price of a good or the amount of credit is exceptionally high is possible and may not be due to error in data entry, therefore, we cannot drop these values. Instead, we can transform these columns to log scale to make it more normally distributed"
   ]
  },
  {
   "cell_type": "code",
   "execution_count": 27,
   "id": "efb8374e",
   "metadata": {
    "execution": {
     "iopub.execute_input": "2022-11-04T13:22:32.252551Z",
     "iopub.status.busy": "2022-11-04T13:22:32.252039Z",
     "iopub.status.idle": "2022-11-04T13:22:34.089591Z",
     "shell.execute_reply": "2022-11-04T13:22:34.088150Z"
    },
    "papermill": {
     "duration": 1.85998,
     "end_time": "2022-11-04T13:22:34.093052",
     "exception": false,
     "start_time": "2022-11-04T13:22:32.233072",
     "status": "completed"
    },
    "tags": []
   },
   "outputs": [
    {
     "name": "stderr",
     "output_type": "stream",
     "text": [
      "/opt/conda/lib/python3.7/site-packages/seaborn/_decorators.py:43: FutureWarning: Pass the following variable as a keyword arg: x. From version 0.12, the only valid positional argument will be `data`, and passing other arguments without an explicit keyword will result in an error or misinterpretation.\n",
      "  FutureWarning\n",
      "/opt/conda/lib/python3.7/site-packages/pandas/core/arraylike.py:364: RuntimeWarning: invalid value encountered in log1p\n",
      "  result = getattr(ufunc, method)(*inputs, **kwargs)\n",
      "/opt/conda/lib/python3.7/site-packages/seaborn/_decorators.py:43: FutureWarning: Pass the following variable as a keyword arg: x. From version 0.12, the only valid positional argument will be `data`, and passing other arguments without an explicit keyword will result in an error or misinterpretation.\n",
      "  FutureWarning\n"
     ]
    },
    {
     "data": {
      "image/png": "[encoded data removed]",
      "text/plain": [
       "<Figure size 576x360 with 1 Axes>"
      ]
     },
     "metadata": {
      "needs_background": "light"
     },
     "output_type": "display_data"
    },
    {
     "data": {
      "image/png": "[encoded data removed]",
      "text/plain": [
       "<Figure size 576x360 with 1 Axes>"
      ]
     },
     "metadata": {
      "needs_background": "light"
     },
     "output_type": "display_data"
    }
   ],
   "source": [
    "for i in [\"AMT_CREDIT\", \"AMT_DOWN_PAYMENT\"]:\n",
    "    previous_application[i] = np.log1p(previous_application[i])\n",
    "    plot_numeric_dist_log(previous_application, i)\n",
    "    previous_application.rename(columns={i: \"log_\" + i}, inplace = True)"
   ]
  },
  {
   "cell_type": "code",
   "execution_count": 28,
   "id": "eaec7d78",
   "metadata": {
    "execution": {
     "iopub.execute_input": "2022-11-04T13:22:34.132593Z",
     "iopub.status.busy": "2022-11-04T13:22:34.131956Z",
     "iopub.status.idle": "2022-11-04T13:22:34.161536Z",
     "shell.execute_reply": "2022-11-04T13:22:34.160302Z"
    },
    "papermill": {
     "duration": 0.052348,
     "end_time": "2022-11-04T13:22:34.164565",
     "exception": false,
     "start_time": "2022-11-04T13:22:34.112217",
     "status": "completed"
    },
    "tags": []
   },
   "outputs": [
    {
     "data": {
      "text/html": [
       "<div>\n",
       "<style scoped>\n",
       "    .dataframe tbody tr th:only-of-type {\n",
       "        vertical-align: middle;\n",
       "    }\n",
       "\n",
       "    .dataframe tbody tr th {\n",
       "        vertical-align: top;\n",
       "    }\n",
       "\n",
       "    .dataframe thead th {\n",
       "        text-align: right;\n",
       "    }\n",
       "</style>\n",
       "<table border=\"1\" class=\"dataframe\">\n",
       "  <thead>\n",
       "    <tr style=\"text-align: right;\">\n",
       "      <th></th>\n",
       "      <th>SK_ID_PREV</th>\n",
       "      <th>SK_ID_CURR</th>\n",
       "      <th>NAME_CONTRACT_TYPE</th>\n",
       "      <th>log_AMT_CREDIT</th>\n",
       "      <th>log_AMT_DOWN_PAYMENT</th>\n",
       "      <th>WEEKDAY_APPR_PROCESS_START</th>\n",
       "      <th>HOUR_APPR_PROCESS_START</th>\n",
       "      <th>FLAG_LAST_APPL_PER_CONTRACT</th>\n",
       "      <th>NFLAG_LAST_APPL_IN_DAY</th>\n",
       "      <th>RATE_DOWN_PAYMENT</th>\n",
       "      <th>...</th>\n",
       "      <th>SELLERPLACE_AREA</th>\n",
       "      <th>NAME_SELLER_INDUSTRY</th>\n",
       "      <th>CNT_PAYMENT</th>\n",
       "      <th>NAME_YIELD_GROUP</th>\n",
       "      <th>PRODUCT_COMBINATION</th>\n",
       "      <th>DAYS_FIRST_DRAWING</th>\n",
       "      <th>DAYS_FIRST_DUE</th>\n",
       "      <th>DAYS_LAST_DUE_1ST_VERSION</th>\n",
       "      <th>DAYS_TERMINATION</th>\n",
       "      <th>NFLAG_INSURED_ON_APPROVAL</th>\n",
       "    </tr>\n",
       "  </thead>\n",
       "  <tbody>\n",
       "    <tr>\n",
       "      <th>0</th>\n",
       "      <td>2030495</td>\n",
       "      <td>271877</td>\n",
       "      <td>Consumer loans</td>\n",
       "      <td>9.749520</td>\n",
       "      <td>0.0</td>\n",
       "      <td>SATURDAY</td>\n",
       "      <td>15</td>\n",
       "      <td>Y</td>\n",
       "      <td>1</td>\n",
       "      <td>0.0</td>\n",
       "      <td>...</td>\n",
       "      <td>35</td>\n",
       "      <td>Connectivity</td>\n",
       "      <td>12.0</td>\n",
       "      <td>middle</td>\n",
       "      <td>POS mobile with interest</td>\n",
       "      <td>365243.0</td>\n",
       "      <td>-42.0</td>\n",
       "      <td>300.0</td>\n",
       "      <td>-37.0</td>\n",
       "      <td>0.0</td>\n",
       "    </tr>\n",
       "    <tr>\n",
       "      <th>1</th>\n",
       "      <td>2802425</td>\n",
       "      <td>108129</td>\n",
       "      <td>Cash loans</td>\n",
       "      <td>13.429366</td>\n",
       "      <td>NaN</td>\n",
       "      <td>THURSDAY</td>\n",
       "      <td>11</td>\n",
       "      <td>Y</td>\n",
       "      <td>1</td>\n",
       "      <td>NaN</td>\n",
       "      <td>...</td>\n",
       "      <td>-1</td>\n",
       "      <td>XNA</td>\n",
       "      <td>36.0</td>\n",
       "      <td>low_action</td>\n",
       "      <td>Cash X-Sell: low</td>\n",
       "      <td>365243.0</td>\n",
       "      <td>-134.0</td>\n",
       "      <td>916.0</td>\n",
       "      <td>365243.0</td>\n",
       "      <td>1.0</td>\n",
       "    </tr>\n",
       "    <tr>\n",
       "      <th>2</th>\n",
       "      <td>2523466</td>\n",
       "      <td>122040</td>\n",
       "      <td>Cash loans</td>\n",
       "      <td>11.823681</td>\n",
       "      <td>NaN</td>\n",
       "      <td>TUESDAY</td>\n",
       "      <td>11</td>\n",
       "      <td>Y</td>\n",
       "      <td>1</td>\n",
       "      <td>NaN</td>\n",
       "      <td>...</td>\n",
       "      <td>-1</td>\n",
       "      <td>XNA</td>\n",
       "      <td>12.0</td>\n",
       "      <td>high</td>\n",
       "      <td>Cash X-Sell: high</td>\n",
       "      <td>365243.0</td>\n",
       "      <td>-271.0</td>\n",
       "      <td>59.0</td>\n",
       "      <td>365243.0</td>\n",
       "      <td>1.0</td>\n",
       "    </tr>\n",
       "    <tr>\n",
       "      <th>3</th>\n",
       "      <td>2819243</td>\n",
       "      <td>176158</td>\n",
       "      <td>Cash loans</td>\n",
       "      <td>13.062170</td>\n",
       "      <td>NaN</td>\n",
       "      <td>MONDAY</td>\n",
       "      <td>7</td>\n",
       "      <td>Y</td>\n",
       "      <td>1</td>\n",
       "      <td>NaN</td>\n",
       "      <td>...</td>\n",
       "      <td>-1</td>\n",
       "      <td>XNA</td>\n",
       "      <td>12.0</td>\n",
       "      <td>middle</td>\n",
       "      <td>Cash X-Sell: middle</td>\n",
       "      <td>365243.0</td>\n",
       "      <td>-482.0</td>\n",
       "      <td>-152.0</td>\n",
       "      <td>-177.0</td>\n",
       "      <td>1.0</td>\n",
       "    </tr>\n",
       "    <tr>\n",
       "      <th>4</th>\n",
       "      <td>1784265</td>\n",
       "      <td>202054</td>\n",
       "      <td>Cash loans</td>\n",
       "      <td>12.909309</td>\n",
       "      <td>NaN</td>\n",
       "      <td>THURSDAY</td>\n",
       "      <td>9</td>\n",
       "      <td>Y</td>\n",
       "      <td>1</td>\n",
       "      <td>NaN</td>\n",
       "      <td>...</td>\n",
       "      <td>-1</td>\n",
       "      <td>XNA</td>\n",
       "      <td>24.0</td>\n",
       "      <td>high</td>\n",
       "      <td>Cash Street: high</td>\n",
       "      <td>NaN</td>\n",
       "      <td>NaN</td>\n",
       "      <td>NaN</td>\n",
       "      <td>NaN</td>\n",
       "      <td>NaN</td>\n",
       "    </tr>\n",
       "  </tbody>\n",
       "</table>\n",
       "<p>5 rows × 31 columns</p>\n",
       "</div>"
      ],
      "text/plain": [
       "   SK_ID_PREV  SK_ID_CURR NAME_CONTRACT_TYPE  log_AMT_CREDIT  \\\n",
       "0     2030495      271877     Consumer loans        9.749520   \n",
       "1     2802425      108129         Cash loans       13.429366   \n",
       "2     2523466      122040         Cash loans       11.823681   \n",
       "3     2819243      176158         Cash loans       13.062170   \n",
       "4     1784265      202054         Cash loans       12.909309   \n",
       "\n",
       "   log_AMT_DOWN_PAYMENT WEEKDAY_APPR_PROCESS_START  HOUR_APPR_PROCESS_START  \\\n",
       "0                   0.0                   SATURDAY                       15   \n",
       "1                   NaN                   THURSDAY                       11   \n",
       "2                   NaN                    TUESDAY                       11   \n",
       "3                   NaN                     MONDAY                        7   \n",
       "4                   NaN                   THURSDAY                        9   \n",
       "\n",
       "  FLAG_LAST_APPL_PER_CONTRACT  NFLAG_LAST_APPL_IN_DAY  RATE_DOWN_PAYMENT  ...  \\\n",
       "0                           Y                       1                0.0  ...   \n",
       "1                           Y                       1                NaN  ...   \n",
       "2                           Y                       1                NaN  ...   \n",
       "3                           Y                       1                NaN  ...   \n",
       "4                           Y                       1                NaN  ...   \n",
       "\n",
       "  SELLERPLACE_AREA NAME_SELLER_INDUSTRY  CNT_PAYMENT NAME_YIELD_GROUP  \\\n",
       "0               35         Connectivity         12.0           middle   \n",
       "1               -1                  XNA         36.0       low_action   \n",
       "2               -1                  XNA         12.0             high   \n",
       "3               -1                  XNA         12.0           middle   \n",
       "4               -1                  XNA         24.0             high   \n",
       "\n",
       "        PRODUCT_COMBINATION DAYS_FIRST_DRAWING DAYS_FIRST_DUE  \\\n",
       "0  POS mobile with interest           365243.0          -42.0   \n",
       "1          Cash X-Sell: low           365243.0         -134.0   \n",
       "2         Cash X-Sell: high           365243.0         -271.0   \n",
       "3       Cash X-Sell: middle           365243.0         -482.0   \n",
       "4         Cash Street: high                NaN            NaN   \n",
       "\n",
       "  DAYS_LAST_DUE_1ST_VERSION DAYS_TERMINATION NFLAG_INSURED_ON_APPROVAL  \n",
       "0                     300.0            -37.0                       0.0  \n",
       "1                     916.0         365243.0                       1.0  \n",
       "2                      59.0         365243.0                       1.0  \n",
       "3                    -152.0           -177.0                       1.0  \n",
       "4                       NaN              NaN                       NaN  \n",
       "\n",
       "[5 rows x 31 columns]"
      ]
     },
     "execution_count": 28,
     "metadata": {},
     "output_type": "execute_result"
    }
   ],
   "source": [
    "previous_application.head()\n",
    "    "
   ]
  },
  {
   "cell_type": "markdown",
   "id": "719db9be",
   "metadata": {
    "papermill": {
     "duration": 0.018465,
     "end_time": "2022-11-04T13:22:34.202179",
     "exception": false,
     "start_time": "2022-11-04T13:22:34.183714",
     "status": "completed"
    },
    "tags": []
   },
   "source": []
  },
  {
   "cell_type": "markdown",
   "id": "8d914bf1",
   "metadata": {
    "papermill": {
     "duration": 0.018284,
     "end_time": "2022-11-04T13:22:34.238997",
     "exception": false,
     "start_time": "2022-11-04T13:22:34.220713",
     "status": "completed"
    },
    "tags": []
   },
   "source": [
    "# Exploring previous application"
   ]
  },
  {
   "cell_type": "code",
   "execution_count": 29,
   "id": "269d6c70",
   "metadata": {
    "execution": {
     "iopub.execute_input": "2022-11-04T13:22:34.278614Z",
     "iopub.status.busy": "2022-11-04T13:22:34.277909Z",
     "iopub.status.idle": "2022-11-04T13:22:34.501777Z",
     "shell.execute_reply": "2022-11-04T13:22:34.500573Z"
    },
    "papermill": {
     "duration": 0.246528,
     "end_time": "2022-11-04T13:22:34.504110",
     "exception": false,
     "start_time": "2022-11-04T13:22:34.257582",
     "status": "completed"
    },
    "tags": []
   },
   "outputs": [
    {
     "data": {
      "text/plain": [
       "<matplotlib.legend.Legend at 0x7f8850fade90>"
      ]
     },
     "execution_count": 29,
     "metadata": {},
     "output_type": "execute_result"
    },
    {
     "data": {
      "image/png": "[encoded data removed]",
      "text/plain": [
       "<Figure size 720x288 with 1 Axes>"
      ]
     },
     "metadata": {
      "needs_background": "light"
     },
     "output_type": "display_data"
    }
   ],
   "source": [
    "fig, ax = plt.subplots(figsize = (10, 4))\n",
    "x = mean_amount_status.index\n",
    "x_axis = np.arange(len(mean_amount_status.index))\n",
    "y = [\"AMT_ANNUITY\", \"AMT_CREDIT\", \"AMT_DOWN_PAYMENT\", \"AMT_GOODS_PRICE\"]\n",
    "for i in range(len(y)):\n",
    "    ax.bar(x_axis -0.2 + (i*0.1), mean_amount_status[y[i]], width=0.1, label = y[i])\n",
    "plt.xticks(x_axis, x)\n",
    "plt.legend()"
   ]
  },
  {
   "cell_type": "markdown",
   "id": "d487b85d",
   "metadata": {
    "papermill": {
     "duration": 0.018744,
     "end_time": "2022-11-04T13:22:34.541875",
     "exception": false,
     "start_time": "2022-11-04T13:22:34.523131",
     "status": "completed"
    },
    "tags": []
   },
   "source": [
    "Cancelled applications have high goods price"
   ]
  },
  {
   "cell_type": "code",
   "execution_count": 30,
   "id": "bb5446ae",
   "metadata": {
    "execution": {
     "iopub.execute_input": "2022-11-04T13:22:34.581914Z",
     "iopub.status.busy": "2022-11-04T13:22:34.581477Z",
     "iopub.status.idle": "2022-11-04T13:22:34.973468Z",
     "shell.execute_reply": "2022-11-04T13:22:34.971862Z"
    },
    "papermill": {
     "duration": 0.415175,
     "end_time": "2022-11-04T13:22:34.976054",
     "exception": false,
     "start_time": "2022-11-04T13:22:34.560879",
     "status": "completed"
    },
    "tags": []
   },
   "outputs": [
    {
     "name": "stderr",
     "output_type": "stream",
     "text": [
      "/opt/conda/lib/python3.7/site-packages/seaborn/_decorators.py:43: FutureWarning: Pass the following variable as a keyword arg: x. From version 0.12, the only valid positional argument will be `data`, and passing other arguments without an explicit keyword will result in an error or misinterpretation.\n",
      "  FutureWarning\n"
     ]
    },
    {
     "data": {
      "text/plain": [
       "<AxesSubplot:xlabel='DAYS_FIRST_DUE'>"
      ]
     },
     "execution_count": 30,
     "metadata": {},
     "output_type": "execute_result"
    },
    {
     "data": {
      "image/png": "[encoded data removed]",
      "text/plain": [
       "<Figure size 432x288 with 1 Axes>"
      ]
     },
     "metadata": {
      "needs_background": "light"
     },
     "output_type": "display_data"
    }
   ],
   "source": [
    "sns.boxplot(previous_application[\"DAYS_FIRST_DUE\"])"
   ]
  },
  {
   "cell_type": "markdown",
   "id": "b99e32b1",
   "metadata": {
    "papermill": {
     "duration": 0.0189,
     "end_time": "2022-11-04T13:22:35.014931",
     "exception": false,
     "start_time": "2022-11-04T13:22:34.996031",
     "status": "completed"
    },
    "tags": []
   },
   "source": [
    "## Contract status distribution in previously filed application"
   ]
  },
  {
   "cell_type": "code",
   "execution_count": 31,
   "id": "6692a90f",
   "metadata": {
    "execution": {
     "iopub.execute_input": "2022-11-04T13:22:35.055169Z",
     "iopub.status.busy": "2022-11-04T13:22:35.054717Z",
     "iopub.status.idle": "2022-11-04T13:22:35.285422Z",
     "shell.execute_reply": "2022-11-04T13:22:35.283786Z"
    },
    "papermill": {
     "duration": 0.255684,
     "end_time": "2022-11-04T13:22:35.289837",
     "exception": false,
     "start_time": "2022-11-04T13:22:35.034153",
     "status": "completed"
    },
    "tags": []
   },
   "outputs": [
    {
     "data": {
      "text/plain": [
       "Text(0.5, 1.0, 'Percentage of status from previous applicants')"
      ]
     },
     "execution_count": 31,
     "metadata": {},
     "output_type": "execute_result"
    },
    {
     "data": {
      "image/png": "[encoded data removed]",
      "text/plain": [
       "<Figure size 720x288 with 1 Axes>"
      ]
     },
     "metadata": {},
     "output_type": "display_data"
    }
   ],
   "source": [
    "fig, ax = plt.subplots(figsize = (10,4))\n",
    "perc_status = previous_application[\"NAME_CONTRACT_STATUS\"].value_counts(normalize = True)\n",
    "ax.pie(perc_status.values, labels = perc_status.index, colors = [\"#1bca5f\", \"#fcd994\", \"red\", \"black\"], autopct='%1.1f%%', textprops=dict(color=\"w\"))\n",
    "ax.legend(loc = 'lower center', bbox_to_anchor=(0.5, -0.25))\n",
    "ax.set_title(\"Percentage of status from previous applicants\", size = 16, weight = \"bold\")"
   ]
  },
  {
   "cell_type": "markdown",
   "id": "aa2525e5",
   "metadata": {
    "papermill": {
     "duration": 0.019644,
     "end_time": "2022-11-04T13:22:35.348852",
     "exception": false,
     "start_time": "2022-11-04T13:22:35.329208",
     "status": "completed"
    },
    "tags": []
   },
   "source": [
    "## Do different contract type have different status distribution"
   ]
  },
  {
   "cell_type": "code",
   "execution_count": 32,
   "id": "7aee5827",
   "metadata": {
    "execution": {
     "iopub.execute_input": "2022-11-04T13:22:35.392537Z",
     "iopub.status.busy": "2022-11-04T13:22:35.391889Z",
     "iopub.status.idle": "2022-11-04T13:22:35.396857Z",
     "shell.execute_reply": "2022-11-04T13:22:35.395658Z"
    },
    "papermill": {
     "duration": 0.030452,
     "end_time": "2022-11-04T13:22:35.399619",
     "exception": false,
     "start_time": "2022-11-04T13:22:35.369167",
     "status": "completed"
    },
    "tags": []
   },
   "outputs": [],
   "source": [
    "def delete_spine2(ax):\n",
    "    for i in [\"top\", \"right\"]:\n",
    "        ax.spines[i].set_visible(False)"
   ]
  },
  {
   "cell_type": "code",
   "execution_count": 33,
   "id": "6a6c6b05",
   "metadata": {
    "execution": {
     "iopub.execute_input": "2022-11-04T13:22:35.441646Z",
     "iopub.status.busy": "2022-11-04T13:22:35.441171Z",
     "iopub.status.idle": "2022-11-04T13:22:36.584689Z",
     "shell.execute_reply": "2022-11-04T13:22:36.582468Z"
    },
    "papermill": {
     "duration": 1.168163,
     "end_time": "2022-11-04T13:22:36.588061",
     "exception": false,
     "start_time": "2022-11-04T13:22:35.419898",
     "status": "completed"
    },
    "tags": []
   },
   "outputs": [
    {
     "data": {
      "image/png": "[encoded data removed]",
      "text/plain": [
       "<Figure size 1152x288 with 2 Axes>"
      ]
     },
     "metadata": {
      "needs_background": "light"
     },
     "output_type": "display_data"
    }
   ],
   "source": [
    "fig, (ax1, ax) = plt.subplots(ncols = 2, figsize = (16, 4))\n",
    "perc_type = previous_application[\"NAME_CONTRACT_TYPE\"].value_counts(normalize = True)\n",
    "ax1.pie(perc_type.values, labels = perc_type.index, autopct='%1.1f%%', textprops=dict(color=\"w\"))\n",
    "ax1.legend(loc = 'lower center', bbox_to_anchor=(0.5, -0.25))\n",
    "ax1.set_title(\"Distribution of contract types from previous applicants\", size = 12, weight = \"bold\", loc = \"left\")\n",
    "gr_by_type = previous_application.groupby(\"NAME_CONTRACT_TYPE\")\n",
    "perc_status_by_type = gr_by_type[\"NAME_CONTRACT_STATUS\"].apply(lambda x:pd.value_counts(x, normalize = True))\n",
    "temp = pd.DataFrame(perc_status_by_type).unstack()\n",
    "temp.plot(kind = \"bar\", ax= ax, stacked = True, color = [\"#1bca5f\", \"#fcd994\", \"red\", \"black\"])\n",
    "ax.legend([\"Approved\", \"Canceled\", \"Refused\", \"Unused offer\"],loc = \"upper right\", bbox_to_anchor=(1.2, 1))\n",
    "ax.set_title(\"Percentage of status by contract type\", size = 16, weight = \"bold\", y = -0.6)\n",
    "ax.set_xlabel(\"Contract types\", size = 13, weight = \"bold\")\n",
    "delete_spine2(ax)"
   ]
  },
  {
   "cell_type": "markdown",
   "id": "0c1e3da1",
   "metadata": {
    "papermill": {
     "duration": 0.020182,
     "end_time": "2022-11-04T13:22:36.629568",
     "exception": false,
     "start_time": "2022-11-04T13:22:36.609386",
     "status": "completed"
    },
    "tags": []
   },
   "source": [
    "Consumers loan has higher approve rate than any other contract types, also cash loans and revolving loans has high refusal rate"
   ]
  },
  {
   "cell_type": "markdown",
   "id": "02586362",
   "metadata": {
    "papermill": {
     "duration": 0.020448,
     "end_time": "2022-11-04T13:22:36.670579",
     "exception": false,
     "start_time": "2022-11-04T13:22:36.650131",
     "status": "completed"
    },
    "tags": []
   },
   "source": [
    "## Do repeating clients more likely to get rejected?"
   ]
  },
  {
   "cell_type": "code",
   "execution_count": 34,
   "id": "7a9c56b0",
   "metadata": {
    "execution": {
     "iopub.execute_input": "2022-11-04T13:22:36.714902Z",
     "iopub.status.busy": "2022-11-04T13:22:36.713558Z",
     "iopub.status.idle": "2022-11-04T13:22:38.039070Z",
     "shell.execute_reply": "2022-11-04T13:22:38.037785Z"
    },
    "papermill": {
     "duration": 1.350121,
     "end_time": "2022-11-04T13:22:38.041992",
     "exception": false,
     "start_time": "2022-11-04T13:22:36.691871",
     "status": "completed"
    },
    "tags": []
   },
   "outputs": [
    {
     "data": {
      "image/png": "[encoded data removed]",
      "text/plain": [
       "<Figure size 720x288 with 2 Axes>"
      ]
     },
     "metadata": {
      "needs_background": "light"
     },
     "output_type": "display_data"
    }
   ],
   "source": [
    "fig, (ax1, ax) = plt.subplots(ncols = 2, figsize = (10, 4))\n",
    "temp = previous_application[\"NAME_CLIENT_TYPE\"].value_counts()\n",
    "ax1.pie(temp.values, labels = temp.index, autopct='%1.1f%%', textprops=dict(color=\"w\"))\n",
    "ax1.legend()\n",
    "ax1.set_title(\"The distribution of client type\", size = 16, weight = \"bold\")\n",
    "gr_by_type = previous_application.groupby(\"NAME_CLIENT_TYPE\")\n",
    "perc_status_by_type = gr_by_type[\"NAME_CONTRACT_STATUS\"].apply(lambda x:pd.value_counts(x, normalize = True))\n",
    "temp = pd.DataFrame(perc_status_by_type).unstack()\n",
    "temp.plot(kind = \"bar\", ax= ax, stacked = True, color = [\"#1bca5f\", \"#fcd994\", \"red\", \"black\"])\n",
    "ax.legend([\"Approved\", \"Canceled\", \"Refused\", \"Unused offer\"],loc = 'best')\n",
    "ax.set_title(\"Percentage of status by client type\", size = 16, weight = \"bold\", loc = \"left\")\n",
    "ax.set_xlabel(\"Contract types\", size = 13, weight = \"bold\")\n",
    "delete_spine2(ax)"
   ]
  },
  {
   "cell_type": "code",
   "execution_count": 35,
   "id": "93825106",
   "metadata": {
    "execution": {
     "iopub.execute_input": "2022-11-04T13:22:38.091559Z",
     "iopub.status.busy": "2022-11-04T13:22:38.090885Z",
     "iopub.status.idle": "2022-11-04T13:22:38.433371Z",
     "shell.execute_reply": "2022-11-04T13:22:38.432494Z"
    },
    "papermill": {
     "duration": 0.370691,
     "end_time": "2022-11-04T13:22:38.436046",
     "exception": false,
     "start_time": "2022-11-04T13:22:38.065355",
     "status": "completed"
    },
    "tags": []
   },
   "outputs": [
    {
     "data": {
      "text/plain": [
       "Text(0, 0.5, 'Number of applications')"
      ]
     },
     "execution_count": 35,
     "metadata": {},
     "output_type": "execute_result"
    },
    {
     "data": {
      "image/png": "[encoded data removed]",
      "text/plain": [
       "<Figure size 1152x288 with 1 Axes>"
      ]
     },
     "metadata": {
      "needs_background": "light"
     },
     "output_type": "display_data"
    }
   ],
   "source": [
    "fig, ax = plt.subplots(figsize = (16, 4))\n",
    "count_suite = previous_application[\"NAME_TYPE_SUITE\"].value_counts()\n",
    "ax.bar(count_suite.index, count_suite.values)\n",
    "ax.set_xlabel(\"Who accompanied client when applying for the previous application\")\n",
    "ax.set_ylabel(\"Number of applications\")"
   ]
  },
  {
   "cell_type": "code",
   "execution_count": 36,
   "id": "cc2ee909",
   "metadata": {
    "execution": {
     "iopub.execute_input": "2022-11-04T13:22:38.483943Z",
     "iopub.status.busy": "2022-11-04T13:22:38.483568Z",
     "iopub.status.idle": "2022-11-04T13:22:38.492456Z",
     "shell.execute_reply": "2022-11-04T13:22:38.490928Z"
    },
    "papermill": {
     "duration": 0.035703,
     "end_time": "2022-11-04T13:22:38.494877",
     "exception": false,
     "start_time": "2022-11-04T13:22:38.459174",
     "status": "completed"
    },
    "tags": []
   },
   "outputs": [
    {
     "data": {
      "text/plain": [
       "array(['Who accompanied client when applying for the previous application'],\n",
       "      dtype=object)"
      ]
     },
     "execution_count": 36,
     "metadata": {},
     "output_type": "execute_result"
    }
   ],
   "source": [
    "description[description[\"Row\"] == \"NAME_TYPE_SUITE\"][\"Description\"].values"
   ]
  },
  {
   "cell_type": "code",
   "execution_count": 37,
   "id": "6213adb6",
   "metadata": {
    "execution": {
     "iopub.execute_input": "2022-11-04T13:22:38.540477Z",
     "iopub.status.busy": "2022-11-04T13:22:38.539345Z",
     "iopub.status.idle": "2022-11-04T13:22:38.926963Z",
     "shell.execute_reply": "2022-11-04T13:22:38.925630Z"
    },
    "papermill": {
     "duration": 0.412874,
     "end_time": "2022-11-04T13:22:38.929539",
     "exception": false,
     "start_time": "2022-11-04T13:22:38.516665",
     "status": "completed"
    },
    "tags": []
   },
   "outputs": [
    {
     "data": {
      "text/plain": [
       "Text(0.5, 0, 'Name of industry')"
      ]
     },
     "execution_count": 37,
     "metadata": {},
     "output_type": "execute_result"
    },
    {
     "data": {
      "image/png": "[encoded data removed]",
      "text/plain": [
       "<Figure size 432x288 with 1 Axes>"
      ]
     },
     "metadata": {
      "needs_background": "light"
     },
     "output_type": "display_data"
    }
   ],
   "source": [
    "ax = previous_application[\"NAME_SELLER_INDUSTRY\"].value_counts(normalize = True).plot(kind = \"bar\")\n",
    "ax.set_title(\"Top industry of the seller\")\n",
    "ax.set_xlabel(\"Name of industry\")"
   ]
  },
  {
   "cell_type": "markdown",
   "id": "10a3df35",
   "metadata": {
    "papermill": {
     "duration": 0.022704,
     "end_time": "2022-11-04T13:22:38.974594",
     "exception": false,
     "start_time": "2022-11-04T13:22:38.951890",
     "status": "completed"
    },
    "tags": []
   },
   "source": [
    "## Number of applications by time and hours"
   ]
  },
  {
   "cell_type": "code",
   "execution_count": 38,
   "id": "20496d75",
   "metadata": {
    "execution": {
     "iopub.execute_input": "2022-11-04T13:22:39.022471Z",
     "iopub.status.busy": "2022-11-04T13:22:39.021673Z",
     "iopub.status.idle": "2022-11-04T13:22:39.739324Z",
     "shell.execute_reply": "2022-11-04T13:22:39.738028Z"
    },
    "papermill": {
     "duration": 0.744297,
     "end_time": "2022-11-04T13:22:39.742291",
     "exception": false,
     "start_time": "2022-11-04T13:22:38.997994",
     "status": "completed"
    },
    "tags": []
   },
   "outputs": [
    {
     "data": {
      "text/plain": [
       "Text(0, 0.5, 'Number of applications')"
      ]
     },
     "execution_count": 38,
     "metadata": {},
     "output_type": "execute_result"
    },
    {
     "data": {
      "image/png": "[encoded data removed]",
      "text/plain": [
       "<Figure size 720x288 with 1 Axes>"
      ]
     },
     "metadata": {
      "needs_background": "light"
     },
     "output_type": "display_data"
    }
   ],
   "source": [
    "previous_application['WEEKDAY_APPR_PROCESS_START'] = pd.Categorical(previous_application['WEEKDAY_APPR_PROCESS_START'], [\"MONDAY\", \"TUESDAY\", \"WEDNESDAY\", \"THURSDAY\", \"FRIDAY\",\"SATURDAY\", \"SUNDAY\"])\n",
    "count_wd = previous_application['WEEKDAY_APPR_PROCESS_START'].value_counts().sort_index()\n",
    "fig, ax = plt.subplots(figsize = (10, 4))\n",
    "ax.bar(count_wd.index, count_wd.values)\n",
    "ax.set_xlabel(\"Weekday\")\n",
    "ax.set_title(\"Number of application starts in each weekday\")\n",
    "ax.set_ylabel(\"Number of applications\")\n"
   ]
  },
  {
   "cell_type": "code",
   "execution_count": 39,
   "id": "506d7cf9",
   "metadata": {
    "execution": {
     "iopub.execute_input": "2022-11-04T13:22:39.796095Z",
     "iopub.status.busy": "2022-11-04T13:22:39.794806Z",
     "iopub.status.idle": "2022-11-04T13:22:40.094395Z",
     "shell.execute_reply": "2022-11-04T13:22:40.092978Z"
    },
    "papermill": {
     "duration": 0.329089,
     "end_time": "2022-11-04T13:22:40.097085",
     "exception": false,
     "start_time": "2022-11-04T13:22:39.767996",
     "status": "completed"
    },
    "tags": []
   },
   "outputs": [
    {
     "data": {
      "text/plain": [
       "<BarContainer object of 1 artists>"
      ]
     },
     "execution_count": 39,
     "metadata": {},
     "output_type": "execute_result"
    },
    {
     "data": {
      "image/png": "[encoded data removed]",
      "text/plain": [
       "<Figure size 720x288 with 1 Axes>"
      ]
     },
     "metadata": {
      "needs_background": "light"
     },
     "output_type": "display_data"
    }
   ],
   "source": [
    "count_h = previous_application[\"HOUR_APPR_PROCESS_START\"].value_counts().sort_index()\n",
    "fig, ax = plt.subplots(figsize = (10, 4))\n",
    "ax.bar(count_h.index, count_h.values)\n",
    "ax.set_xlabel(\"Time of day\")\n",
    "ax.set_title(\"Number of application starts by time of day\")\n",
    "ax.set_ylabel(\"Number of applications\")\n",
    "ax.bar(count_h.index[11], count_h.values[11], color = \"red\")"
   ]
  },
  {
   "cell_type": "markdown",
   "id": "9ed97c17",
   "metadata": {
    "papermill": {
     "duration": 0.022483,
     "end_time": "2022-11-04T13:22:40.142816",
     "exception": false,
     "start_time": "2022-11-04T13:22:40.120333",
     "status": "completed"
    },
    "tags": []
   },
   "source": [
    "## Days of installment to repay the debt"
   ]
  },
  {
   "cell_type": "code",
   "execution_count": 40,
   "id": "d13c5778",
   "metadata": {
    "execution": {
     "iopub.execute_input": "2022-11-04T13:22:40.189940Z",
     "iopub.status.busy": "2022-11-04T13:22:40.189551Z",
     "iopub.status.idle": "2022-11-04T13:22:40.622687Z",
     "shell.execute_reply": "2022-11-04T13:22:40.621541Z"
    },
    "papermill": {
     "duration": 0.459889,
     "end_time": "2022-11-04T13:22:40.625298",
     "exception": false,
     "start_time": "2022-11-04T13:22:40.165409",
     "status": "completed"
    },
    "tags": []
   },
   "outputs": [
    {
     "name": "stderr",
     "output_type": "stream",
     "text": [
      "/opt/conda/lib/python3.7/site-packages/seaborn/_decorators.py:43: FutureWarning: Pass the following variable as a keyword arg: x. From version 0.12, the only valid positional argument will be `data`, and passing other arguments without an explicit keyword will result in an error or misinterpretation.\n",
      "  FutureWarning\n"
     ]
    },
    {
     "data": {
      "text/plain": [
       "<AxesSubplot:xlabel='CNT_PAYMENT'>"
      ]
     },
     "execution_count": 40,
     "metadata": {},
     "output_type": "execute_result"
    },
    {
     "data": {
      "image/png": "[encoded data removed]",
      "text/plain": [
       "<Figure size 432x288 with 1 Axes>"
      ]
     },
     "metadata": {
      "needs_background": "light"
     },
     "output_type": "display_data"
    }
   ],
   "source": [
    "sns.boxplot(previous_application[\"CNT_PAYMENT\"])"
   ]
  },
  {
   "cell_type": "code",
   "execution_count": 41,
   "id": "20e72ab5",
   "metadata": {
    "execution": {
     "iopub.execute_input": "2022-11-04T13:22:40.679539Z",
     "iopub.status.busy": "2022-11-04T13:22:40.679094Z",
     "iopub.status.idle": "2022-11-04T13:22:41.228493Z",
     "shell.execute_reply": "2022-11-04T13:22:41.227214Z"
    },
    "papermill": {
     "duration": 0.580716,
     "end_time": "2022-11-04T13:22:41.231626",
     "exception": false,
     "start_time": "2022-11-04T13:22:40.650910",
     "status": "completed"
    },
    "tags": []
   },
   "outputs": [
    {
     "name": "stdout",
     "output_type": "stream",
     "text": [
      "[365243.] 934444\n",
      "[365243.] 40645\n",
      "[365243.] 225913\n"
     ]
    }
   ],
   "source": [
    "for i in [\"DAYS_FIRST_DRAWING\",\"DAYS_FIRST_DUE\",\"DAYS_TERMINATION\"]:\n",
    "    temp = previous_application[previous_application[i]> 0][i]\n",
    "    print(temp.unique(), len(temp))"
   ]
  },
  {
   "cell_type": "markdown",
   "id": "4951b061",
   "metadata": {
    "papermill": {
     "duration": 0.022697,
     "end_time": "2022-11-04T13:22:41.279303",
     "exception": false,
     "start_time": "2022-11-04T13:22:41.256606",
     "status": "completed"
    },
    "tags": []
   },
   "source": [
    "Because in \"DAYS_FIRST_DRAWING\",\"DAYS_FIRST_DUE\",\"DAYS_TERMINATION\" columns the only positive values is 365243 (in the future), we can ignore these values"
   ]
  },
  {
   "cell_type": "code",
   "execution_count": 42,
   "id": "2dce5c1f",
   "metadata": {
    "execution": {
     "iopub.execute_input": "2022-11-04T13:22:41.328132Z",
     "iopub.status.busy": "2022-11-04T13:22:41.327743Z",
     "iopub.status.idle": "2022-11-04T13:22:41.333373Z",
     "shell.execute_reply": "2022-11-04T13:22:41.332102Z"
    },
    "papermill": {
     "duration": 0.033736,
     "end_time": "2022-11-04T13:22:41.336184",
     "exception": false,
     "start_time": "2022-11-04T13:22:41.302448",
     "status": "completed"
    },
    "tags": []
   },
   "outputs": [],
   "source": [
    "def plot_numeric_dist2(table, column):\n",
    "\n",
    "    plt.figure(figsize=(12,5))\n",
    "    plt.title(f\"Distribution of {column}\")\n",
    "    ax = sns.distplot(table[table[column] < 0][column])"
   ]
  },
  {
   "cell_type": "markdown",
   "id": "f2ce517b",
   "metadata": {
    "papermill": {
     "duration": 0.025762,
     "end_time": "2022-11-04T13:22:41.386640",
     "exception": false,
     "start_time": "2022-11-04T13:22:41.360878",
     "status": "completed"
    },
    "tags": []
   },
   "source": []
  },
  {
   "cell_type": "code",
   "execution_count": 43,
   "id": "d3d2aff0",
   "metadata": {
    "execution": {
     "iopub.execute_input": "2022-11-04T13:22:41.438212Z",
     "iopub.status.busy": "2022-11-04T13:22:41.437833Z",
     "iopub.status.idle": "2022-11-04T13:22:53.917869Z",
     "shell.execute_reply": "2022-11-04T13:22:53.916622Z"
    },
    "papermill": {
     "duration": 12.508325,
     "end_time": "2022-11-04T13:22:53.920399",
     "exception": false,
     "start_time": "2022-11-04T13:22:41.412074",
     "status": "completed"
    },
    "tags": []
   },
   "outputs": [
    {
     "name": "stderr",
     "output_type": "stream",
     "text": [
      "/opt/conda/lib/python3.7/site-packages/seaborn/distributions.py:2619: FutureWarning: `distplot` is a deprecated function and will be removed in a future version. Please adapt your code to use either `displot` (a figure-level function with similar flexibility) or `histplot` (an axes-level function for histograms).\n",
      "  warnings.warn(msg, FutureWarning)\n",
      "/opt/conda/lib/python3.7/site-packages/seaborn/distributions.py:2619: FutureWarning: `distplot` is a deprecated function and will be removed in a future version. Please adapt your code to use either `displot` (a figure-level function with similar flexibility) or `histplot` (an axes-level function for histograms).\n",
      "  warnings.warn(msg, FutureWarning)\n",
      "/opt/conda/lib/python3.7/site-packages/seaborn/distributions.py:2619: FutureWarning: `distplot` is a deprecated function and will be removed in a future version. Please adapt your code to use either `displot` (a figure-level function with similar flexibility) or `histplot` (an axes-level function for histograms).\n",
      "  warnings.warn(msg, FutureWarning)\n",
      "/opt/conda/lib/python3.7/site-packages/seaborn/distributions.py:2619: FutureWarning: `distplot` is a deprecated function and will be removed in a future version. Please adapt your code to use either `displot` (a figure-level function with similar flexibility) or `histplot` (an axes-level function for histograms).\n",
      "  warnings.warn(msg, FutureWarning)\n"
     ]
    },
    {
     "data": {
      "image/png": "[encoded data removed]",
      "text/plain": [
       "<Figure size 864x360 with 1 Axes>"
      ]
     },
     "metadata": {
      "needs_background": "light"
     },
     "output_type": "display_data"
    },
    {
     "data": {
      "image/png": "[encoded data removed]",
      "text/plain": [
       "<Figure size 864x360 with 1 Axes>"
      ]
     },
     "metadata": {
      "needs_background": "light"
     },
     "output_type": "display_data"
    },
    {
     "data": {
      "image/png": "[encoded data removed]",
      "text/plain": [
       "<Figure size 864x360 with 1 Axes>"
      ]
     },
     "metadata": {
      "needs_background": "light"
     },
     "output_type": "display_data"
    },
    {
     "data": {
      "image/png": "[encoded data removed]",
      "text/plain": [
       "<Figure size 864x360 with 1 Axes>"
      ]
     },
     "metadata": {
      "needs_background": "light"
     },
     "output_type": "display_data"
    }
   ],
   "source": [
    "for i in [\"DAYS_FIRST_DRAWING\",\"DAYS_FIRST_DUE\",\"DAYS_LAST_DUE_1ST_VERSION\",\"DAYS_TERMINATION\"]:\n",
    "    plot_numeric_dist2(previous_application, i)"
   ]
  },
  {
   "cell_type": "code",
   "execution_count": 44,
   "id": "69ccabe7",
   "metadata": {
    "execution": {
     "iopub.execute_input": "2022-11-04T13:22:53.976457Z",
     "iopub.status.busy": "2022-11-04T13:22:53.975561Z",
     "iopub.status.idle": "2022-11-04T13:22:54.656478Z",
     "shell.execute_reply": "2022-11-04T13:22:54.655085Z"
    },
    "papermill": {
     "duration": 0.712504,
     "end_time": "2022-11-04T13:22:54.659794",
     "exception": false,
     "start_time": "2022-11-04T13:22:53.947290",
     "status": "completed"
    },
    "tags": []
   },
   "outputs": [
    {
     "name": "stderr",
     "output_type": "stream",
     "text": [
      "/opt/conda/lib/python3.7/site-packages/seaborn/distributions.py:2619: FutureWarning: `distplot` is a deprecated function and will be removed in a future version. Please adapt your code to use either `displot` (a figure-level function with similar flexibility) or `histplot` (an axes-level function for histograms).\n",
      "  warnings.warn(msg, FutureWarning)\n"
     ]
    },
    {
     "data": {
      "image/png": "[encoded data removed]",
      "text/plain": [
       "<Figure size 864x360 with 1 Axes>"
      ]
     },
     "metadata": {
      "needs_background": "light"
     },
     "output_type": "display_data"
    }
   ],
   "source": [
    "\n",
    "plt.figure(figsize=(12,5))\n",
    "plt.title(\"Distribution of DAYS_FIRST_DRAWING\")\n",
    "ax = sns.distplot(previous_application[previous_application[\"DAYS_FIRST_DRAWING\"] < 365243][\"DAYS_FIRST_DRAWING\"].dropna(), color= 'green')"
   ]
  },
  {
   "cell_type": "code",
   "execution_count": 45,
   "id": "8827d5bd",
   "metadata": {
    "execution": {
     "iopub.execute_input": "2022-11-04T13:22:54.715094Z",
     "iopub.status.busy": "2022-11-04T13:22:54.714199Z",
     "iopub.status.idle": "2022-11-04T13:23:16.663932Z",
     "shell.execute_reply": "2022-11-04T13:23:16.662755Z"
    },
    "papermill": {
     "duration": 21.980359,
     "end_time": "2022-11-04T13:23:16.666750",
     "exception": false,
     "start_time": "2022-11-04T13:22:54.686391",
     "status": "completed"
    },
    "tags": []
   },
   "outputs": [],
   "source": [
    "previous_application.to_csv('./clean_previous_application.csv')"
   ]
  },
  {
   "cell_type": "code",
   "execution_count": null,
   "id": "c4ff3b24",
   "metadata": {
    "papermill": {
     "duration": 0.025744,
     "end_time": "2022-11-04T13:23:16.719194",
     "exception": false,
     "start_time": "2022-11-04T13:23:16.693450",
     "status": "completed"
    },
    "tags": []
   },
   "outputs": [],
   "source": []
  },
  {
   "cell_type": "code",
   "execution_count": null,
   "id": "95934035",
   "metadata": {
    "papermill": {
     "duration": 0.025471,
     "end_time": "2022-11-04T13:23:16.770783",
     "exception": false,
     "start_time": "2022-11-04T13:23:16.745312",
     "status": "completed"
    },
    "tags": []
   },
   "outputs": [],
   "source": []
  }
 ],
 "metadata": {
  "kernelspec": {
   "display_name": "Python 3",
   "language": "python",
   "name": "python3"
  },
  "language_info": {
   "codemirror_mode": {
    "name": "ipython",
    "version": 3
   },
   "file_extension": ".py",
   "mimetype": "text/x-python",
   "name": "python",
   "nbconvert_exporter": "python",
   "pygments_lexer": "ipython3",
   "version": "3.7.12"
  },
  "papermill": {
   "default_parameters": {},
   "duration": 96.511005,
   "end_time": "2022-11-04T13:23:18.022200",
   "environment_variables": {},
   "exception": null,
   "input_path": "__notebook__.ipynb",
   "output_path": "__notebook__.ipynb",
   "parameters": {},
   "start_time": "2022-11-04T13:21:41.511195",
   "version": "2.3.4"
  }
 },
 "nbformat": 4,
 "nbformat_minor": 5
}
