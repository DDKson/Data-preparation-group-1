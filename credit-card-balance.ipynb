{
 "cells": [
  {
   "cell_type": "code",
   "execution_count": 1,
   "id": "68cccc33",
   "metadata": {
    "_cell_guid": "b1076dfc-b9ad-4769-8c92-a6c4dae69d19",
    "_uuid": "8f2839f25d086af736a60e9eeb907d3b93b6e0e5",
    "execution": {
     "iopub.execute_input": "2022-11-04T04:10:44.170784Z",
     "iopub.status.busy": "2022-11-04T04:10:44.170296Z",
     "iopub.status.idle": "2022-11-04T04:10:45.247177Z",
     "shell.execute_reply": "2022-11-04T04:10:45.246061Z"
    },
    "papermill": {
     "duration": 1.090934,
     "end_time": "2022-11-04T04:10:45.249984",
     "exception": false,
     "start_time": "2022-11-04T04:10:44.159050",
     "status": "completed"
    },
    "tags": []
   },
   "outputs": [
    {
     "name": "stdout",
     "output_type": "stream",
     "text": [
      "/kaggle/input/home-credit-default-risk/sample_submission.csv\n",
      "/kaggle/input/home-credit-default-risk/bureau_balance.csv\n",
      "/kaggle/input/home-credit-default-risk/POS_CASH_balance.csv\n",
      "/kaggle/input/home-credit-default-risk/application_train.csv\n",
      "/kaggle/input/home-credit-default-risk/HomeCredit_columns_description.csv\n",
      "/kaggle/input/home-credit-default-risk/application_test.csv\n",
      "/kaggle/input/home-credit-default-risk/previous_application.csv\n",
      "/kaggle/input/home-credit-default-risk/credit_card_balance.csv\n",
      "/kaggle/input/home-credit-default-risk/installments_payments.csv\n",
      "/kaggle/input/home-credit-default-risk/bureau.csv\n"
     ]
    }
   ],
   "source": [
    "# This Python 3 environment comes with many helpful analytics libraries installed\n",
    "# It is defined by the kaggle/python Docker image: https://github.com/kaggle/docker-python\n",
    "# For example, here's several helpful packages to load\n",
    "\n",
    "import numpy as np # linear algebra\n",
    "import pandas as pd # data processing, CSV file I/O (e.g. pd.read_csv)\n",
    "import matplotlib.pyplot as plt\n",
    "import seaborn as sns\n",
    "# Input data files are available in the read-only \"../input/\" directory\n",
    "# For example, running this (by clicking run or pressing Shift+Enter) will list all files under the input directory\n",
    "\n",
    "import os\n",
    "for dirname, _, filenames in os.walk('/kaggle/input'):\n",
    "    for filename in filenames:\n",
    "        print(os.path.join(dirname, filename))\n",
    "\n",
    "# You can write up to 20GB to the current directory (/kaggle/working/) that gets preserved as output when you create a version using \"Save & Run All\" \n",
    "# You can also write temporary files to /kaggle/temp/, but they won't be saved outside of the current session"
   ]
  },
  {
   "cell_type": "markdown",
   "id": "dfd34915",
   "metadata": {
    "papermill": {
     "duration": 0.008634,
     "end_time": "2022-11-04T04:10:45.267841",
     "exception": false,
     "start_time": "2022-11-04T04:10:45.259207",
     "status": "completed"
    },
    "tags": []
   },
   "source": [
    "# 1. Reading data"
   ]
  },
  {
   "cell_type": "code",
   "execution_count": 2,
   "id": "60ed72f9",
   "metadata": {
    "execution": {
     "iopub.execute_input": "2022-11-04T04:10:45.288025Z",
     "iopub.status.busy": "2022-11-04T04:10:45.287377Z",
     "iopub.status.idle": "2022-11-04T04:10:56.421856Z",
     "shell.execute_reply": "2022-11-04T04:10:56.420680Z"
    },
    "papermill": {
     "duration": 11.1475,
     "end_time": "2022-11-04T04:10:56.423948",
     "exception": false,
     "start_time": "2022-11-04T04:10:45.276448",
     "status": "completed"
    },
    "tags": []
   },
   "outputs": [
    {
     "data": {
      "text/html": [
       "<div>\n",
       "<style scoped>\n",
       "    .dataframe tbody tr th:only-of-type {\n",
       "        vertical-align: middle;\n",
       "    }\n",
       "\n",
       "    .dataframe tbody tr th {\n",
       "        vertical-align: top;\n",
       "    }\n",
       "\n",
       "    .dataframe thead th {\n",
       "        text-align: right;\n",
       "    }\n",
       "</style>\n",
       "<table border=\"1\" class=\"dataframe\">\n",
       "  <thead>\n",
       "    <tr style=\"text-align: right;\">\n",
       "      <th></th>\n",
       "      <th>SK_ID_PREV</th>\n",
       "      <th>SK_ID_CURR</th>\n",
       "      <th>MONTHS_BALANCE</th>\n",
       "      <th>AMT_BALANCE</th>\n",
       "      <th>AMT_CREDIT_LIMIT_ACTUAL</th>\n",
       "      <th>AMT_DRAWINGS_ATM_CURRENT</th>\n",
       "      <th>AMT_DRAWINGS_CURRENT</th>\n",
       "      <th>AMT_DRAWINGS_OTHER_CURRENT</th>\n",
       "      <th>AMT_DRAWINGS_POS_CURRENT</th>\n",
       "      <th>AMT_INST_MIN_REGULARITY</th>\n",
       "      <th>...</th>\n",
       "      <th>AMT_RECIVABLE</th>\n",
       "      <th>AMT_TOTAL_RECEIVABLE</th>\n",
       "      <th>CNT_DRAWINGS_ATM_CURRENT</th>\n",
       "      <th>CNT_DRAWINGS_CURRENT</th>\n",
       "      <th>CNT_DRAWINGS_OTHER_CURRENT</th>\n",
       "      <th>CNT_DRAWINGS_POS_CURRENT</th>\n",
       "      <th>CNT_INSTALMENT_MATURE_CUM</th>\n",
       "      <th>NAME_CONTRACT_STATUS</th>\n",
       "      <th>SK_DPD</th>\n",
       "      <th>SK_DPD_DEF</th>\n",
       "    </tr>\n",
       "  </thead>\n",
       "  <tbody>\n",
       "    <tr>\n",
       "      <th>0</th>\n",
       "      <td>2562384</td>\n",
       "      <td>378907</td>\n",
       "      <td>-6</td>\n",
       "      <td>56.970</td>\n",
       "      <td>135000</td>\n",
       "      <td>0.0</td>\n",
       "      <td>877.5</td>\n",
       "      <td>0.0</td>\n",
       "      <td>877.5</td>\n",
       "      <td>1700.325</td>\n",
       "      <td>...</td>\n",
       "      <td>0.000</td>\n",
       "      <td>0.000</td>\n",
       "      <td>0.0</td>\n",
       "      <td>1</td>\n",
       "      <td>0.0</td>\n",
       "      <td>1.0</td>\n",
       "      <td>35.0</td>\n",
       "      <td>Active</td>\n",
       "      <td>0</td>\n",
       "      <td>0</td>\n",
       "    </tr>\n",
       "    <tr>\n",
       "      <th>1</th>\n",
       "      <td>2582071</td>\n",
       "      <td>363914</td>\n",
       "      <td>-1</td>\n",
       "      <td>63975.555</td>\n",
       "      <td>45000</td>\n",
       "      <td>2250.0</td>\n",
       "      <td>2250.0</td>\n",
       "      <td>0.0</td>\n",
       "      <td>0.0</td>\n",
       "      <td>2250.000</td>\n",
       "      <td>...</td>\n",
       "      <td>64875.555</td>\n",
       "      <td>64875.555</td>\n",
       "      <td>1.0</td>\n",
       "      <td>1</td>\n",
       "      <td>0.0</td>\n",
       "      <td>0.0</td>\n",
       "      <td>69.0</td>\n",
       "      <td>Active</td>\n",
       "      <td>0</td>\n",
       "      <td>0</td>\n",
       "    </tr>\n",
       "    <tr>\n",
       "      <th>2</th>\n",
       "      <td>1740877</td>\n",
       "      <td>371185</td>\n",
       "      <td>-7</td>\n",
       "      <td>31815.225</td>\n",
       "      <td>450000</td>\n",
       "      <td>0.0</td>\n",
       "      <td>0.0</td>\n",
       "      <td>0.0</td>\n",
       "      <td>0.0</td>\n",
       "      <td>2250.000</td>\n",
       "      <td>...</td>\n",
       "      <td>31460.085</td>\n",
       "      <td>31460.085</td>\n",
       "      <td>0.0</td>\n",
       "      <td>0</td>\n",
       "      <td>0.0</td>\n",
       "      <td>0.0</td>\n",
       "      <td>30.0</td>\n",
       "      <td>Active</td>\n",
       "      <td>0</td>\n",
       "      <td>0</td>\n",
       "    </tr>\n",
       "    <tr>\n",
       "      <th>3</th>\n",
       "      <td>1389973</td>\n",
       "      <td>337855</td>\n",
       "      <td>-4</td>\n",
       "      <td>236572.110</td>\n",
       "      <td>225000</td>\n",
       "      <td>2250.0</td>\n",
       "      <td>2250.0</td>\n",
       "      <td>0.0</td>\n",
       "      <td>0.0</td>\n",
       "      <td>11795.760</td>\n",
       "      <td>...</td>\n",
       "      <td>233048.970</td>\n",
       "      <td>233048.970</td>\n",
       "      <td>1.0</td>\n",
       "      <td>1</td>\n",
       "      <td>0.0</td>\n",
       "      <td>0.0</td>\n",
       "      <td>10.0</td>\n",
       "      <td>Active</td>\n",
       "      <td>0</td>\n",
       "      <td>0</td>\n",
       "    </tr>\n",
       "    <tr>\n",
       "      <th>4</th>\n",
       "      <td>1891521</td>\n",
       "      <td>126868</td>\n",
       "      <td>-1</td>\n",
       "      <td>453919.455</td>\n",
       "      <td>450000</td>\n",
       "      <td>0.0</td>\n",
       "      <td>11547.0</td>\n",
       "      <td>0.0</td>\n",
       "      <td>11547.0</td>\n",
       "      <td>22924.890</td>\n",
       "      <td>...</td>\n",
       "      <td>453919.455</td>\n",
       "      <td>453919.455</td>\n",
       "      <td>0.0</td>\n",
       "      <td>1</td>\n",
       "      <td>0.0</td>\n",
       "      <td>1.0</td>\n",
       "      <td>101.0</td>\n",
       "      <td>Active</td>\n",
       "      <td>0</td>\n",
       "      <td>0</td>\n",
       "    </tr>\n",
       "  </tbody>\n",
       "</table>\n",
       "<p>5 rows × 23 columns</p>\n",
       "</div>"
      ],
      "text/plain": [
       "   SK_ID_PREV  SK_ID_CURR  MONTHS_BALANCE  AMT_BALANCE  \\\n",
       "0     2562384      378907              -6       56.970   \n",
       "1     2582071      363914              -1    63975.555   \n",
       "2     1740877      371185              -7    31815.225   \n",
       "3     1389973      337855              -4   236572.110   \n",
       "4     1891521      126868              -1   453919.455   \n",
       "\n",
       "   AMT_CREDIT_LIMIT_ACTUAL  AMT_DRAWINGS_ATM_CURRENT  AMT_DRAWINGS_CURRENT  \\\n",
       "0                   135000                       0.0                 877.5   \n",
       "1                    45000                    2250.0                2250.0   \n",
       "2                   450000                       0.0                   0.0   \n",
       "3                   225000                    2250.0                2250.0   \n",
       "4                   450000                       0.0               11547.0   \n",
       "\n",
       "   AMT_DRAWINGS_OTHER_CURRENT  AMT_DRAWINGS_POS_CURRENT  \\\n",
       "0                         0.0                     877.5   \n",
       "1                         0.0                       0.0   \n",
       "2                         0.0                       0.0   \n",
       "3                         0.0                       0.0   \n",
       "4                         0.0                   11547.0   \n",
       "\n",
       "   AMT_INST_MIN_REGULARITY  ...  AMT_RECIVABLE  AMT_TOTAL_RECEIVABLE  \\\n",
       "0                 1700.325  ...          0.000                 0.000   \n",
       "1                 2250.000  ...      64875.555             64875.555   \n",
       "2                 2250.000  ...      31460.085             31460.085   \n",
       "3                11795.760  ...     233048.970            233048.970   \n",
       "4                22924.890  ...     453919.455            453919.455   \n",
       "\n",
       "   CNT_DRAWINGS_ATM_CURRENT  CNT_DRAWINGS_CURRENT  CNT_DRAWINGS_OTHER_CURRENT  \\\n",
       "0                       0.0                     1                         0.0   \n",
       "1                       1.0                     1                         0.0   \n",
       "2                       0.0                     0                         0.0   \n",
       "3                       1.0                     1                         0.0   \n",
       "4                       0.0                     1                         0.0   \n",
       "\n",
       "   CNT_DRAWINGS_POS_CURRENT  CNT_INSTALMENT_MATURE_CUM  NAME_CONTRACT_STATUS  \\\n",
       "0                       1.0                       35.0                Active   \n",
       "1                       0.0                       69.0                Active   \n",
       "2                       0.0                       30.0                Active   \n",
       "3                       0.0                       10.0                Active   \n",
       "4                       1.0                      101.0                Active   \n",
       "\n",
       "   SK_DPD  SK_DPD_DEF  \n",
       "0       0           0  \n",
       "1       0           0  \n",
       "2       0           0  \n",
       "3       0           0  \n",
       "4       0           0  \n",
       "\n",
       "[5 rows x 23 columns]"
      ]
     },
     "execution_count": 2,
     "metadata": {},
     "output_type": "execute_result"
    }
   ],
   "source": [
    "credit_card_balance = pd.read_csv(\"../input/home-credit-default-risk/credit_card_balance.csv\")\n",
    "credit_card_balance.head()"
   ]
  },
  {
   "cell_type": "code",
   "execution_count": 3,
   "id": "3c587ea2",
   "metadata": {
    "execution": {
     "iopub.execute_input": "2022-11-04T04:10:56.444079Z",
     "iopub.status.busy": "2022-11-04T04:10:56.442553Z",
     "iopub.status.idle": "2022-11-04T04:10:56.475277Z",
     "shell.execute_reply": "2022-11-04T04:10:56.473375Z"
    },
    "papermill": {
     "duration": 0.045642,
     "end_time": "2022-11-04T04:10:56.478163",
     "exception": false,
     "start_time": "2022-11-04T04:10:56.432521",
     "status": "completed"
    },
    "tags": []
   },
   "outputs": [
    {
     "data": {
      "text/html": [
       "<div>\n",
       "<style scoped>\n",
       "    .dataframe tbody tr th:only-of-type {\n",
       "        vertical-align: middle;\n",
       "    }\n",
       "\n",
       "    .dataframe tbody tr th {\n",
       "        vertical-align: top;\n",
       "    }\n",
       "\n",
       "    .dataframe thead th {\n",
       "        text-align: right;\n",
       "    }\n",
       "</style>\n",
       "<table border=\"1\" class=\"dataframe\">\n",
       "  <thead>\n",
       "    <tr style=\"text-align: right;\">\n",
       "      <th></th>\n",
       "      <th>Row</th>\n",
       "      <th>Description</th>\n",
       "    </tr>\n",
       "  </thead>\n",
       "  <tbody>\n",
       "    <tr>\n",
       "      <th>150</th>\n",
       "      <td>SK_ID_PREV</td>\n",
       "      <td>ID of previous credit in Home credit related t...</td>\n",
       "    </tr>\n",
       "    <tr>\n",
       "      <th>151</th>\n",
       "      <td>SK_ID_CURR</td>\n",
       "      <td>ID of loan in our sample</td>\n",
       "    </tr>\n",
       "    <tr>\n",
       "      <th>152</th>\n",
       "      <td>MONTHS_BALANCE</td>\n",
       "      <td>Month of balance relative to application date ...</td>\n",
       "    </tr>\n",
       "    <tr>\n",
       "      <th>153</th>\n",
       "      <td>AMT_BALANCE</td>\n",
       "      <td>Balance during the month of previous credit</td>\n",
       "    </tr>\n",
       "    <tr>\n",
       "      <th>154</th>\n",
       "      <td>AMT_CREDIT_LIMIT_ACTUAL</td>\n",
       "      <td>Credit card limit during the month of the prev...</td>\n",
       "    </tr>\n",
       "    <tr>\n",
       "      <th>155</th>\n",
       "      <td>AMT_DRAWINGS_ATM_CURRENT</td>\n",
       "      <td>Amount drawing at ATM during the month of the ...</td>\n",
       "    </tr>\n",
       "    <tr>\n",
       "      <th>156</th>\n",
       "      <td>AMT_DRAWINGS_CURRENT</td>\n",
       "      <td>Amount drawing during the month of the previou...</td>\n",
       "    </tr>\n",
       "    <tr>\n",
       "      <th>157</th>\n",
       "      <td>AMT_DRAWINGS_OTHER_CURRENT</td>\n",
       "      <td>Amount of other drawings during the month of t...</td>\n",
       "    </tr>\n",
       "    <tr>\n",
       "      <th>158</th>\n",
       "      <td>AMT_DRAWINGS_POS_CURRENT</td>\n",
       "      <td>Amount drawing or buying goods during the mont...</td>\n",
       "    </tr>\n",
       "    <tr>\n",
       "      <th>159</th>\n",
       "      <td>AMT_INST_MIN_REGULARITY</td>\n",
       "      <td>Minimal installment for this month of the prev...</td>\n",
       "    </tr>\n",
       "    <tr>\n",
       "      <th>160</th>\n",
       "      <td>AMT_PAYMENT_CURRENT</td>\n",
       "      <td>How much did the client pay during the month o...</td>\n",
       "    </tr>\n",
       "    <tr>\n",
       "      <th>161</th>\n",
       "      <td>AMT_PAYMENT_TOTAL_CURRENT</td>\n",
       "      <td>How much did the client pay during the month i...</td>\n",
       "    </tr>\n",
       "    <tr>\n",
       "      <th>162</th>\n",
       "      <td>AMT_RECEIVABLE_PRINCIPAL</td>\n",
       "      <td>Amount receivable for principal on the previou...</td>\n",
       "    </tr>\n",
       "    <tr>\n",
       "      <th>163</th>\n",
       "      <td>AMT_RECIVABLE</td>\n",
       "      <td>Amount receivable on the previous credit</td>\n",
       "    </tr>\n",
       "    <tr>\n",
       "      <th>164</th>\n",
       "      <td>AMT_TOTAL_RECEIVABLE</td>\n",
       "      <td>Total amount receivable on the previous credit</td>\n",
       "    </tr>\n",
       "    <tr>\n",
       "      <th>165</th>\n",
       "      <td>CNT_DRAWINGS_ATM_CURRENT</td>\n",
       "      <td>Number of drawings at ATM during this month on...</td>\n",
       "    </tr>\n",
       "    <tr>\n",
       "      <th>166</th>\n",
       "      <td>CNT_DRAWINGS_CURRENT</td>\n",
       "      <td>Number of drawings during this month on the pr...</td>\n",
       "    </tr>\n",
       "    <tr>\n",
       "      <th>167</th>\n",
       "      <td>CNT_DRAWINGS_OTHER_CURRENT</td>\n",
       "      <td>Number of other drawings during this month on ...</td>\n",
       "    </tr>\n",
       "    <tr>\n",
       "      <th>168</th>\n",
       "      <td>CNT_DRAWINGS_POS_CURRENT</td>\n",
       "      <td>Number of drawings for goods during this month...</td>\n",
       "    </tr>\n",
       "    <tr>\n",
       "      <th>169</th>\n",
       "      <td>CNT_INSTALMENT_MATURE_CUM</td>\n",
       "      <td>Number of paid installments on the previous cr...</td>\n",
       "    </tr>\n",
       "    <tr>\n",
       "      <th>170</th>\n",
       "      <td>NAME_CONTRACT_STATUS</td>\n",
       "      <td>Contract status (active signed,...) on the pre...</td>\n",
       "    </tr>\n",
       "    <tr>\n",
       "      <th>171</th>\n",
       "      <td>SK_DPD</td>\n",
       "      <td>DPD (Days past due) during the month on the pr...</td>\n",
       "    </tr>\n",
       "    <tr>\n",
       "      <th>172</th>\n",
       "      <td>SK_DPD_DEF</td>\n",
       "      <td>DPD (Days past due) during the month with tole...</td>\n",
       "    </tr>\n",
       "  </tbody>\n",
       "</table>\n",
       "</div>"
      ],
      "text/plain": [
       "                            Row  \\\n",
       "150                 SK_ID_PREV    \n",
       "151                  SK_ID_CURR   \n",
       "152              MONTHS_BALANCE   \n",
       "153                 AMT_BALANCE   \n",
       "154     AMT_CREDIT_LIMIT_ACTUAL   \n",
       "155    AMT_DRAWINGS_ATM_CURRENT   \n",
       "156        AMT_DRAWINGS_CURRENT   \n",
       "157  AMT_DRAWINGS_OTHER_CURRENT   \n",
       "158    AMT_DRAWINGS_POS_CURRENT   \n",
       "159     AMT_INST_MIN_REGULARITY   \n",
       "160         AMT_PAYMENT_CURRENT   \n",
       "161   AMT_PAYMENT_TOTAL_CURRENT   \n",
       "162    AMT_RECEIVABLE_PRINCIPAL   \n",
       "163               AMT_RECIVABLE   \n",
       "164        AMT_TOTAL_RECEIVABLE   \n",
       "165    CNT_DRAWINGS_ATM_CURRENT   \n",
       "166        CNT_DRAWINGS_CURRENT   \n",
       "167  CNT_DRAWINGS_OTHER_CURRENT   \n",
       "168    CNT_DRAWINGS_POS_CURRENT   \n",
       "169   CNT_INSTALMENT_MATURE_CUM   \n",
       "170        NAME_CONTRACT_STATUS   \n",
       "171                      SK_DPD   \n",
       "172                  SK_DPD_DEF   \n",
       "\n",
       "                                           Description  \n",
       "150  ID of previous credit in Home credit related t...  \n",
       "151                           ID of loan in our sample  \n",
       "152  Month of balance relative to application date ...  \n",
       "153        Balance during the month of previous credit  \n",
       "154  Credit card limit during the month of the prev...  \n",
       "155  Amount drawing at ATM during the month of the ...  \n",
       "156  Amount drawing during the month of the previou...  \n",
       "157  Amount of other drawings during the month of t...  \n",
       "158  Amount drawing or buying goods during the mont...  \n",
       "159  Minimal installment for this month of the prev...  \n",
       "160  How much did the client pay during the month o...  \n",
       "161  How much did the client pay during the month i...  \n",
       "162  Amount receivable for principal on the previou...  \n",
       "163           Amount receivable on the previous credit  \n",
       "164     Total amount receivable on the previous credit  \n",
       "165  Number of drawings at ATM during this month on...  \n",
       "166  Number of drawings during this month on the pr...  \n",
       "167  Number of other drawings during this month on ...  \n",
       "168  Number of drawings for goods during this month...  \n",
       "169  Number of paid installments on the previous cr...  \n",
       "170  Contract status (active signed,...) on the pre...  \n",
       "171  DPD (Days past due) during the month on the pr...  \n",
       "172  DPD (Days past due) during the month with tole...  "
      ]
     },
     "execution_count": 3,
     "metadata": {},
     "output_type": "execute_result"
    }
   ],
   "source": [
    "description = pd.read_csv(\"../input/home-credit-default-risk/HomeCredit_columns_description.csv\", encoding= \"ISO-8859-1\")\n",
    "description = description[description[\"Table\"] == \"credit_card_balance.csv\"][[\"Row\", \"Description\"]]\n",
    "description"
   ]
  },
  {
   "cell_type": "code",
   "execution_count": 4,
   "id": "663f1034",
   "metadata": {
    "execution": {
     "iopub.execute_input": "2022-11-04T04:10:56.498839Z",
     "iopub.status.busy": "2022-11-04T04:10:56.498476Z",
     "iopub.status.idle": "2022-11-04T04:10:56.504519Z",
     "shell.execute_reply": "2022-11-04T04:10:56.503233Z"
    },
    "papermill": {
     "duration": 0.018616,
     "end_time": "2022-11-04T04:10:56.507388",
     "exception": false,
     "start_time": "2022-11-04T04:10:56.488772",
     "status": "completed"
    },
    "tags": []
   },
   "outputs": [],
   "source": [
    "def search_des(column):\n",
    "    return description[description[\"Row\"] == column][\"Description\"].values[0]"
   ]
  },
  {
   "cell_type": "code",
   "execution_count": 5,
   "id": "5434d929",
   "metadata": {
    "execution": {
     "iopub.execute_input": "2022-11-04T04:10:56.527595Z",
     "iopub.status.busy": "2022-11-04T04:10:56.527151Z",
     "iopub.status.idle": "2022-11-04T04:10:56.537633Z",
     "shell.execute_reply": "2022-11-04T04:10:56.535816Z"
    },
    "papermill": {
     "duration": 0.023946,
     "end_time": "2022-11-04T04:10:56.540416",
     "exception": false,
     "start_time": "2022-11-04T04:10:56.516470",
     "status": "completed"
    },
    "tags": []
   },
   "outputs": [
    {
     "data": {
      "text/plain": [
       "'DPD (Days past due) during the month on the previous credit'"
      ]
     },
     "execution_count": 5,
     "metadata": {},
     "output_type": "execute_result"
    }
   ],
   "source": [
    "search_des(\"SK_DPD\")"
   ]
  },
  {
   "cell_type": "code",
   "execution_count": 6,
   "id": "dff17ac6",
   "metadata": {
    "execution": {
     "iopub.execute_input": "2022-11-04T04:10:56.561082Z",
     "iopub.status.busy": "2022-11-04T04:10:56.560640Z",
     "iopub.status.idle": "2022-11-04T04:10:59.131793Z",
     "shell.execute_reply": "2022-11-04T04:10:59.130207Z"
    },
    "papermill": {
     "duration": 2.584297,
     "end_time": "2022-11-04T04:10:59.134131",
     "exception": false,
     "start_time": "2022-11-04T04:10:56.549834",
     "status": "completed"
    },
    "tags": []
   },
   "outputs": [
    {
     "data": {
      "text/html": [
       "<div>\n",
       "<style scoped>\n",
       "    .dataframe tbody tr th:only-of-type {\n",
       "        vertical-align: middle;\n",
       "    }\n",
       "\n",
       "    .dataframe tbody tr th {\n",
       "        vertical-align: top;\n",
       "    }\n",
       "\n",
       "    .dataframe thead th {\n",
       "        text-align: right;\n",
       "    }\n",
       "</style>\n",
       "<table border=\"1\" class=\"dataframe\">\n",
       "  <thead>\n",
       "    <tr style=\"text-align: right;\">\n",
       "      <th></th>\n",
       "      <th>SK_ID_PREV</th>\n",
       "      <th>SK_ID_CURR</th>\n",
       "      <th>MONTHS_BALANCE</th>\n",
       "      <th>AMT_BALANCE</th>\n",
       "      <th>AMT_CREDIT_LIMIT_ACTUAL</th>\n",
       "      <th>AMT_DRAWINGS_ATM_CURRENT</th>\n",
       "      <th>AMT_DRAWINGS_CURRENT</th>\n",
       "      <th>AMT_DRAWINGS_OTHER_CURRENT</th>\n",
       "      <th>AMT_DRAWINGS_POS_CURRENT</th>\n",
       "      <th>AMT_INST_MIN_REGULARITY</th>\n",
       "      <th>...</th>\n",
       "      <th>AMT_RECEIVABLE_PRINCIPAL</th>\n",
       "      <th>AMT_RECIVABLE</th>\n",
       "      <th>AMT_TOTAL_RECEIVABLE</th>\n",
       "      <th>CNT_DRAWINGS_ATM_CURRENT</th>\n",
       "      <th>CNT_DRAWINGS_CURRENT</th>\n",
       "      <th>CNT_DRAWINGS_OTHER_CURRENT</th>\n",
       "      <th>CNT_DRAWINGS_POS_CURRENT</th>\n",
       "      <th>CNT_INSTALMENT_MATURE_CUM</th>\n",
       "      <th>SK_DPD</th>\n",
       "      <th>SK_DPD_DEF</th>\n",
       "    </tr>\n",
       "  </thead>\n",
       "  <tbody>\n",
       "    <tr>\n",
       "      <th>count</th>\n",
       "      <td>3.840312e+06</td>\n",
       "      <td>3.840312e+06</td>\n",
       "      <td>3.840312e+06</td>\n",
       "      <td>3.840312e+06</td>\n",
       "      <td>3.840312e+06</td>\n",
       "      <td>3.090496e+06</td>\n",
       "      <td>3.840312e+06</td>\n",
       "      <td>3.090496e+06</td>\n",
       "      <td>3.090496e+06</td>\n",
       "      <td>3.535076e+06</td>\n",
       "      <td>...</td>\n",
       "      <td>3.840312e+06</td>\n",
       "      <td>3.840312e+06</td>\n",
       "      <td>3.840312e+06</td>\n",
       "      <td>3.090496e+06</td>\n",
       "      <td>3.840312e+06</td>\n",
       "      <td>3.090496e+06</td>\n",
       "      <td>3.090496e+06</td>\n",
       "      <td>3.535076e+06</td>\n",
       "      <td>3.840312e+06</td>\n",
       "      <td>3.840312e+06</td>\n",
       "    </tr>\n",
       "    <tr>\n",
       "      <th>mean</th>\n",
       "      <td>1.904504e+06</td>\n",
       "      <td>2.783242e+05</td>\n",
       "      <td>-3.452192e+01</td>\n",
       "      <td>5.830016e+04</td>\n",
       "      <td>1.538080e+05</td>\n",
       "      <td>5.961325e+03</td>\n",
       "      <td>7.433388e+03</td>\n",
       "      <td>2.881696e+02</td>\n",
       "      <td>2.968805e+03</td>\n",
       "      <td>3.540204e+03</td>\n",
       "      <td>...</td>\n",
       "      <td>5.596588e+04</td>\n",
       "      <td>5.808881e+04</td>\n",
       "      <td>5.809829e+04</td>\n",
       "      <td>3.094490e-01</td>\n",
       "      <td>7.031439e-01</td>\n",
       "      <td>4.812496e-03</td>\n",
       "      <td>5.594791e-01</td>\n",
       "      <td>2.082508e+01</td>\n",
       "      <td>9.283667e+00</td>\n",
       "      <td>3.316220e-01</td>\n",
       "    </tr>\n",
       "    <tr>\n",
       "      <th>std</th>\n",
       "      <td>5.364695e+05</td>\n",
       "      <td>1.027045e+05</td>\n",
       "      <td>2.666775e+01</td>\n",
       "      <td>1.063070e+05</td>\n",
       "      <td>1.651457e+05</td>\n",
       "      <td>2.822569e+04</td>\n",
       "      <td>3.384608e+04</td>\n",
       "      <td>8.201989e+03</td>\n",
       "      <td>2.079689e+04</td>\n",
       "      <td>5.600154e+03</td>\n",
       "      <td>...</td>\n",
       "      <td>1.025336e+05</td>\n",
       "      <td>1.059654e+05</td>\n",
       "      <td>1.059718e+05</td>\n",
       "      <td>1.100401e+00</td>\n",
       "      <td>3.190347e+00</td>\n",
       "      <td>8.263861e-02</td>\n",
       "      <td>3.240649e+00</td>\n",
       "      <td>2.005149e+01</td>\n",
       "      <td>9.751570e+01</td>\n",
       "      <td>2.147923e+01</td>\n",
       "    </tr>\n",
       "    <tr>\n",
       "      <th>min</th>\n",
       "      <td>1.000018e+06</td>\n",
       "      <td>1.000060e+05</td>\n",
       "      <td>-9.600000e+01</td>\n",
       "      <td>-4.202502e+05</td>\n",
       "      <td>0.000000e+00</td>\n",
       "      <td>-6.827310e+03</td>\n",
       "      <td>-6.211620e+03</td>\n",
       "      <td>0.000000e+00</td>\n",
       "      <td>0.000000e+00</td>\n",
       "      <td>0.000000e+00</td>\n",
       "      <td>...</td>\n",
       "      <td>-4.233058e+05</td>\n",
       "      <td>-4.202502e+05</td>\n",
       "      <td>-4.202502e+05</td>\n",
       "      <td>0.000000e+00</td>\n",
       "      <td>0.000000e+00</td>\n",
       "      <td>0.000000e+00</td>\n",
       "      <td>0.000000e+00</td>\n",
       "      <td>0.000000e+00</td>\n",
       "      <td>0.000000e+00</td>\n",
       "      <td>0.000000e+00</td>\n",
       "    </tr>\n",
       "    <tr>\n",
       "      <th>25%</th>\n",
       "      <td>1.434385e+06</td>\n",
       "      <td>1.895170e+05</td>\n",
       "      <td>-5.500000e+01</td>\n",
       "      <td>0.000000e+00</td>\n",
       "      <td>4.500000e+04</td>\n",
       "      <td>0.000000e+00</td>\n",
       "      <td>0.000000e+00</td>\n",
       "      <td>0.000000e+00</td>\n",
       "      <td>0.000000e+00</td>\n",
       "      <td>0.000000e+00</td>\n",
       "      <td>...</td>\n",
       "      <td>0.000000e+00</td>\n",
       "      <td>0.000000e+00</td>\n",
       "      <td>0.000000e+00</td>\n",
       "      <td>0.000000e+00</td>\n",
       "      <td>0.000000e+00</td>\n",
       "      <td>0.000000e+00</td>\n",
       "      <td>0.000000e+00</td>\n",
       "      <td>4.000000e+00</td>\n",
       "      <td>0.000000e+00</td>\n",
       "      <td>0.000000e+00</td>\n",
       "    </tr>\n",
       "    <tr>\n",
       "      <th>50%</th>\n",
       "      <td>1.897122e+06</td>\n",
       "      <td>2.783960e+05</td>\n",
       "      <td>-2.800000e+01</td>\n",
       "      <td>0.000000e+00</td>\n",
       "      <td>1.125000e+05</td>\n",
       "      <td>0.000000e+00</td>\n",
       "      <td>0.000000e+00</td>\n",
       "      <td>0.000000e+00</td>\n",
       "      <td>0.000000e+00</td>\n",
       "      <td>0.000000e+00</td>\n",
       "      <td>...</td>\n",
       "      <td>0.000000e+00</td>\n",
       "      <td>0.000000e+00</td>\n",
       "      <td>0.000000e+00</td>\n",
       "      <td>0.000000e+00</td>\n",
       "      <td>0.000000e+00</td>\n",
       "      <td>0.000000e+00</td>\n",
       "      <td>0.000000e+00</td>\n",
       "      <td>1.500000e+01</td>\n",
       "      <td>0.000000e+00</td>\n",
       "      <td>0.000000e+00</td>\n",
       "    </tr>\n",
       "    <tr>\n",
       "      <th>75%</th>\n",
       "      <td>2.369328e+06</td>\n",
       "      <td>3.675800e+05</td>\n",
       "      <td>-1.100000e+01</td>\n",
       "      <td>8.904669e+04</td>\n",
       "      <td>1.800000e+05</td>\n",
       "      <td>0.000000e+00</td>\n",
       "      <td>0.000000e+00</td>\n",
       "      <td>0.000000e+00</td>\n",
       "      <td>0.000000e+00</td>\n",
       "      <td>6.633911e+03</td>\n",
       "      <td>...</td>\n",
       "      <td>8.535924e+04</td>\n",
       "      <td>8.889949e+04</td>\n",
       "      <td>8.891451e+04</td>\n",
       "      <td>0.000000e+00</td>\n",
       "      <td>0.000000e+00</td>\n",
       "      <td>0.000000e+00</td>\n",
       "      <td>0.000000e+00</td>\n",
       "      <td>3.200000e+01</td>\n",
       "      <td>0.000000e+00</td>\n",
       "      <td>0.000000e+00</td>\n",
       "    </tr>\n",
       "    <tr>\n",
       "      <th>max</th>\n",
       "      <td>2.843496e+06</td>\n",
       "      <td>4.562500e+05</td>\n",
       "      <td>-1.000000e+00</td>\n",
       "      <td>1.505902e+06</td>\n",
       "      <td>1.350000e+06</td>\n",
       "      <td>2.115000e+06</td>\n",
       "      <td>2.287098e+06</td>\n",
       "      <td>1.529847e+06</td>\n",
       "      <td>2.239274e+06</td>\n",
       "      <td>2.028820e+05</td>\n",
       "      <td>...</td>\n",
       "      <td>1.472317e+06</td>\n",
       "      <td>1.493338e+06</td>\n",
       "      <td>1.493338e+06</td>\n",
       "      <td>5.100000e+01</td>\n",
       "      <td>1.650000e+02</td>\n",
       "      <td>1.200000e+01</td>\n",
       "      <td>1.650000e+02</td>\n",
       "      <td>1.200000e+02</td>\n",
       "      <td>3.260000e+03</td>\n",
       "      <td>3.260000e+03</td>\n",
       "    </tr>\n",
       "  </tbody>\n",
       "</table>\n",
       "<p>8 rows × 22 columns</p>\n",
       "</div>"
      ],
      "text/plain": [
       "         SK_ID_PREV    SK_ID_CURR  MONTHS_BALANCE   AMT_BALANCE  \\\n",
       "count  3.840312e+06  3.840312e+06    3.840312e+06  3.840312e+06   \n",
       "mean   1.904504e+06  2.783242e+05   -3.452192e+01  5.830016e+04   \n",
       "std    5.364695e+05  1.027045e+05    2.666775e+01  1.063070e+05   \n",
       "min    1.000018e+06  1.000060e+05   -9.600000e+01 -4.202502e+05   \n",
       "25%    1.434385e+06  1.895170e+05   -5.500000e+01  0.000000e+00   \n",
       "50%    1.897122e+06  2.783960e+05   -2.800000e+01  0.000000e+00   \n",
       "75%    2.369328e+06  3.675800e+05   -1.100000e+01  8.904669e+04   \n",
       "max    2.843496e+06  4.562500e+05   -1.000000e+00  1.505902e+06   \n",
       "\n",
       "       AMT_CREDIT_LIMIT_ACTUAL  AMT_DRAWINGS_ATM_CURRENT  \\\n",
       "count             3.840312e+06              3.090496e+06   \n",
       "mean              1.538080e+05              5.961325e+03   \n",
       "std               1.651457e+05              2.822569e+04   \n",
       "min               0.000000e+00             -6.827310e+03   \n",
       "25%               4.500000e+04              0.000000e+00   \n",
       "50%               1.125000e+05              0.000000e+00   \n",
       "75%               1.800000e+05              0.000000e+00   \n",
       "max               1.350000e+06              2.115000e+06   \n",
       "\n",
       "       AMT_DRAWINGS_CURRENT  AMT_DRAWINGS_OTHER_CURRENT  \\\n",
       "count          3.840312e+06                3.090496e+06   \n",
       "mean           7.433388e+03                2.881696e+02   \n",
       "std            3.384608e+04                8.201989e+03   \n",
       "min           -6.211620e+03                0.000000e+00   \n",
       "25%            0.000000e+00                0.000000e+00   \n",
       "50%            0.000000e+00                0.000000e+00   \n",
       "75%            0.000000e+00                0.000000e+00   \n",
       "max            2.287098e+06                1.529847e+06   \n",
       "\n",
       "       AMT_DRAWINGS_POS_CURRENT  AMT_INST_MIN_REGULARITY  ...  \\\n",
       "count              3.090496e+06             3.535076e+06  ...   \n",
       "mean               2.968805e+03             3.540204e+03  ...   \n",
       "std                2.079689e+04             5.600154e+03  ...   \n",
       "min                0.000000e+00             0.000000e+00  ...   \n",
       "25%                0.000000e+00             0.000000e+00  ...   \n",
       "50%                0.000000e+00             0.000000e+00  ...   \n",
       "75%                0.000000e+00             6.633911e+03  ...   \n",
       "max                2.239274e+06             2.028820e+05  ...   \n",
       "\n",
       "       AMT_RECEIVABLE_PRINCIPAL  AMT_RECIVABLE  AMT_TOTAL_RECEIVABLE  \\\n",
       "count              3.840312e+06   3.840312e+06          3.840312e+06   \n",
       "mean               5.596588e+04   5.808881e+04          5.809829e+04   \n",
       "std                1.025336e+05   1.059654e+05          1.059718e+05   \n",
       "min               -4.233058e+05  -4.202502e+05         -4.202502e+05   \n",
       "25%                0.000000e+00   0.000000e+00          0.000000e+00   \n",
       "50%                0.000000e+00   0.000000e+00          0.000000e+00   \n",
       "75%                8.535924e+04   8.889949e+04          8.891451e+04   \n",
       "max                1.472317e+06   1.493338e+06          1.493338e+06   \n",
       "\n",
       "       CNT_DRAWINGS_ATM_CURRENT  CNT_DRAWINGS_CURRENT  \\\n",
       "count              3.090496e+06          3.840312e+06   \n",
       "mean               3.094490e-01          7.031439e-01   \n",
       "std                1.100401e+00          3.190347e+00   \n",
       "min                0.000000e+00          0.000000e+00   \n",
       "25%                0.000000e+00          0.000000e+00   \n",
       "50%                0.000000e+00          0.000000e+00   \n",
       "75%                0.000000e+00          0.000000e+00   \n",
       "max                5.100000e+01          1.650000e+02   \n",
       "\n",
       "       CNT_DRAWINGS_OTHER_CURRENT  CNT_DRAWINGS_POS_CURRENT  \\\n",
       "count                3.090496e+06              3.090496e+06   \n",
       "mean                 4.812496e-03              5.594791e-01   \n",
       "std                  8.263861e-02              3.240649e+00   \n",
       "min                  0.000000e+00              0.000000e+00   \n",
       "25%                  0.000000e+00              0.000000e+00   \n",
       "50%                  0.000000e+00              0.000000e+00   \n",
       "75%                  0.000000e+00              0.000000e+00   \n",
       "max                  1.200000e+01              1.650000e+02   \n",
       "\n",
       "       CNT_INSTALMENT_MATURE_CUM        SK_DPD    SK_DPD_DEF  \n",
       "count               3.535076e+06  3.840312e+06  3.840312e+06  \n",
       "mean                2.082508e+01  9.283667e+00  3.316220e-01  \n",
       "std                 2.005149e+01  9.751570e+01  2.147923e+01  \n",
       "min                 0.000000e+00  0.000000e+00  0.000000e+00  \n",
       "25%                 4.000000e+00  0.000000e+00  0.000000e+00  \n",
       "50%                 1.500000e+01  0.000000e+00  0.000000e+00  \n",
       "75%                 3.200000e+01  0.000000e+00  0.000000e+00  \n",
       "max                 1.200000e+02  3.260000e+03  3.260000e+03  \n",
       "\n",
       "[8 rows x 22 columns]"
      ]
     },
     "execution_count": 6,
     "metadata": {},
     "output_type": "execute_result"
    }
   ],
   "source": [
    "credit_card_balance.describe(include = np.number)"
   ]
  },
  {
   "cell_type": "code",
   "execution_count": 7,
   "id": "624a3983",
   "metadata": {
    "execution": {
     "iopub.execute_input": "2022-11-04T04:10:59.153250Z",
     "iopub.status.busy": "2022-11-04T04:10:59.152883Z",
     "iopub.status.idle": "2022-11-04T04:10:59.168835Z",
     "shell.execute_reply": "2022-11-04T04:10:59.167460Z"
    },
    "papermill": {
     "duration": 0.028425,
     "end_time": "2022-11-04T04:10:59.171430",
     "exception": false,
     "start_time": "2022-11-04T04:10:59.143005",
     "status": "completed"
    },
    "tags": []
   },
   "outputs": [
    {
     "name": "stdout",
     "output_type": "stream",
     "text": [
      "<class 'pandas.core.frame.DataFrame'>\n",
      "RangeIndex: 3840312 entries, 0 to 3840311\n",
      "Data columns (total 23 columns):\n",
      " #   Column                      Dtype  \n",
      "---  ------                      -----  \n",
      " 0   SK_ID_PREV                  int64  \n",
      " 1   SK_ID_CURR                  int64  \n",
      " 2   MONTHS_BALANCE              int64  \n",
      " 3   AMT_BALANCE                 float64\n",
      " 4   AMT_CREDIT_LIMIT_ACTUAL     int64  \n",
      " 5   AMT_DRAWINGS_ATM_CURRENT    float64\n",
      " 6   AMT_DRAWINGS_CURRENT        float64\n",
      " 7   AMT_DRAWINGS_OTHER_CURRENT  float64\n",
      " 8   AMT_DRAWINGS_POS_CURRENT    float64\n",
      " 9   AMT_INST_MIN_REGULARITY     float64\n",
      " 10  AMT_PAYMENT_CURRENT         float64\n",
      " 11  AMT_PAYMENT_TOTAL_CURRENT   float64\n",
      " 12  AMT_RECEIVABLE_PRINCIPAL    float64\n",
      " 13  AMT_RECIVABLE               float64\n",
      " 14  AMT_TOTAL_RECEIVABLE        float64\n",
      " 15  CNT_DRAWINGS_ATM_CURRENT    float64\n",
      " 16  CNT_DRAWINGS_CURRENT        int64  \n",
      " 17  CNT_DRAWINGS_OTHER_CURRENT  float64\n",
      " 18  CNT_DRAWINGS_POS_CURRENT    float64\n",
      " 19  CNT_INSTALMENT_MATURE_CUM   float64\n",
      " 20  NAME_CONTRACT_STATUS        object \n",
      " 21  SK_DPD                      int64  \n",
      " 22  SK_DPD_DEF                  int64  \n",
      "dtypes: float64(15), int64(7), object(1)\n",
      "memory usage: 673.9+ MB\n"
     ]
    }
   ],
   "source": [
    "credit_card_balance.info()"
   ]
  },
  {
   "cell_type": "code",
   "execution_count": 8,
   "id": "144cf5e3",
   "metadata": {
    "execution": {
     "iopub.execute_input": "2022-11-04T04:10:59.194865Z",
     "iopub.status.busy": "2022-11-04T04:10:59.194471Z",
     "iopub.status.idle": "2022-11-04T04:10:59.396173Z",
     "shell.execute_reply": "2022-11-04T04:10:59.395210Z"
    },
    "papermill": {
     "duration": 0.216583,
     "end_time": "2022-11-04T04:10:59.398114",
     "exception": false,
     "start_time": "2022-11-04T04:10:59.181531",
     "status": "completed"
    },
    "tags": []
   },
   "outputs": [
    {
     "data": {
      "text/plain": [
       "Active           3698436\n",
       "Completed         128918\n",
       "Signed             11058\n",
       "Demand              1365\n",
       "Sent proposal        513\n",
       "Refused               17\n",
       "Approved               5\n",
       "Name: NAME_CONTRACT_STATUS, dtype: int64"
      ]
     },
     "execution_count": 8,
     "metadata": {},
     "output_type": "execute_result"
    }
   ],
   "source": [
    "credit_card_balance[\"NAME_CONTRACT_STATUS\"].value_counts()"
   ]
  },
  {
   "cell_type": "code",
   "execution_count": 9,
   "id": "b7373c09",
   "metadata": {
    "execution": {
     "iopub.execute_input": "2022-11-04T04:10:59.417808Z",
     "iopub.status.busy": "2022-11-04T04:10:59.417450Z",
     "iopub.status.idle": "2022-11-04T04:10:59.422648Z",
     "shell.execute_reply": "2022-11-04T04:10:59.421889Z"
    },
    "papermill": {
     "duration": 0.017559,
     "end_time": "2022-11-04T04:10:59.424684",
     "exception": false,
     "start_time": "2022-11-04T04:10:59.407125",
     "status": "completed"
    },
    "tags": []
   },
   "outputs": [],
   "source": [
    "def check_missing_data(df):\n",
    "    total = df.isnull().sum().sort_values(ascending = False)\n",
    "    percent = ((df.isnull().sum()/len(df)) *100).sort_values(ascending = False)\n",
    "    return pd.concat([total, percent], axis=1, keys=['Total', 'Percent'])"
   ]
  },
  {
   "cell_type": "code",
   "execution_count": 10,
   "id": "c15f0fa4",
   "metadata": {
    "execution": {
     "iopub.execute_input": "2022-11-04T04:10:59.445465Z",
     "iopub.status.busy": "2022-11-04T04:10:59.444461Z",
     "iopub.status.idle": "2022-11-04T04:10:59.881573Z",
     "shell.execute_reply": "2022-11-04T04:10:59.880846Z"
    },
    "papermill": {
     "duration": 0.449772,
     "end_time": "2022-11-04T04:10:59.883503",
     "exception": false,
     "start_time": "2022-11-04T04:10:59.433731",
     "status": "completed"
    },
    "tags": []
   },
   "outputs": [
    {
     "data": {
      "text/html": [
       "<div>\n",
       "<style scoped>\n",
       "    .dataframe tbody tr th:only-of-type {\n",
       "        vertical-align: middle;\n",
       "    }\n",
       "\n",
       "    .dataframe tbody tr th {\n",
       "        vertical-align: top;\n",
       "    }\n",
       "\n",
       "    .dataframe thead th {\n",
       "        text-align: right;\n",
       "    }\n",
       "</style>\n",
       "<table border=\"1\" class=\"dataframe\">\n",
       "  <thead>\n",
       "    <tr style=\"text-align: right;\">\n",
       "      <th></th>\n",
       "      <th>Total</th>\n",
       "      <th>Percent</th>\n",
       "    </tr>\n",
       "  </thead>\n",
       "  <tbody>\n",
       "    <tr>\n",
       "      <th>AMT_PAYMENT_CURRENT</th>\n",
       "      <td>767988</td>\n",
       "      <td>19.998063</td>\n",
       "    </tr>\n",
       "    <tr>\n",
       "      <th>AMT_DRAWINGS_ATM_CURRENT</th>\n",
       "      <td>749816</td>\n",
       "      <td>19.524872</td>\n",
       "    </tr>\n",
       "    <tr>\n",
       "      <th>CNT_DRAWINGS_POS_CURRENT</th>\n",
       "      <td>749816</td>\n",
       "      <td>19.524872</td>\n",
       "    </tr>\n",
       "    <tr>\n",
       "      <th>AMT_DRAWINGS_OTHER_CURRENT</th>\n",
       "      <td>749816</td>\n",
       "      <td>19.524872</td>\n",
       "    </tr>\n",
       "    <tr>\n",
       "      <th>AMT_DRAWINGS_POS_CURRENT</th>\n",
       "      <td>749816</td>\n",
       "      <td>19.524872</td>\n",
       "    </tr>\n",
       "    <tr>\n",
       "      <th>CNT_DRAWINGS_OTHER_CURRENT</th>\n",
       "      <td>749816</td>\n",
       "      <td>19.524872</td>\n",
       "    </tr>\n",
       "    <tr>\n",
       "      <th>CNT_DRAWINGS_ATM_CURRENT</th>\n",
       "      <td>749816</td>\n",
       "      <td>19.524872</td>\n",
       "    </tr>\n",
       "    <tr>\n",
       "      <th>CNT_INSTALMENT_MATURE_CUM</th>\n",
       "      <td>305236</td>\n",
       "      <td>7.948208</td>\n",
       "    </tr>\n",
       "    <tr>\n",
       "      <th>AMT_INST_MIN_REGULARITY</th>\n",
       "      <td>305236</td>\n",
       "      <td>7.948208</td>\n",
       "    </tr>\n",
       "    <tr>\n",
       "      <th>SK_ID_PREV</th>\n",
       "      <td>0</td>\n",
       "      <td>0.000000</td>\n",
       "    </tr>\n",
       "    <tr>\n",
       "      <th>AMT_TOTAL_RECEIVABLE</th>\n",
       "      <td>0</td>\n",
       "      <td>0.000000</td>\n",
       "    </tr>\n",
       "    <tr>\n",
       "      <th>SK_DPD</th>\n",
       "      <td>0</td>\n",
       "      <td>0.000000</td>\n",
       "    </tr>\n",
       "    <tr>\n",
       "      <th>NAME_CONTRACT_STATUS</th>\n",
       "      <td>0</td>\n",
       "      <td>0.000000</td>\n",
       "    </tr>\n",
       "    <tr>\n",
       "      <th>CNT_DRAWINGS_CURRENT</th>\n",
       "      <td>0</td>\n",
       "      <td>0.000000</td>\n",
       "    </tr>\n",
       "    <tr>\n",
       "      <th>AMT_PAYMENT_TOTAL_CURRENT</th>\n",
       "      <td>0</td>\n",
       "      <td>0.000000</td>\n",
       "    </tr>\n",
       "    <tr>\n",
       "      <th>AMT_RECIVABLE</th>\n",
       "      <td>0</td>\n",
       "      <td>0.000000</td>\n",
       "    </tr>\n",
       "    <tr>\n",
       "      <th>AMT_RECEIVABLE_PRINCIPAL</th>\n",
       "      <td>0</td>\n",
       "      <td>0.000000</td>\n",
       "    </tr>\n",
       "    <tr>\n",
       "      <th>SK_ID_CURR</th>\n",
       "      <td>0</td>\n",
       "      <td>0.000000</td>\n",
       "    </tr>\n",
       "    <tr>\n",
       "      <th>AMT_DRAWINGS_CURRENT</th>\n",
       "      <td>0</td>\n",
       "      <td>0.000000</td>\n",
       "    </tr>\n",
       "    <tr>\n",
       "      <th>AMT_CREDIT_LIMIT_ACTUAL</th>\n",
       "      <td>0</td>\n",
       "      <td>0.000000</td>\n",
       "    </tr>\n",
       "    <tr>\n",
       "      <th>AMT_BALANCE</th>\n",
       "      <td>0</td>\n",
       "      <td>0.000000</td>\n",
       "    </tr>\n",
       "    <tr>\n",
       "      <th>MONTHS_BALANCE</th>\n",
       "      <td>0</td>\n",
       "      <td>0.000000</td>\n",
       "    </tr>\n",
       "    <tr>\n",
       "      <th>SK_DPD_DEF</th>\n",
       "      <td>0</td>\n",
       "      <td>0.000000</td>\n",
       "    </tr>\n",
       "  </tbody>\n",
       "</table>\n",
       "</div>"
      ],
      "text/plain": [
       "                             Total    Percent\n",
       "AMT_PAYMENT_CURRENT         767988  19.998063\n",
       "AMT_DRAWINGS_ATM_CURRENT    749816  19.524872\n",
       "CNT_DRAWINGS_POS_CURRENT    749816  19.524872\n",
       "AMT_DRAWINGS_OTHER_CURRENT  749816  19.524872\n",
       "AMT_DRAWINGS_POS_CURRENT    749816  19.524872\n",
       "CNT_DRAWINGS_OTHER_CURRENT  749816  19.524872\n",
       "CNT_DRAWINGS_ATM_CURRENT    749816  19.524872\n",
       "CNT_INSTALMENT_MATURE_CUM   305236   7.948208\n",
       "AMT_INST_MIN_REGULARITY     305236   7.948208\n",
       "SK_ID_PREV                       0   0.000000\n",
       "AMT_TOTAL_RECEIVABLE             0   0.000000\n",
       "SK_DPD                           0   0.000000\n",
       "NAME_CONTRACT_STATUS             0   0.000000\n",
       "CNT_DRAWINGS_CURRENT             0   0.000000\n",
       "AMT_PAYMENT_TOTAL_CURRENT        0   0.000000\n",
       "AMT_RECIVABLE                    0   0.000000\n",
       "AMT_RECEIVABLE_PRINCIPAL         0   0.000000\n",
       "SK_ID_CURR                       0   0.000000\n",
       "AMT_DRAWINGS_CURRENT             0   0.000000\n",
       "AMT_CREDIT_LIMIT_ACTUAL          0   0.000000\n",
       "AMT_BALANCE                      0   0.000000\n",
       "MONTHS_BALANCE                   0   0.000000\n",
       "SK_DPD_DEF                       0   0.000000"
      ]
     },
     "execution_count": 10,
     "metadata": {},
     "output_type": "execute_result"
    }
   ],
   "source": [
    "check_missing_data(credit_card_balance)"
   ]
  },
  {
   "cell_type": "code",
   "execution_count": 11,
   "id": "3f199a06",
   "metadata": {
    "execution": {
     "iopub.execute_input": "2022-11-04T04:10:59.904877Z",
     "iopub.status.busy": "2022-11-04T04:10:59.904509Z",
     "iopub.status.idle": "2022-11-04T04:11:00.133231Z",
     "shell.execute_reply": "2022-11-04T04:11:00.130293Z"
    },
    "papermill": {
     "duration": 0.243872,
     "end_time": "2022-11-04T04:11:00.137599",
     "exception": false,
     "start_time": "2022-11-04T04:10:59.893727",
     "status": "completed"
    },
    "tags": []
   },
   "outputs": [
    {
     "data": {
      "text/html": [
       "<div>\n",
       "<style scoped>\n",
       "    .dataframe tbody tr th:only-of-type {\n",
       "        vertical-align: middle;\n",
       "    }\n",
       "\n",
       "    .dataframe tbody tr th {\n",
       "        vertical-align: top;\n",
       "    }\n",
       "\n",
       "    .dataframe thead th {\n",
       "        text-align: right;\n",
       "    }\n",
       "</style>\n",
       "<table border=\"1\" class=\"dataframe\">\n",
       "  <thead>\n",
       "    <tr style=\"text-align: right;\">\n",
       "      <th></th>\n",
       "      <th>SK_ID_PREV</th>\n",
       "      <th>SK_ID_CURR</th>\n",
       "      <th>MONTHS_BALANCE</th>\n",
       "      <th>AMT_BALANCE</th>\n",
       "      <th>AMT_CREDIT_LIMIT_ACTUAL</th>\n",
       "      <th>AMT_DRAWINGS_ATM_CURRENT</th>\n",
       "      <th>AMT_DRAWINGS_CURRENT</th>\n",
       "      <th>AMT_DRAWINGS_OTHER_CURRENT</th>\n",
       "      <th>AMT_DRAWINGS_POS_CURRENT</th>\n",
       "      <th>AMT_INST_MIN_REGULARITY</th>\n",
       "      <th>...</th>\n",
       "      <th>AMT_RECIVABLE</th>\n",
       "      <th>AMT_TOTAL_RECEIVABLE</th>\n",
       "      <th>CNT_DRAWINGS_ATM_CURRENT</th>\n",
       "      <th>CNT_DRAWINGS_CURRENT</th>\n",
       "      <th>CNT_DRAWINGS_OTHER_CURRENT</th>\n",
       "      <th>CNT_DRAWINGS_POS_CURRENT</th>\n",
       "      <th>CNT_INSTALMENT_MATURE_CUM</th>\n",
       "      <th>NAME_CONTRACT_STATUS</th>\n",
       "      <th>SK_DPD</th>\n",
       "      <th>SK_DPD_DEF</th>\n",
       "    </tr>\n",
       "  </thead>\n",
       "  <tbody>\n",
       "    <tr>\n",
       "      <th>45</th>\n",
       "      <td>2657726</td>\n",
       "      <td>399970</td>\n",
       "      <td>-5</td>\n",
       "      <td>0.0</td>\n",
       "      <td>225000</td>\n",
       "      <td>NaN</td>\n",
       "      <td>0.0</td>\n",
       "      <td>NaN</td>\n",
       "      <td>NaN</td>\n",
       "      <td>0.0</td>\n",
       "      <td>...</td>\n",
       "      <td>0.0</td>\n",
       "      <td>0.0</td>\n",
       "      <td>NaN</td>\n",
       "      <td>0</td>\n",
       "      <td>NaN</td>\n",
       "      <td>NaN</td>\n",
       "      <td>0.0</td>\n",
       "      <td>Active</td>\n",
       "      <td>0</td>\n",
       "      <td>0</td>\n",
       "    </tr>\n",
       "    <tr>\n",
       "      <th>47</th>\n",
       "      <td>1517613</td>\n",
       "      <td>121258</td>\n",
       "      <td>-6</td>\n",
       "      <td>0.0</td>\n",
       "      <td>135000</td>\n",
       "      <td>NaN</td>\n",
       "      <td>0.0</td>\n",
       "      <td>NaN</td>\n",
       "      <td>NaN</td>\n",
       "      <td>0.0</td>\n",
       "      <td>...</td>\n",
       "      <td>0.0</td>\n",
       "      <td>0.0</td>\n",
       "      <td>NaN</td>\n",
       "      <td>0</td>\n",
       "      <td>NaN</td>\n",
       "      <td>NaN</td>\n",
       "      <td>0.0</td>\n",
       "      <td>Active</td>\n",
       "      <td>0</td>\n",
       "      <td>0</td>\n",
       "    </tr>\n",
       "    <tr>\n",
       "      <th>49</th>\n",
       "      <td>2408643</td>\n",
       "      <td>104761</td>\n",
       "      <td>-4</td>\n",
       "      <td>0.0</td>\n",
       "      <td>225000</td>\n",
       "      <td>NaN</td>\n",
       "      <td>0.0</td>\n",
       "      <td>NaN</td>\n",
       "      <td>NaN</td>\n",
       "      <td>0.0</td>\n",
       "      <td>...</td>\n",
       "      <td>0.0</td>\n",
       "      <td>0.0</td>\n",
       "      <td>NaN</td>\n",
       "      <td>0</td>\n",
       "      <td>NaN</td>\n",
       "      <td>NaN</td>\n",
       "      <td>0.0</td>\n",
       "      <td>Active</td>\n",
       "      <td>0</td>\n",
       "      <td>0</td>\n",
       "    </tr>\n",
       "    <tr>\n",
       "      <th>52</th>\n",
       "      <td>1322825</td>\n",
       "      <td>215709</td>\n",
       "      <td>-5</td>\n",
       "      <td>0.0</td>\n",
       "      <td>180000</td>\n",
       "      <td>NaN</td>\n",
       "      <td>0.0</td>\n",
       "      <td>NaN</td>\n",
       "      <td>NaN</td>\n",
       "      <td>0.0</td>\n",
       "      <td>...</td>\n",
       "      <td>0.0</td>\n",
       "      <td>0.0</td>\n",
       "      <td>NaN</td>\n",
       "      <td>0</td>\n",
       "      <td>NaN</td>\n",
       "      <td>NaN</td>\n",
       "      <td>0.0</td>\n",
       "      <td>Active</td>\n",
       "      <td>0</td>\n",
       "      <td>0</td>\n",
       "    </tr>\n",
       "    <tr>\n",
       "      <th>60</th>\n",
       "      <td>1217908</td>\n",
       "      <td>162464</td>\n",
       "      <td>-5</td>\n",
       "      <td>0.0</td>\n",
       "      <td>45000</td>\n",
       "      <td>NaN</td>\n",
       "      <td>0.0</td>\n",
       "      <td>NaN</td>\n",
       "      <td>NaN</td>\n",
       "      <td>0.0</td>\n",
       "      <td>...</td>\n",
       "      <td>0.0</td>\n",
       "      <td>0.0</td>\n",
       "      <td>NaN</td>\n",
       "      <td>0</td>\n",
       "      <td>NaN</td>\n",
       "      <td>NaN</td>\n",
       "      <td>0.0</td>\n",
       "      <td>Active</td>\n",
       "      <td>0</td>\n",
       "      <td>0</td>\n",
       "    </tr>\n",
       "    <tr>\n",
       "      <th>...</th>\n",
       "      <td>...</td>\n",
       "      <td>...</td>\n",
       "      <td>...</td>\n",
       "      <td>...</td>\n",
       "      <td>...</td>\n",
       "      <td>...</td>\n",
       "      <td>...</td>\n",
       "      <td>...</td>\n",
       "      <td>...</td>\n",
       "      <td>...</td>\n",
       "      <td>...</td>\n",
       "      <td>...</td>\n",
       "      <td>...</td>\n",
       "      <td>...</td>\n",
       "      <td>...</td>\n",
       "      <td>...</td>\n",
       "      <td>...</td>\n",
       "      <td>...</td>\n",
       "      <td>...</td>\n",
       "      <td>...</td>\n",
       "      <td>...</td>\n",
       "    </tr>\n",
       "    <tr>\n",
       "      <th>3840272</th>\n",
       "      <td>2463643</td>\n",
       "      <td>315621</td>\n",
       "      <td>-15</td>\n",
       "      <td>0.0</td>\n",
       "      <td>0</td>\n",
       "      <td>NaN</td>\n",
       "      <td>0.0</td>\n",
       "      <td>NaN</td>\n",
       "      <td>NaN</td>\n",
       "      <td>0.0</td>\n",
       "      <td>...</td>\n",
       "      <td>0.0</td>\n",
       "      <td>0.0</td>\n",
       "      <td>NaN</td>\n",
       "      <td>0</td>\n",
       "      <td>NaN</td>\n",
       "      <td>NaN</td>\n",
       "      <td>0.0</td>\n",
       "      <td>Active</td>\n",
       "      <td>0</td>\n",
       "      <td>0</td>\n",
       "    </tr>\n",
       "    <tr>\n",
       "      <th>3840303</th>\n",
       "      <td>1307188</td>\n",
       "      <td>385981</td>\n",
       "      <td>-9</td>\n",
       "      <td>0.0</td>\n",
       "      <td>0</td>\n",
       "      <td>NaN</td>\n",
       "      <td>0.0</td>\n",
       "      <td>NaN</td>\n",
       "      <td>NaN</td>\n",
       "      <td>0.0</td>\n",
       "      <td>...</td>\n",
       "      <td>0.0</td>\n",
       "      <td>0.0</td>\n",
       "      <td>NaN</td>\n",
       "      <td>0</td>\n",
       "      <td>NaN</td>\n",
       "      <td>NaN</td>\n",
       "      <td>0.0</td>\n",
       "      <td>Active</td>\n",
       "      <td>0</td>\n",
       "      <td>0</td>\n",
       "    </tr>\n",
       "    <tr>\n",
       "      <th>3840306</th>\n",
       "      <td>1410474</td>\n",
       "      <td>255737</td>\n",
       "      <td>-13</td>\n",
       "      <td>0.0</td>\n",
       "      <td>180000</td>\n",
       "      <td>NaN</td>\n",
       "      <td>0.0</td>\n",
       "      <td>NaN</td>\n",
       "      <td>NaN</td>\n",
       "      <td>0.0</td>\n",
       "      <td>...</td>\n",
       "      <td>0.0</td>\n",
       "      <td>0.0</td>\n",
       "      <td>NaN</td>\n",
       "      <td>0</td>\n",
       "      <td>NaN</td>\n",
       "      <td>NaN</td>\n",
       "      <td>0.0</td>\n",
       "      <td>Active</td>\n",
       "      <td>0</td>\n",
       "      <td>0</td>\n",
       "    </tr>\n",
       "    <tr>\n",
       "      <th>3840307</th>\n",
       "      <td>1036507</td>\n",
       "      <td>328243</td>\n",
       "      <td>-9</td>\n",
       "      <td>0.0</td>\n",
       "      <td>45000</td>\n",
       "      <td>NaN</td>\n",
       "      <td>0.0</td>\n",
       "      <td>NaN</td>\n",
       "      <td>NaN</td>\n",
       "      <td>0.0</td>\n",
       "      <td>...</td>\n",
       "      <td>0.0</td>\n",
       "      <td>0.0</td>\n",
       "      <td>NaN</td>\n",
       "      <td>0</td>\n",
       "      <td>NaN</td>\n",
       "      <td>NaN</td>\n",
       "      <td>0.0</td>\n",
       "      <td>Active</td>\n",
       "      <td>0</td>\n",
       "      <td>0</td>\n",
       "    </tr>\n",
       "    <tr>\n",
       "      <th>3840310</th>\n",
       "      <td>1624872</td>\n",
       "      <td>430337</td>\n",
       "      <td>-10</td>\n",
       "      <td>0.0</td>\n",
       "      <td>450000</td>\n",
       "      <td>NaN</td>\n",
       "      <td>0.0</td>\n",
       "      <td>NaN</td>\n",
       "      <td>NaN</td>\n",
       "      <td>0.0</td>\n",
       "      <td>...</td>\n",
       "      <td>0.0</td>\n",
       "      <td>0.0</td>\n",
       "      <td>NaN</td>\n",
       "      <td>0</td>\n",
       "      <td>NaN</td>\n",
       "      <td>NaN</td>\n",
       "      <td>0.0</td>\n",
       "      <td>Active</td>\n",
       "      <td>0</td>\n",
       "      <td>0</td>\n",
       "    </tr>\n",
       "  </tbody>\n",
       "</table>\n",
       "<p>749816 rows × 23 columns</p>\n",
       "</div>"
      ],
      "text/plain": [
       "         SK_ID_PREV  SK_ID_CURR  MONTHS_BALANCE  AMT_BALANCE  \\\n",
       "45          2657726      399970              -5          0.0   \n",
       "47          1517613      121258              -6          0.0   \n",
       "49          2408643      104761              -4          0.0   \n",
       "52          1322825      215709              -5          0.0   \n",
       "60          1217908      162464              -5          0.0   \n",
       "...             ...         ...             ...          ...   \n",
       "3840272     2463643      315621             -15          0.0   \n",
       "3840303     1307188      385981              -9          0.0   \n",
       "3840306     1410474      255737             -13          0.0   \n",
       "3840307     1036507      328243              -9          0.0   \n",
       "3840310     1624872      430337             -10          0.0   \n",
       "\n",
       "         AMT_CREDIT_LIMIT_ACTUAL  AMT_DRAWINGS_ATM_CURRENT  \\\n",
       "45                        225000                       NaN   \n",
       "47                        135000                       NaN   \n",
       "49                        225000                       NaN   \n",
       "52                        180000                       NaN   \n",
       "60                         45000                       NaN   \n",
       "...                          ...                       ...   \n",
       "3840272                        0                       NaN   \n",
       "3840303                        0                       NaN   \n",
       "3840306                   180000                       NaN   \n",
       "3840307                    45000                       NaN   \n",
       "3840310                   450000                       NaN   \n",
       "\n",
       "         AMT_DRAWINGS_CURRENT  AMT_DRAWINGS_OTHER_CURRENT  \\\n",
       "45                        0.0                         NaN   \n",
       "47                        0.0                         NaN   \n",
       "49                        0.0                         NaN   \n",
       "52                        0.0                         NaN   \n",
       "60                        0.0                         NaN   \n",
       "...                       ...                         ...   \n",
       "3840272                   0.0                         NaN   \n",
       "3840303                   0.0                         NaN   \n",
       "3840306                   0.0                         NaN   \n",
       "3840307                   0.0                         NaN   \n",
       "3840310                   0.0                         NaN   \n",
       "\n",
       "         AMT_DRAWINGS_POS_CURRENT  AMT_INST_MIN_REGULARITY  ...  \\\n",
       "45                            NaN                      0.0  ...   \n",
       "47                            NaN                      0.0  ...   \n",
       "49                            NaN                      0.0  ...   \n",
       "52                            NaN                      0.0  ...   \n",
       "60                            NaN                      0.0  ...   \n",
       "...                           ...                      ...  ...   \n",
       "3840272                       NaN                      0.0  ...   \n",
       "3840303                       NaN                      0.0  ...   \n",
       "3840306                       NaN                      0.0  ...   \n",
       "3840307                       NaN                      0.0  ...   \n",
       "3840310                       NaN                      0.0  ...   \n",
       "\n",
       "         AMT_RECIVABLE  AMT_TOTAL_RECEIVABLE  CNT_DRAWINGS_ATM_CURRENT  \\\n",
       "45                 0.0                   0.0                       NaN   \n",
       "47                 0.0                   0.0                       NaN   \n",
       "49                 0.0                   0.0                       NaN   \n",
       "52                 0.0                   0.0                       NaN   \n",
       "60                 0.0                   0.0                       NaN   \n",
       "...                ...                   ...                       ...   \n",
       "3840272            0.0                   0.0                       NaN   \n",
       "3840303            0.0                   0.0                       NaN   \n",
       "3840306            0.0                   0.0                       NaN   \n",
       "3840307            0.0                   0.0                       NaN   \n",
       "3840310            0.0                   0.0                       NaN   \n",
       "\n",
       "         CNT_DRAWINGS_CURRENT  CNT_DRAWINGS_OTHER_CURRENT  \\\n",
       "45                          0                         NaN   \n",
       "47                          0                         NaN   \n",
       "49                          0                         NaN   \n",
       "52                          0                         NaN   \n",
       "60                          0                         NaN   \n",
       "...                       ...                         ...   \n",
       "3840272                     0                         NaN   \n",
       "3840303                     0                         NaN   \n",
       "3840306                     0                         NaN   \n",
       "3840307                     0                         NaN   \n",
       "3840310                     0                         NaN   \n",
       "\n",
       "         CNT_DRAWINGS_POS_CURRENT  CNT_INSTALMENT_MATURE_CUM  \\\n",
       "45                            NaN                        0.0   \n",
       "47                            NaN                        0.0   \n",
       "49                            NaN                        0.0   \n",
       "52                            NaN                        0.0   \n",
       "60                            NaN                        0.0   \n",
       "...                           ...                        ...   \n",
       "3840272                       NaN                        0.0   \n",
       "3840303                       NaN                        0.0   \n",
       "3840306                       NaN                        0.0   \n",
       "3840307                       NaN                        0.0   \n",
       "3840310                       NaN                        0.0   \n",
       "\n",
       "         NAME_CONTRACT_STATUS  SK_DPD  SK_DPD_DEF  \n",
       "45                     Active       0           0  \n",
       "47                     Active       0           0  \n",
       "49                     Active       0           0  \n",
       "52                     Active       0           0  \n",
       "60                     Active       0           0  \n",
       "...                       ...     ...         ...  \n",
       "3840272                Active       0           0  \n",
       "3840303                Active       0           0  \n",
       "3840306                Active       0           0  \n",
       "3840307                Active       0           0  \n",
       "3840310                Active       0           0  \n",
       "\n",
       "[749816 rows x 23 columns]"
      ]
     },
     "execution_count": 11,
     "metadata": {},
     "output_type": "execute_result"
    }
   ],
   "source": [
    "credit_card_balance[credit_card_balance[\"AMT_DRAWINGS_ATM_CURRENT\"].isnull()]"
   ]
  },
  {
   "cell_type": "code",
   "execution_count": 12,
   "id": "be603ba9",
   "metadata": {
    "execution": {
     "iopub.execute_input": "2022-11-04T04:11:00.162410Z",
     "iopub.status.busy": "2022-11-04T04:11:00.162033Z",
     "iopub.status.idle": "2022-11-04T04:11:02.690457Z",
     "shell.execute_reply": "2022-11-04T04:11:02.688902Z"
    },
    "papermill": {
     "duration": 2.543438,
     "end_time": "2022-11-04T04:11:02.693366",
     "exception": false,
     "start_time": "2022-11-04T04:11:00.149928",
     "status": "completed"
    },
    "tags": []
   },
   "outputs": [
    {
     "data": {
      "text/html": [
       "<div>\n",
       "<style scoped>\n",
       "    .dataframe tbody tr th:only-of-type {\n",
       "        vertical-align: middle;\n",
       "    }\n",
       "\n",
       "    .dataframe tbody tr th {\n",
       "        vertical-align: top;\n",
       "    }\n",
       "\n",
       "    .dataframe thead th {\n",
       "        text-align: right;\n",
       "    }\n",
       "</style>\n",
       "<table border=\"1\" class=\"dataframe\">\n",
       "  <thead>\n",
       "    <tr style=\"text-align: right;\">\n",
       "      <th></th>\n",
       "      <th>SK_ID_PREV</th>\n",
       "      <th>SK_ID_CURR</th>\n",
       "      <th>MONTHS_BALANCE</th>\n",
       "      <th>AMT_BALANCE</th>\n",
       "      <th>AMT_CREDIT_LIMIT_ACTUAL</th>\n",
       "      <th>AMT_DRAWINGS_ATM_CURRENT</th>\n",
       "      <th>AMT_DRAWINGS_CURRENT</th>\n",
       "      <th>AMT_DRAWINGS_OTHER_CURRENT</th>\n",
       "      <th>AMT_DRAWINGS_POS_CURRENT</th>\n",
       "      <th>AMT_INST_MIN_REGULARITY</th>\n",
       "      <th>...</th>\n",
       "      <th>AMT_RECEIVABLE_PRINCIPAL</th>\n",
       "      <th>AMT_RECIVABLE</th>\n",
       "      <th>AMT_TOTAL_RECEIVABLE</th>\n",
       "      <th>CNT_DRAWINGS_ATM_CURRENT</th>\n",
       "      <th>CNT_DRAWINGS_CURRENT</th>\n",
       "      <th>CNT_DRAWINGS_OTHER_CURRENT</th>\n",
       "      <th>CNT_DRAWINGS_POS_CURRENT</th>\n",
       "      <th>CNT_INSTALMENT_MATURE_CUM</th>\n",
       "      <th>SK_DPD</th>\n",
       "      <th>SK_DPD_DEF</th>\n",
       "    </tr>\n",
       "  </thead>\n",
       "  <tbody>\n",
       "    <tr>\n",
       "      <th>count</th>\n",
       "      <td>3.840312e+06</td>\n",
       "      <td>3.840312e+06</td>\n",
       "      <td>3.840312e+06</td>\n",
       "      <td>3.840312e+06</td>\n",
       "      <td>3.840312e+06</td>\n",
       "      <td>3.090496e+06</td>\n",
       "      <td>3.840312e+06</td>\n",
       "      <td>3.090496e+06</td>\n",
       "      <td>3.090496e+06</td>\n",
       "      <td>3.535076e+06</td>\n",
       "      <td>...</td>\n",
       "      <td>3.840312e+06</td>\n",
       "      <td>3.840312e+06</td>\n",
       "      <td>3.840312e+06</td>\n",
       "      <td>3.090496e+06</td>\n",
       "      <td>3.840312e+06</td>\n",
       "      <td>3.090496e+06</td>\n",
       "      <td>3.090496e+06</td>\n",
       "      <td>3.535076e+06</td>\n",
       "      <td>3.840312e+06</td>\n",
       "      <td>3.840312e+06</td>\n",
       "    </tr>\n",
       "    <tr>\n",
       "      <th>mean</th>\n",
       "      <td>1.904504e+06</td>\n",
       "      <td>2.783242e+05</td>\n",
       "      <td>-3.452192e+01</td>\n",
       "      <td>5.830016e+04</td>\n",
       "      <td>1.538080e+05</td>\n",
       "      <td>5.961325e+03</td>\n",
       "      <td>7.433388e+03</td>\n",
       "      <td>2.881696e+02</td>\n",
       "      <td>2.968805e+03</td>\n",
       "      <td>3.540204e+03</td>\n",
       "      <td>...</td>\n",
       "      <td>5.596588e+04</td>\n",
       "      <td>5.808881e+04</td>\n",
       "      <td>5.809829e+04</td>\n",
       "      <td>3.094490e-01</td>\n",
       "      <td>7.031439e-01</td>\n",
       "      <td>4.812496e-03</td>\n",
       "      <td>5.594791e-01</td>\n",
       "      <td>2.082508e+01</td>\n",
       "      <td>9.283667e+00</td>\n",
       "      <td>3.316220e-01</td>\n",
       "    </tr>\n",
       "    <tr>\n",
       "      <th>std</th>\n",
       "      <td>5.364695e+05</td>\n",
       "      <td>1.027045e+05</td>\n",
       "      <td>2.666775e+01</td>\n",
       "      <td>1.063070e+05</td>\n",
       "      <td>1.651457e+05</td>\n",
       "      <td>2.822569e+04</td>\n",
       "      <td>3.384608e+04</td>\n",
       "      <td>8.201989e+03</td>\n",
       "      <td>2.079689e+04</td>\n",
       "      <td>5.600154e+03</td>\n",
       "      <td>...</td>\n",
       "      <td>1.025336e+05</td>\n",
       "      <td>1.059654e+05</td>\n",
       "      <td>1.059718e+05</td>\n",
       "      <td>1.100401e+00</td>\n",
       "      <td>3.190347e+00</td>\n",
       "      <td>8.263861e-02</td>\n",
       "      <td>3.240649e+00</td>\n",
       "      <td>2.005149e+01</td>\n",
       "      <td>9.751570e+01</td>\n",
       "      <td>2.147923e+01</td>\n",
       "    </tr>\n",
       "    <tr>\n",
       "      <th>min</th>\n",
       "      <td>1.000018e+06</td>\n",
       "      <td>1.000060e+05</td>\n",
       "      <td>-9.600000e+01</td>\n",
       "      <td>-4.202502e+05</td>\n",
       "      <td>0.000000e+00</td>\n",
       "      <td>-6.827310e+03</td>\n",
       "      <td>-6.211620e+03</td>\n",
       "      <td>0.000000e+00</td>\n",
       "      <td>0.000000e+00</td>\n",
       "      <td>0.000000e+00</td>\n",
       "      <td>...</td>\n",
       "      <td>-4.233058e+05</td>\n",
       "      <td>-4.202502e+05</td>\n",
       "      <td>-4.202502e+05</td>\n",
       "      <td>0.000000e+00</td>\n",
       "      <td>0.000000e+00</td>\n",
       "      <td>0.000000e+00</td>\n",
       "      <td>0.000000e+00</td>\n",
       "      <td>0.000000e+00</td>\n",
       "      <td>0.000000e+00</td>\n",
       "      <td>0.000000e+00</td>\n",
       "    </tr>\n",
       "    <tr>\n",
       "      <th>25%</th>\n",
       "      <td>1.434385e+06</td>\n",
       "      <td>1.895170e+05</td>\n",
       "      <td>-5.500000e+01</td>\n",
       "      <td>0.000000e+00</td>\n",
       "      <td>4.500000e+04</td>\n",
       "      <td>0.000000e+00</td>\n",
       "      <td>0.000000e+00</td>\n",
       "      <td>0.000000e+00</td>\n",
       "      <td>0.000000e+00</td>\n",
       "      <td>0.000000e+00</td>\n",
       "      <td>...</td>\n",
       "      <td>0.000000e+00</td>\n",
       "      <td>0.000000e+00</td>\n",
       "      <td>0.000000e+00</td>\n",
       "      <td>0.000000e+00</td>\n",
       "      <td>0.000000e+00</td>\n",
       "      <td>0.000000e+00</td>\n",
       "      <td>0.000000e+00</td>\n",
       "      <td>4.000000e+00</td>\n",
       "      <td>0.000000e+00</td>\n",
       "      <td>0.000000e+00</td>\n",
       "    </tr>\n",
       "    <tr>\n",
       "      <th>50%</th>\n",
       "      <td>1.897122e+06</td>\n",
       "      <td>2.783960e+05</td>\n",
       "      <td>-2.800000e+01</td>\n",
       "      <td>0.000000e+00</td>\n",
       "      <td>1.125000e+05</td>\n",
       "      <td>0.000000e+00</td>\n",
       "      <td>0.000000e+00</td>\n",
       "      <td>0.000000e+00</td>\n",
       "      <td>0.000000e+00</td>\n",
       "      <td>0.000000e+00</td>\n",
       "      <td>...</td>\n",
       "      <td>0.000000e+00</td>\n",
       "      <td>0.000000e+00</td>\n",
       "      <td>0.000000e+00</td>\n",
       "      <td>0.000000e+00</td>\n",
       "      <td>0.000000e+00</td>\n",
       "      <td>0.000000e+00</td>\n",
       "      <td>0.000000e+00</td>\n",
       "      <td>1.500000e+01</td>\n",
       "      <td>0.000000e+00</td>\n",
       "      <td>0.000000e+00</td>\n",
       "    </tr>\n",
       "    <tr>\n",
       "      <th>75%</th>\n",
       "      <td>2.369328e+06</td>\n",
       "      <td>3.675800e+05</td>\n",
       "      <td>-1.100000e+01</td>\n",
       "      <td>8.904669e+04</td>\n",
       "      <td>1.800000e+05</td>\n",
       "      <td>0.000000e+00</td>\n",
       "      <td>0.000000e+00</td>\n",
       "      <td>0.000000e+00</td>\n",
       "      <td>0.000000e+00</td>\n",
       "      <td>6.633911e+03</td>\n",
       "      <td>...</td>\n",
       "      <td>8.535924e+04</td>\n",
       "      <td>8.889949e+04</td>\n",
       "      <td>8.891451e+04</td>\n",
       "      <td>0.000000e+00</td>\n",
       "      <td>0.000000e+00</td>\n",
       "      <td>0.000000e+00</td>\n",
       "      <td>0.000000e+00</td>\n",
       "      <td>3.200000e+01</td>\n",
       "      <td>0.000000e+00</td>\n",
       "      <td>0.000000e+00</td>\n",
       "    </tr>\n",
       "    <tr>\n",
       "      <th>max</th>\n",
       "      <td>2.843496e+06</td>\n",
       "      <td>4.562500e+05</td>\n",
       "      <td>-1.000000e+00</td>\n",
       "      <td>1.505902e+06</td>\n",
       "      <td>1.350000e+06</td>\n",
       "      <td>2.115000e+06</td>\n",
       "      <td>2.287098e+06</td>\n",
       "      <td>1.529847e+06</td>\n",
       "      <td>2.239274e+06</td>\n",
       "      <td>2.028820e+05</td>\n",
       "      <td>...</td>\n",
       "      <td>1.472317e+06</td>\n",
       "      <td>1.493338e+06</td>\n",
       "      <td>1.493338e+06</td>\n",
       "      <td>5.100000e+01</td>\n",
       "      <td>1.650000e+02</td>\n",
       "      <td>1.200000e+01</td>\n",
       "      <td>1.650000e+02</td>\n",
       "      <td>1.200000e+02</td>\n",
       "      <td>3.260000e+03</td>\n",
       "      <td>3.260000e+03</td>\n",
       "    </tr>\n",
       "  </tbody>\n",
       "</table>\n",
       "<p>8 rows × 22 columns</p>\n",
       "</div>"
      ],
      "text/plain": [
       "         SK_ID_PREV    SK_ID_CURR  MONTHS_BALANCE   AMT_BALANCE  \\\n",
       "count  3.840312e+06  3.840312e+06    3.840312e+06  3.840312e+06   \n",
       "mean   1.904504e+06  2.783242e+05   -3.452192e+01  5.830016e+04   \n",
       "std    5.364695e+05  1.027045e+05    2.666775e+01  1.063070e+05   \n",
       "min    1.000018e+06  1.000060e+05   -9.600000e+01 -4.202502e+05   \n",
       "25%    1.434385e+06  1.895170e+05   -5.500000e+01  0.000000e+00   \n",
       "50%    1.897122e+06  2.783960e+05   -2.800000e+01  0.000000e+00   \n",
       "75%    2.369328e+06  3.675800e+05   -1.100000e+01  8.904669e+04   \n",
       "max    2.843496e+06  4.562500e+05   -1.000000e+00  1.505902e+06   \n",
       "\n",
       "       AMT_CREDIT_LIMIT_ACTUAL  AMT_DRAWINGS_ATM_CURRENT  \\\n",
       "count             3.840312e+06              3.090496e+06   \n",
       "mean              1.538080e+05              5.961325e+03   \n",
       "std               1.651457e+05              2.822569e+04   \n",
       "min               0.000000e+00             -6.827310e+03   \n",
       "25%               4.500000e+04              0.000000e+00   \n",
       "50%               1.125000e+05              0.000000e+00   \n",
       "75%               1.800000e+05              0.000000e+00   \n",
       "max               1.350000e+06              2.115000e+06   \n",
       "\n",
       "       AMT_DRAWINGS_CURRENT  AMT_DRAWINGS_OTHER_CURRENT  \\\n",
       "count          3.840312e+06                3.090496e+06   \n",
       "mean           7.433388e+03                2.881696e+02   \n",
       "std            3.384608e+04                8.201989e+03   \n",
       "min           -6.211620e+03                0.000000e+00   \n",
       "25%            0.000000e+00                0.000000e+00   \n",
       "50%            0.000000e+00                0.000000e+00   \n",
       "75%            0.000000e+00                0.000000e+00   \n",
       "max            2.287098e+06                1.529847e+06   \n",
       "\n",
       "       AMT_DRAWINGS_POS_CURRENT  AMT_INST_MIN_REGULARITY  ...  \\\n",
       "count              3.090496e+06             3.535076e+06  ...   \n",
       "mean               2.968805e+03             3.540204e+03  ...   \n",
       "std                2.079689e+04             5.600154e+03  ...   \n",
       "min                0.000000e+00             0.000000e+00  ...   \n",
       "25%                0.000000e+00             0.000000e+00  ...   \n",
       "50%                0.000000e+00             0.000000e+00  ...   \n",
       "75%                0.000000e+00             6.633911e+03  ...   \n",
       "max                2.239274e+06             2.028820e+05  ...   \n",
       "\n",
       "       AMT_RECEIVABLE_PRINCIPAL  AMT_RECIVABLE  AMT_TOTAL_RECEIVABLE  \\\n",
       "count              3.840312e+06   3.840312e+06          3.840312e+06   \n",
       "mean               5.596588e+04   5.808881e+04          5.809829e+04   \n",
       "std                1.025336e+05   1.059654e+05          1.059718e+05   \n",
       "min               -4.233058e+05  -4.202502e+05         -4.202502e+05   \n",
       "25%                0.000000e+00   0.000000e+00          0.000000e+00   \n",
       "50%                0.000000e+00   0.000000e+00          0.000000e+00   \n",
       "75%                8.535924e+04   8.889949e+04          8.891451e+04   \n",
       "max                1.472317e+06   1.493338e+06          1.493338e+06   \n",
       "\n",
       "       CNT_DRAWINGS_ATM_CURRENT  CNT_DRAWINGS_CURRENT  \\\n",
       "count              3.090496e+06          3.840312e+06   \n",
       "mean               3.094490e-01          7.031439e-01   \n",
       "std                1.100401e+00          3.190347e+00   \n",
       "min                0.000000e+00          0.000000e+00   \n",
       "25%                0.000000e+00          0.000000e+00   \n",
       "50%                0.000000e+00          0.000000e+00   \n",
       "75%                0.000000e+00          0.000000e+00   \n",
       "max                5.100000e+01          1.650000e+02   \n",
       "\n",
       "       CNT_DRAWINGS_OTHER_CURRENT  CNT_DRAWINGS_POS_CURRENT  \\\n",
       "count                3.090496e+06              3.090496e+06   \n",
       "mean                 4.812496e-03              5.594791e-01   \n",
       "std                  8.263861e-02              3.240649e+00   \n",
       "min                  0.000000e+00              0.000000e+00   \n",
       "25%                  0.000000e+00              0.000000e+00   \n",
       "50%                  0.000000e+00              0.000000e+00   \n",
       "75%                  0.000000e+00              0.000000e+00   \n",
       "max                  1.200000e+01              1.650000e+02   \n",
       "\n",
       "       CNT_INSTALMENT_MATURE_CUM        SK_DPD    SK_DPD_DEF  \n",
       "count               3.535076e+06  3.840312e+06  3.840312e+06  \n",
       "mean                2.082508e+01  9.283667e+00  3.316220e-01  \n",
       "std                 2.005149e+01  9.751570e+01  2.147923e+01  \n",
       "min                 0.000000e+00  0.000000e+00  0.000000e+00  \n",
       "25%                 4.000000e+00  0.000000e+00  0.000000e+00  \n",
       "50%                 1.500000e+01  0.000000e+00  0.000000e+00  \n",
       "75%                 3.200000e+01  0.000000e+00  0.000000e+00  \n",
       "max                 1.200000e+02  3.260000e+03  3.260000e+03  \n",
       "\n",
       "[8 rows x 22 columns]"
      ]
     },
     "execution_count": 12,
     "metadata": {},
     "output_type": "execute_result"
    }
   ],
   "source": [
    "credit_card_balance.describe(include = np.number)"
   ]
  },
  {
   "cell_type": "code",
   "execution_count": null,
   "id": "54940ede",
   "metadata": {
    "papermill": {
     "duration": 0.010761,
     "end_time": "2022-11-04T04:11:02.715056",
     "exception": false,
     "start_time": "2022-11-04T04:11:02.704295",
     "status": "completed"
    },
    "tags": []
   },
   "outputs": [],
   "source": []
  },
  {
   "cell_type": "markdown",
   "id": "a3f63177",
   "metadata": {
    "papermill": {
     "duration": 0.011102,
     "end_time": "2022-11-04T04:11:02.737082",
     "exception": false,
     "start_time": "2022-11-04T04:11:02.725980",
     "status": "completed"
    },
    "tags": []
   },
   "source": [
    "### Correlation between features"
   ]
  },
  {
   "cell_type": "code",
   "execution_count": 13,
   "id": "4cc33a26",
   "metadata": {
    "execution": {
     "iopub.execute_input": "2022-11-04T04:11:02.759256Z",
     "iopub.status.busy": "2022-11-04T04:11:02.758851Z",
     "iopub.status.idle": "2022-11-04T04:11:11.092174Z",
     "shell.execute_reply": "2022-11-04T04:11:11.090624Z"
    },
    "papermill": {
     "duration": 8.347658,
     "end_time": "2022-11-04T04:11:11.095192",
     "exception": false,
     "start_time": "2022-11-04T04:11:02.747534",
     "status": "completed"
    },
    "tags": []
   },
   "outputs": [
    {
     "data": {
      "text/plain": [
       "<AxesSubplot:>"
      ]
     },
     "execution_count": 13,
     "metadata": {},
     "output_type": "execute_result"
    },
    {
     "data": {
      "image/png": "[encoded data removed]",
      "text/plain": [
       "<Figure size 432x288 with 2 Axes>"
      ]
     },
     "metadata": {
      "needs_background": "light"
     },
     "output_type": "display_data"
    }
   ],
   "source": [
    "mask = np.triu(np.ones_like(credit_card_balance.corr()))\n",
    "sns.heatmap(credit_card_balance.corr(), mask = mask)"
   ]
  },
  {
   "cell_type": "code",
   "execution_count": 14,
   "id": "f5b5e6dd",
   "metadata": {
    "execution": {
     "iopub.execute_input": "2022-11-04T04:11:11.120010Z",
     "iopub.status.busy": "2022-11-04T04:11:11.119629Z",
     "iopub.status.idle": "2022-11-04T04:11:11.126237Z",
     "shell.execute_reply": "2022-11-04T04:11:11.124750Z"
    },
    "papermill": {
     "duration": 0.02232,
     "end_time": "2022-11-04T04:11:11.129028",
     "exception": false,
     "start_time": "2022-11-04T04:11:11.106708",
     "status": "completed"
    },
    "tags": []
   },
   "outputs": [],
   "source": [
    "def find_high_corr_pair(df):\n",
    "    corr_matrix = df.corr()\n",
    "    upper = corr_matrix.where(np.triu(np.ones(corr_matrix.shape), k=1).astype(np.bool))\n",
    "    temp = []\n",
    "    for col in upper.columns:\n",
    "        for ind in upper.index:\n",
    "            if upper.loc[ind, col] > 0.8:\n",
    "                temp.append((col, ind))\n",
    "    return temp"
   ]
  },
  {
   "cell_type": "markdown",
   "id": "2fcb8a01",
   "metadata": {
    "papermill": {
     "duration": 0.010644,
     "end_time": "2022-11-04T04:11:11.150756",
     "exception": false,
     "start_time": "2022-11-04T04:11:11.140112",
     "status": "completed"
    },
    "tags": []
   },
   "source": [
    "### Dropping highly correlated features"
   ]
  },
  {
   "cell_type": "code",
   "execution_count": 15,
   "id": "6ab5f7d2",
   "metadata": {
    "execution": {
     "iopub.execute_input": "2022-11-04T04:11:11.174979Z",
     "iopub.status.busy": "2022-11-04T04:11:11.174266Z",
     "iopub.status.idle": "2022-11-04T04:11:11.178568Z",
     "shell.execute_reply": "2022-11-04T04:11:11.177784Z"
    },
    "papermill": {
     "duration": 0.019164,
     "end_time": "2022-11-04T04:11:11.181058",
     "exception": false,
     "start_time": "2022-11-04T04:11:11.161894",
     "status": "completed"
    },
    "tags": []
   },
   "outputs": [],
   "source": [
    "def search_description(name):\n",
    "    return description[description[\"Row\"] == name].values"
   ]
  },
  {
   "cell_type": "code",
   "execution_count": 16,
   "id": "34846e75",
   "metadata": {
    "execution": {
     "iopub.execute_input": "2022-11-04T04:11:11.206462Z",
     "iopub.status.busy": "2022-11-04T04:11:11.205815Z",
     "iopub.status.idle": "2022-11-04T04:11:15.147275Z",
     "shell.execute_reply": "2022-11-04T04:11:15.146286Z"
    },
    "papermill": {
     "duration": 3.957748,
     "end_time": "2022-11-04T04:11:15.150496",
     "exception": false,
     "start_time": "2022-11-04T04:11:11.192748",
     "status": "completed"
    },
    "tags": []
   },
   "outputs": [
    {
     "name": "stdout",
     "output_type": "stream",
     "text": [
      "[['AMT_DRAWINGS_CURRENT'\n",
      "  'Amount drawing during the month of the previous credit']] [['AMT_DRAWINGS_ATM_CURRENT'\n",
      "  'Amount drawing at ATM during the month of the previous credit']]\n",
      "[['AMT_INST_MIN_REGULARITY'\n",
      "  'Minimal installment for this month of the previous credit']] [['AMT_BALANCE' 'Balance during the month of previous credit']]\n",
      "[['AMT_PAYMENT_TOTAL_CURRENT'\n",
      "  'How much did the client pay during the month in total on the previous credit']] [['AMT_PAYMENT_CURRENT'\n",
      "  'How much did the client pay during the month on the previous credit']]\n",
      "[['AMT_RECEIVABLE_PRINCIPAL'\n",
      "  'Amount receivable for principal on the previous credit']] [['AMT_BALANCE' 'Balance during the month of previous credit']]\n",
      "[['AMT_RECEIVABLE_PRINCIPAL'\n",
      "  'Amount receivable for principal on the previous credit']] [['AMT_INST_MIN_REGULARITY'\n",
      "  'Minimal installment for this month of the previous credit']]\n",
      "[['AMT_RECIVABLE' 'Amount receivable on the previous credit']] [['AMT_BALANCE' 'Balance during the month of previous credit']]\n",
      "[['AMT_RECIVABLE' 'Amount receivable on the previous credit']] [['AMT_INST_MIN_REGULARITY'\n",
      "  'Minimal installment for this month of the previous credit']]\n",
      "[['AMT_RECIVABLE' 'Amount receivable on the previous credit']] [['AMT_RECEIVABLE_PRINCIPAL'\n",
      "  'Amount receivable for principal on the previous credit']]\n",
      "[['AMT_TOTAL_RECEIVABLE' 'Total amount receivable on the previous credit']] [['AMT_BALANCE' 'Balance during the month of previous credit']]\n",
      "[['AMT_TOTAL_RECEIVABLE' 'Total amount receivable on the previous credit']] [['AMT_INST_MIN_REGULARITY'\n",
      "  'Minimal installment for this month of the previous credit']]\n",
      "[['AMT_TOTAL_RECEIVABLE' 'Total amount receivable on the previous credit']] [['AMT_RECEIVABLE_PRINCIPAL'\n",
      "  'Amount receivable for principal on the previous credit']]\n",
      "[['AMT_TOTAL_RECEIVABLE' 'Total amount receivable on the previous credit']] [['AMT_RECIVABLE' 'Amount receivable on the previous credit']]\n",
      "[['CNT_DRAWINGS_POS_CURRENT'\n",
      "  'Number of drawings for goods during this month on the previous credit']] [['CNT_DRAWINGS_CURRENT'\n",
      "  'Number of drawings during this month on the previous credit']]\n"
     ]
    },
    {
     "name": "stderr",
     "output_type": "stream",
     "text": [
      "/opt/conda/lib/python3.7/site-packages/ipykernel_launcher.py:3: DeprecationWarning: `np.bool` is a deprecated alias for the builtin `bool`. To silence this warning, use `bool` by itself. Doing this will not modify any behavior and is safe. If you specifically wanted the numpy scalar type, use `np.bool_` here.\n",
      "Deprecated in NumPy 1.20; for more details and guidance: https://numpy.org/devdocs/release/1.20.0-notes.html#deprecations\n",
      "  This is separate from the ipykernel package so we can avoid doing imports until\n"
     ]
    }
   ],
   "source": [
    "high_corr = find_high_corr_pair(credit_card_balance)\n",
    "for i in high_corr:\n",
    "    print(search_description(i[0]), search_description(i[1]))"
   ]
  },
  {
   "cell_type": "code",
   "execution_count": 17,
   "id": "5c913923",
   "metadata": {
    "execution": {
     "iopub.execute_input": "2022-11-04T04:11:15.176225Z",
     "iopub.status.busy": "2022-11-04T04:11:15.175081Z",
     "iopub.status.idle": "2022-11-04T04:11:15.290573Z",
     "shell.execute_reply": "2022-11-04T04:11:15.288844Z"
    },
    "papermill": {
     "duration": 0.131733,
     "end_time": "2022-11-04T04:11:15.293988",
     "exception": false,
     "start_time": "2022-11-04T04:11:15.162255",
     "status": "completed"
    },
    "tags": []
   },
   "outputs": [],
   "source": [
    "to_drop = [\"AMT_DRAWINGS_ATM_CURRENT\", 'AMT_INST_MIN_REGULARITY', 'AMT_PAYMENT_TOTAL_CURRENT', 'AMT_RECIVABLE', 'CNT_DRAWINGS_POS_CURRENT', 'AMT_TOTAL_RECEIVABLE', 'AMT_RECEIVABLE_PRINCIPAL']\n",
    "credit_card_balance.drop(to_drop, axis = 1, inplace = True)"
   ]
  },
  {
   "cell_type": "code",
   "execution_count": 18,
   "id": "94d5e078",
   "metadata": {
    "execution": {
     "iopub.execute_input": "2022-11-04T04:11:15.318497Z",
     "iopub.status.busy": "2022-11-04T04:11:15.318069Z",
     "iopub.status.idle": "2022-11-04T04:11:15.326199Z",
     "shell.execute_reply": "2022-11-04T04:11:15.325018Z"
    },
    "papermill": {
     "duration": 0.023351,
     "end_time": "2022-11-04T04:11:15.328857",
     "exception": false,
     "start_time": "2022-11-04T04:11:15.305506",
     "status": "completed"
    },
    "tags": []
   },
   "outputs": [
    {
     "data": {
      "text/plain": [
       "(5, 16)"
      ]
     },
     "execution_count": 18,
     "metadata": {},
     "output_type": "execute_result"
    }
   ],
   "source": [
    "credit_card_balance.head().shape"
   ]
  },
  {
   "cell_type": "markdown",
   "id": "cc523db1",
   "metadata": {
    "papermill": {
     "duration": 0.011198,
     "end_time": "2022-11-04T04:11:15.352306",
     "exception": false,
     "start_time": "2022-11-04T04:11:15.341108",
     "status": "completed"
    },
    "tags": []
   },
   "source": [
    "Checking duplicated rows (no duplicated)"
   ]
  },
  {
   "cell_type": "code",
   "execution_count": 19,
   "id": "7cc081d4",
   "metadata": {
    "execution": {
     "iopub.execute_input": "2022-11-04T04:11:15.378143Z",
     "iopub.status.busy": "2022-11-04T04:11:15.377758Z",
     "iopub.status.idle": "2022-11-04T04:11:19.432687Z",
     "shell.execute_reply": "2022-11-04T04:11:19.430961Z"
    },
    "papermill": {
     "duration": 4.071114,
     "end_time": "2022-11-04T04:11:19.435402",
     "exception": false,
     "start_time": "2022-11-04T04:11:15.364288",
     "status": "completed"
    },
    "tags": []
   },
   "outputs": [
    {
     "data": {
      "text/html": [
       "<div>\n",
       "<style scoped>\n",
       "    .dataframe tbody tr th:only-of-type {\n",
       "        vertical-align: middle;\n",
       "    }\n",
       "\n",
       "    .dataframe tbody tr th {\n",
       "        vertical-align: top;\n",
       "    }\n",
       "\n",
       "    .dataframe thead th {\n",
       "        text-align: right;\n",
       "    }\n",
       "</style>\n",
       "<table border=\"1\" class=\"dataframe\">\n",
       "  <thead>\n",
       "    <tr style=\"text-align: right;\">\n",
       "      <th></th>\n",
       "      <th>SK_ID_PREV</th>\n",
       "      <th>SK_ID_CURR</th>\n",
       "      <th>MONTHS_BALANCE</th>\n",
       "      <th>AMT_BALANCE</th>\n",
       "      <th>AMT_CREDIT_LIMIT_ACTUAL</th>\n",
       "      <th>AMT_DRAWINGS_CURRENT</th>\n",
       "      <th>AMT_DRAWINGS_OTHER_CURRENT</th>\n",
       "      <th>AMT_DRAWINGS_POS_CURRENT</th>\n",
       "      <th>AMT_PAYMENT_CURRENT</th>\n",
       "      <th>CNT_DRAWINGS_ATM_CURRENT</th>\n",
       "      <th>CNT_DRAWINGS_CURRENT</th>\n",
       "      <th>CNT_DRAWINGS_OTHER_CURRENT</th>\n",
       "      <th>CNT_INSTALMENT_MATURE_CUM</th>\n",
       "      <th>NAME_CONTRACT_STATUS</th>\n",
       "      <th>SK_DPD</th>\n",
       "      <th>SK_DPD_DEF</th>\n",
       "    </tr>\n",
       "  </thead>\n",
       "  <tbody>\n",
       "  </tbody>\n",
       "</table>\n",
       "</div>"
      ],
      "text/plain": [
       "Empty DataFrame\n",
       "Columns: [SK_ID_PREV, SK_ID_CURR, MONTHS_BALANCE, AMT_BALANCE, AMT_CREDIT_LIMIT_ACTUAL, AMT_DRAWINGS_CURRENT, AMT_DRAWINGS_OTHER_CURRENT, AMT_DRAWINGS_POS_CURRENT, AMT_PAYMENT_CURRENT, CNT_DRAWINGS_ATM_CURRENT, CNT_DRAWINGS_CURRENT, CNT_DRAWINGS_OTHER_CURRENT, CNT_INSTALMENT_MATURE_CUM, NAME_CONTRACT_STATUS, SK_DPD, SK_DPD_DEF]\n",
       "Index: []"
      ]
     },
     "execution_count": 19,
     "metadata": {},
     "output_type": "execute_result"
    }
   ],
   "source": [
    "credit_card_balance[credit_card_balance.duplicated()]"
   ]
  },
  {
   "cell_type": "markdown",
   "id": "f0755dd8",
   "metadata": {
    "papermill": {
     "duration": 0.011322,
     "end_time": "2022-11-04T04:11:19.458627",
     "exception": false,
     "start_time": "2022-11-04T04:11:19.447305",
     "status": "completed"
    },
    "tags": []
   },
   "source": [
    "# 2. Explore data"
   ]
  },
  {
   "cell_type": "markdown",
   "id": "3fa6f41c",
   "metadata": {
    "papermill": {
     "duration": 0.010885,
     "end_time": "2022-11-04T04:11:19.480719",
     "exception": false,
     "start_time": "2022-11-04T04:11:19.469834",
     "status": "completed"
    },
    "tags": []
   },
   "source": [
    "### Exploring contract status"
   ]
  },
  {
   "cell_type": "code",
   "execution_count": 20,
   "id": "4135d390",
   "metadata": {
    "execution": {
     "iopub.execute_input": "2022-11-04T04:11:19.504846Z",
     "iopub.status.busy": "2022-11-04T04:11:19.504527Z",
     "iopub.status.idle": "2022-11-04T04:11:19.736368Z",
     "shell.execute_reply": "2022-11-04T04:11:19.735325Z"
    },
    "papermill": {
     "duration": 0.246811,
     "end_time": "2022-11-04T04:11:19.738658",
     "exception": false,
     "start_time": "2022-11-04T04:11:19.491847",
     "status": "completed"
    },
    "tags": []
   },
   "outputs": [
    {
     "data": {
      "text/plain": [
       "array(['Active', 'Completed', 'Demand', 'Signed', 'Sent proposal',\n",
       "       'Refused', 'Approved'], dtype=object)"
      ]
     },
     "execution_count": 20,
     "metadata": {},
     "output_type": "execute_result"
    }
   ],
   "source": [
    "credit_card_balance[\"NAME_CONTRACT_STATUS\"].unique()"
   ]
  },
  {
   "cell_type": "code",
   "execution_count": 21,
   "id": "3caef0fa",
   "metadata": {
    "execution": {
     "iopub.execute_input": "2022-11-04T04:11:19.764136Z",
     "iopub.status.busy": "2022-11-04T04:11:19.763691Z",
     "iopub.status.idle": "2022-11-04T04:11:19.771329Z",
     "shell.execute_reply": "2022-11-04T04:11:19.770053Z"
    },
    "papermill": {
     "duration": 0.023129,
     "end_time": "2022-11-04T04:11:19.773657",
     "exception": false,
     "start_time": "2022-11-04T04:11:19.750528",
     "status": "completed"
    },
    "tags": []
   },
   "outputs": [
    {
     "data": {
      "text/plain": [
       "array([['NAME_CONTRACT_STATUS',\n",
       "        'Contract status (active signed,...) on the previous credit']],\n",
       "      dtype=object)"
      ]
     },
     "execution_count": 21,
     "metadata": {},
     "output_type": "execute_result"
    }
   ],
   "source": [
    "search_description(\"NAME_CONTRACT_STATUS\")"
   ]
  },
  {
   "cell_type": "code",
   "execution_count": 22,
   "id": "16e62980",
   "metadata": {
    "execution": {
     "iopub.execute_input": "2022-11-04T04:11:19.798749Z",
     "iopub.status.busy": "2022-11-04T04:11:19.798261Z",
     "iopub.status.idle": "2022-11-04T04:11:20.000437Z",
     "shell.execute_reply": "2022-11-04T04:11:19.998859Z"
    },
    "papermill": {
     "duration": 0.217278,
     "end_time": "2022-11-04T04:11:20.002769",
     "exception": false,
     "start_time": "2022-11-04T04:11:19.785491",
     "status": "completed"
    },
    "tags": []
   },
   "outputs": [
    {
     "data": {
      "text/plain": [
       "Active           3698436\n",
       "Completed         128918\n",
       "Signed             11058\n",
       "Demand              1365\n",
       "Sent proposal        513\n",
       "Refused               17\n",
       "Approved               5\n",
       "Name: NAME_CONTRACT_STATUS, dtype: int64"
      ]
     },
     "execution_count": 22,
     "metadata": {},
     "output_type": "execute_result"
    }
   ],
   "source": [
    "credit_card_balance[\"NAME_CONTRACT_STATUS\"].value_counts()"
   ]
  },
  {
   "cell_type": "code",
   "execution_count": 23,
   "id": "9d89db33",
   "metadata": {
    "execution": {
     "iopub.execute_input": "2022-11-04T04:11:20.028337Z",
     "iopub.status.busy": "2022-11-04T04:11:20.027911Z",
     "iopub.status.idle": "2022-11-04T04:11:20.033955Z",
     "shell.execute_reply": "2022-11-04T04:11:20.032568Z"
    },
    "papermill": {
     "duration": 0.021179,
     "end_time": "2022-11-04T04:11:20.036010",
     "exception": false,
     "start_time": "2022-11-04T04:11:20.014831",
     "status": "completed"
    },
    "tags": []
   },
   "outputs": [],
   "source": [
    "def delete_spine2(ax):\n",
    "    for i in [\"top\", \"right\"]:\n",
    "        ax.spines[i].set_visible(False)"
   ]
  },
  {
   "cell_type": "code",
   "execution_count": 24,
   "id": "e8eabcfe",
   "metadata": {
    "execution": {
     "iopub.execute_input": "2022-11-04T04:11:20.061097Z",
     "iopub.status.busy": "2022-11-04T04:11:20.060715Z",
     "iopub.status.idle": "2022-11-04T04:11:20.496195Z",
     "shell.execute_reply": "2022-11-04T04:11:20.494425Z"
    },
    "papermill": {
     "duration": 0.451499,
     "end_time": "2022-11-04T04:11:20.499228",
     "exception": false,
     "start_time": "2022-11-04T04:11:20.047729",
     "status": "completed"
    },
    "tags": []
   },
   "outputs": [
    {
     "data": {
      "text/plain": [
       "Text(0.5, 1.0, 'Count contracts by status')"
      ]
     },
     "execution_count": 24,
     "metadata": {},
     "output_type": "execute_result"
    },
    {
     "data": {
      "image/png": "[encoded data removed]",
      "text/plain": [
       "<Figure size 432x288 with 1 Axes>"
      ]
     },
     "metadata": {
      "needs_background": "light"
     },
     "output_type": "display_data"
    }
   ],
   "source": [
    "plots = credit_card_balance[\"NAME_CONTRACT_STATUS\"].value_counts().plot(kind = \"bar\")\n",
    "for bar in plots.patches:\n",
    "    plt.annotate(format(bar.get_height(), '.2f'),\n",
    "                       (bar.get_x() + bar.get_width() + 0.01 / 2,\n",
    "                        bar.get_height() + 100000), ha='center', va='center')\n",
    "delete_spine2(plots)\n",
    "plots.set_title(\"Count contracts by status\", size = 16, weight = \"bold\")"
   ]
  },
  {
   "cell_type": "markdown",
   "id": "0df816c8",
   "metadata": {
    "papermill": {
     "duration": 0.011728,
     "end_time": "2022-11-04T04:11:20.523184",
     "exception": false,
     "start_time": "2022-11-04T04:11:20.511456",
     "status": "completed"
    },
    "tags": []
   },
   "source": [
    "### exploring month balance"
   ]
  },
  {
   "cell_type": "code",
   "execution_count": 25,
   "id": "4ceadaa0",
   "metadata": {
    "execution": {
     "iopub.execute_input": "2022-11-04T04:11:20.550504Z",
     "iopub.status.busy": "2022-11-04T04:11:20.550081Z",
     "iopub.status.idle": "2022-11-04T04:11:23.367615Z",
     "shell.execute_reply": "2022-11-04T04:11:23.366382Z"
    },
    "papermill": {
     "duration": 2.834853,
     "end_time": "2022-11-04T04:11:23.371008",
     "exception": false,
     "start_time": "2022-11-04T04:11:20.536155",
     "status": "completed"
    },
    "tags": []
   },
   "outputs": [
    {
     "data": {
      "text/plain": [
       "<seaborn.axisgrid.FacetGrid at 0x7f339ede39d0>"
      ]
     },
     "execution_count": 25,
     "metadata": {},
     "output_type": "execute_result"
    },
    {
     "data": {
      "image/png": "[encoded data removed]",
      "text/plain": [
       "<Figure size 360x360 with 1 Axes>"
      ]
     },
     "metadata": {
      "needs_background": "light"
     },
     "output_type": "display_data"
    }
   ],
   "source": [
    "sns.displot(credit_card_balance[\"MONTHS_BALANCE\"])"
   ]
  },
  {
   "cell_type": "code",
   "execution_count": 26,
   "id": "1407fc7f",
   "metadata": {
    "execution": {
     "iopub.execute_input": "2022-11-04T04:11:23.398882Z",
     "iopub.status.busy": "2022-11-04T04:11:23.398514Z",
     "iopub.status.idle": "2022-11-04T04:11:23.576982Z",
     "shell.execute_reply": "2022-11-04T04:11:23.575409Z"
    },
    "papermill": {
     "duration": 0.194987,
     "end_time": "2022-11-04T04:11:23.579199",
     "exception": false,
     "start_time": "2022-11-04T04:11:23.384212",
     "status": "completed"
    },
    "tags": []
   },
   "outputs": [
    {
     "name": "stderr",
     "output_type": "stream",
     "text": [
      "/opt/conda/lib/python3.7/site-packages/pandas/core/frame.py:4913: SettingWithCopyWarning: \n",
      "A value is trying to be set on a copy of a slice from a DataFrame\n",
      "\n",
      "See the caveats in the documentation: https://pandas.pydata.org/pandas-docs/stable/user_guide/indexing.html#returning-a-view-versus-a-copy\n",
      "  errors=errors,\n"
     ]
    }
   ],
   "source": [
    "numeric_only = credit_card_balance.select_dtypes(include=np.number)\n",
    "numeric_only.drop([\t\"SK_ID_PREV\", \"SK_ID_CURR\"], axis = 1, inplace = True)"
   ]
  },
  {
   "cell_type": "markdown",
   "id": "74d1f042",
   "metadata": {
    "papermill": {
     "duration": 0.012542,
     "end_time": "2022-11-04T04:11:23.605498",
     "exception": false,
     "start_time": "2022-11-04T04:11:23.592956",
     "status": "completed"
    },
    "tags": []
   },
   "source": [
    "### Exploring numeric features"
   ]
  },
  {
   "cell_type": "code",
   "execution_count": 27,
   "id": "b5340d92",
   "metadata": {
    "execution": {
     "iopub.execute_input": "2022-11-04T04:11:23.632425Z",
     "iopub.status.busy": "2022-11-04T04:11:23.631944Z",
     "iopub.status.idle": "2022-11-04T04:14:55.157559Z",
     "shell.execute_reply": "2022-11-04T04:14:55.155890Z"
    },
    "papermill": {
     "duration": 211.541511,
     "end_time": "2022-11-04T04:14:55.160004",
     "exception": false,
     "start_time": "2022-11-04T04:11:23.618493",
     "status": "completed"
    },
    "tags": []
   },
   "outputs": [
    {
     "name": "stderr",
     "output_type": "stream",
     "text": [
      "/opt/conda/lib/python3.7/site-packages/seaborn/distributions.py:2619: FutureWarning: `distplot` is a deprecated function and will be removed in a future version. Please adapt your code to use either `displot` (a figure-level function with similar flexibility) or `histplot` (an axes-level function for histograms).\n",
      "  warnings.warn(msg, FutureWarning)\n",
      "/opt/conda/lib/python3.7/site-packages/seaborn/distributions.py:2619: FutureWarning: `distplot` is a deprecated function and will be removed in a future version. Please adapt your code to use either `displot` (a figure-level function with similar flexibility) or `histplot` (an axes-level function for histograms).\n",
      "  warnings.warn(msg, FutureWarning)\n",
      "/opt/conda/lib/python3.7/site-packages/seaborn/distributions.py:2619: FutureWarning: `distplot` is a deprecated function and will be removed in a future version. Please adapt your code to use either `displot` (a figure-level function with similar flexibility) or `histplot` (an axes-level function for histograms).\n",
      "  warnings.warn(msg, FutureWarning)\n",
      "/opt/conda/lib/python3.7/site-packages/seaborn/distributions.py:2619: FutureWarning: `distplot` is a deprecated function and will be removed in a future version. Please adapt your code to use either `displot` (a figure-level function with similar flexibility) or `histplot` (an axes-level function for histograms).\n",
      "  warnings.warn(msg, FutureWarning)\n",
      "/opt/conda/lib/python3.7/site-packages/seaborn/distributions.py:2619: FutureWarning: `distplot` is a deprecated function and will be removed in a future version. Please adapt your code to use either `displot` (a figure-level function with similar flexibility) or `histplot` (an axes-level function for histograms).\n",
      "  warnings.warn(msg, FutureWarning)\n",
      "/opt/conda/lib/python3.7/site-packages/seaborn/distributions.py:2619: FutureWarning: `distplot` is a deprecated function and will be removed in a future version. Please adapt your code to use either `displot` (a figure-level function with similar flexibility) or `histplot` (an axes-level function for histograms).\n",
      "  warnings.warn(msg, FutureWarning)\n",
      "/opt/conda/lib/python3.7/site-packages/seaborn/distributions.py:2619: FutureWarning: `distplot` is a deprecated function and will be removed in a future version. Please adapt your code to use either `displot` (a figure-level function with similar flexibility) or `histplot` (an axes-level function for histograms).\n",
      "  warnings.warn(msg, FutureWarning)\n",
      "/opt/conda/lib/python3.7/site-packages/seaborn/distributions.py:2619: FutureWarning: `distplot` is a deprecated function and will be removed in a future version. Please adapt your code to use either `displot` (a figure-level function with similar flexibility) or `histplot` (an axes-level function for histograms).\n",
      "  warnings.warn(msg, FutureWarning)\n",
      "/opt/conda/lib/python3.7/site-packages/seaborn/distributions.py:2619: FutureWarning: `distplot` is a deprecated function and will be removed in a future version. Please adapt your code to use either `displot` (a figure-level function with similar flexibility) or `histplot` (an axes-level function for histograms).\n",
      "  warnings.warn(msg, FutureWarning)\n",
      "/opt/conda/lib/python3.7/site-packages/seaborn/distributions.py:2619: FutureWarning: `distplot` is a deprecated function and will be removed in a future version. Please adapt your code to use either `displot` (a figure-level function with similar flexibility) or `histplot` (an axes-level function for histograms).\n",
      "  warnings.warn(msg, FutureWarning)\n",
      "/opt/conda/lib/python3.7/site-packages/seaborn/distributions.py:2619: FutureWarning: `distplot` is a deprecated function and will be removed in a future version. Please adapt your code to use either `displot` (a figure-level function with similar flexibility) or `histplot` (an axes-level function for histograms).\n",
      "  warnings.warn(msg, FutureWarning)\n",
      "/opt/conda/lib/python3.7/site-packages/seaborn/distributions.py:2619: FutureWarning: `distplot` is a deprecated function and will be removed in a future version. Please adapt your code to use either `displot` (a figure-level function with similar flexibility) or `histplot` (an axes-level function for histograms).\n",
      "  warnings.warn(msg, FutureWarning)\n",
      "/opt/conda/lib/python3.7/site-packages/seaborn/distributions.py:2619: FutureWarning: `distplot` is a deprecated function and will be removed in a future version. Please adapt your code to use either `displot` (a figure-level function with similar flexibility) or `histplot` (an axes-level function for histograms).\n",
      "  warnings.warn(msg, FutureWarning)\n"
     ]
    },
    {
     "data": {
      "image/png": "[encoded data removed]",
      "text/plain": [
       "<Figure size 864x360 with 1 Axes>"
      ]
     },
     "metadata": {
      "needs_background": "light"
     },
     "output_type": "display_data"
    },
    {
     "data": {
      "image/png": "[encoded data removed]",
      "text/plain": [
       "<Figure size 864x360 with 1 Axes>"
      ]
     },
     "metadata": {
      "needs_background": "light"
     },
     "output_type": "display_data"
    },
    {
     "data": {
      "image/png": "[encoded data removed]",
      "text/plain": [
       "<Figure size 864x360 with 1 Axes>"
      ]
     },
     "metadata": {
      "needs_background": "light"
     },
     "output_type": "display_data"
    },
    {
     "data": {
      "image/png": "[encoded data removed]",
      "text/plain": [
       "<Figure size 864x360 with 1 Axes>"
      ]
     },
     "metadata": {
      "needs_background": "light"
     },
     "output_type": "display_data"
    },
    {
     "data": {
      "image/png": "[encoded data removed]",
      "text/plain": [
       "<Figure size 864x360 with 1 Axes>"
      ]
     },
     "metadata": {
      "needs_background": "light"
     },
     "output_type": "display_data"
    },
    {
     "data": {
      "image/png": "[encoded data removed]",
      "text/plain": [
       "<Figure size 864x360 with 1 Axes>"
      ]
     },
     "metadata": {
      "needs_background": "light"
     },
     "output_type": "display_data"
    },
    {
     "data": {
      "image/png": "[encoded data removed]",
      "text/plain": [
       "<Figure size 864x360 with 1 Axes>"
      ]
     },
     "metadata": {
      "needs_background": "light"
     },
     "output_type": "display_data"
    },
    {
     "data": {
      "image/png": "[encoded data removed]",
      "text/plain": [
       "<Figure size 864x360 with 1 Axes>"
      ]
     },
     "metadata": {
      "needs_background": "light"
     },
     "output_type": "display_data"
    },
    {
     "data": {
      "image/png": "[encoded data removed]",
      "text/plain": [
       "<Figure size 864x360 with 1 Axes>"
      ]
     },
     "metadata": {
      "needs_background": "light"
     },
     "output_type": "display_data"
    },
    {
     "data": {
      "image/png": "[encoded data removed]",
      "text/plain": [
       "<Figure size 864x360 with 1 Axes>"
      ]
     },
     "metadata": {
      "needs_background": "light"
     },
     "output_type": "display_data"
    },
    {
     "data": {
      "image/png": "[encoded data removed]",
      "text/plain": [
       "<Figure size 864x360 with 1 Axes>"
      ]
     },
     "metadata": {
      "needs_background": "light"
     },
     "output_type": "display_data"
    },
    {
     "data": {
      "image/png": "[encoded data removed]",
      "text/plain": [
       "<Figure size 864x360 with 1 Axes>"
      ]
     },
     "metadata": {
      "needs_background": "light"
     },
     "output_type": "display_data"
    },
    {
     "data": {
      "image/png": "[encoded data removed]",
      "text/plain": [
       "<Figure size 864x360 with 1 Axes>"
      ]
     },
     "metadata": {
      "needs_background": "light"
     },
     "output_type": "display_data"
    }
   ],
   "source": [
    "def plot_numeric_dist3(table, column):\n",
    "\n",
    "    plt.figure(figsize=(12,5))\n",
    "    plt.title(f\"Distribution of {column}\")\n",
    "    ax = sns.distplot(table[column])\n",
    "    \n",
    "\n",
    "for i in numeric_only.columns:\n",
    "    plot_numeric_dist3(numeric_only, i)"
   ]
  },
  {
   "cell_type": "code",
   "execution_count": 28,
   "id": "76a07088",
   "metadata": {
    "execution": {
     "iopub.execute_input": "2022-11-04T04:14:55.198022Z",
     "iopub.status.busy": "2022-11-04T04:14:55.197604Z",
     "iopub.status.idle": "2022-11-04T04:15:16.885826Z",
     "shell.execute_reply": "2022-11-04T04:15:16.885078Z"
    },
    "papermill": {
     "duration": 21.710498,
     "end_time": "2022-11-04T04:15:16.888521",
     "exception": false,
     "start_time": "2022-11-04T04:14:55.178023",
     "status": "completed"
    },
    "tags": []
   },
   "outputs": [],
   "source": [
    "credit_card_balance.to_csv(\"./clean_credit_card_balance\")"
   ]
  },
  {
   "cell_type": "code",
   "execution_count": null,
   "id": "36234686",
   "metadata": {
    "papermill": {
     "duration": 0.017193,
     "end_time": "2022-11-04T04:15:16.922348",
     "exception": false,
     "start_time": "2022-11-04T04:15:16.905155",
     "status": "completed"
    },
    "tags": []
   },
   "outputs": [],
   "source": []
  },
  {
   "cell_type": "code",
   "execution_count": null,
   "id": "6311dc4d",
   "metadata": {
    "papermill": {
     "duration": 0.016517,
     "end_time": "2022-11-04T04:15:16.955726",
     "exception": false,
     "start_time": "2022-11-04T04:15:16.939209",
     "status": "completed"
    },
    "tags": []
   },
   "outputs": [],
   "source": []
  }
 ],
 "metadata": {
  "kernelspec": {
   "display_name": "Python 3",
   "language": "python",
   "name": "python3"
  },
  "language_info": {
   "codemirror_mode": {
    "name": "ipython",
    "version": 3
   },
   "file_extension": ".py",
   "mimetype": "text/x-python",
   "name": "python",
   "nbconvert_exporter": "python",
   "pygments_lexer": "ipython3",
   "version": "3.7.12"
  },
  "papermill": {
   "default_parameters": {},
   "duration": 281.9013,
   "end_time": "2022-11-04T04:15:17.896645",
   "environment_variables": {},
   "exception": null,
   "input_path": "__notebook__.ipynb",
   "output_path": "__notebook__.ipynb",
   "parameters": {},
   "start_time": "2022-11-04T04:10:35.995345",
   "version": "2.3.4"
  }
 },
 "nbformat": 4,
 "nbformat_minor": 5
}
