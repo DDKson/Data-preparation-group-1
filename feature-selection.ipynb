{
 "cells": [
  {
   "cell_type": "code",
   "execution_count": 1,
   "id": "9bf4d168",
   "metadata": {
    "_cell_guid": "b1076dfc-b9ad-4769-8c92-a6c4dae69d19",
    "_uuid": "8f2839f25d086af736a60e9eeb907d3b93b6e0e5",
    "execution": {
     "iopub.execute_input": "2022-11-09T13:57:27.043993Z",
     "iopub.status.busy": "2022-11-09T13:57:27.043469Z",
     "iopub.status.idle": "2022-11-09T13:57:27.062318Z",
     "shell.execute_reply": "2022-11-09T13:57:27.061447Z"
    },
    "papermill": {
     "duration": 0.026129,
     "end_time": "2022-11-09T13:57:27.064364",
     "exception": false,
     "start_time": "2022-11-09T13:57:27.038235",
     "status": "completed"
    },
    "tags": []
   },
   "outputs": [
    {
     "name": "stdout",
     "output_type": "stream",
     "text": [
      "/kaggle/input/final-merged-data/app_train_merge_bureau.csv\n",
      "/kaggle/input/final-merged-data/final_merged_table.csv\n"
     ]
    }
   ],
   "source": [
    "# This Python 3 environment comes with many helpful analytics libraries installed\n",
    "# It is defined by the kaggle/python Docker image: https://github.com/kaggle/docker-python\n",
    "# For example, here's several helpful packages to load\n",
    "\n",
    "import numpy as np # linear algebra\n",
    "import pandas as pd # data processing, CSV file I/O (e.g. pd.read_csv)\n",
    "import matplotlib.pyplot as plt\n",
    "\n",
    "# Input data files are available in the read-only \"../input/\" directory\n",
    "# For example, running this (by clicking run or pressing Shift+Enter) will list all files under the input directory\n",
    "\n",
    "import os\n",
    "for dirname, _, filenames in os.walk('/kaggle/input'):\n",
    "    for filename in filenames:\n",
    "        print(os.path.join(dirname, filename))\n",
    "\n",
    "# You can write up to 20GB to the current directory (/kaggle/working/) that gets preserved as output when you create a version using \"Save & Run All\" \n",
    "# You can also write temporary files to /kaggle/temp/, but they won't be saved outside of the current session"
   ]
  },
  {
   "cell_type": "code",
   "execution_count": 2,
   "id": "6cd582b2",
   "metadata": {
    "execution": {
     "iopub.execute_input": "2022-11-09T13:57:27.071533Z",
     "iopub.status.busy": "2022-11-09T13:57:27.071120Z",
     "iopub.status.idle": "2022-11-09T13:57:32.212655Z",
     "shell.execute_reply": "2022-11-09T13:57:32.211691Z"
    },
    "papermill": {
     "duration": 5.148194,
     "end_time": "2022-11-09T13:57:32.215451",
     "exception": false,
     "start_time": "2022-11-09T13:57:27.067257",
     "status": "completed"
    },
    "tags": []
   },
   "outputs": [],
   "source": [
    "final = pd.read_csv(\"../input/final-merged-data/final_merged_table.csv\")"
   ]
  },
  {
   "cell_type": "markdown",
   "id": "30d4474d",
   "metadata": {
    "papermill": {
     "duration": 0.002376,
     "end_time": "2022-11-09T13:57:32.220806",
     "exception": false,
     "start_time": "2022-11-09T13:57:32.218430",
     "status": "completed"
    },
    "tags": []
   },
   "source": [
    "# SELECT CATEGORICAL FEATURES"
   ]
  },
  {
   "cell_type": "code",
   "execution_count": 3,
   "id": "7d9df4e5",
   "metadata": {
    "execution": {
     "iopub.execute_input": "2022-11-09T13:57:32.227369Z",
     "iopub.status.busy": "2022-11-09T13:57:32.227024Z",
     "iopub.status.idle": "2022-11-09T13:57:33.101874Z",
     "shell.execute_reply": "2022-11-09T13:57:33.100573Z"
    },
    "papermill": {
     "duration": 0.880868,
     "end_time": "2022-11-09T13:57:33.104104",
     "exception": false,
     "start_time": "2022-11-09T13:57:32.223236",
     "status": "completed"
    },
    "tags": []
   },
   "outputs": [],
   "source": [
    "from sklearn.preprocessing import OrdinalEncoder\n",
    "def prepare_categorical(x):\n",
    "    oe = OrdinalEncoder()\n",
    "    oe.fit(x)\n",
    "    x_new = oe.transform(x)\n",
    "    return x_new"
   ]
  },
  {
   "cell_type": "code",
   "execution_count": 4,
   "id": "a19b6177",
   "metadata": {
    "execution": {
     "iopub.execute_input": "2022-11-09T13:57:33.110899Z",
     "iopub.status.busy": "2022-11-09T13:57:33.110569Z",
     "iopub.status.idle": "2022-11-09T13:57:37.053491Z",
     "shell.execute_reply": "2022-11-09T13:57:37.052467Z"
    },
    "papermill": {
     "duration": 3.948994,
     "end_time": "2022-11-09T13:57:37.055887",
     "exception": false,
     "start_time": "2022-11-09T13:57:33.106893",
     "status": "completed"
    },
    "tags": []
   },
   "outputs": [
    {
     "name": "stderr",
     "output_type": "stream",
     "text": [
      "/opt/conda/lib/python3.7/site-packages/ipykernel_launcher.py:4: SettingWithCopyWarning: \n",
      "A value is trying to be set on a copy of a slice from a DataFrame.\n",
      "Try using .loc[row_indexer,col_indexer] = value instead\n",
      "\n",
      "See the caveats in the documentation: https://pandas.pydata.org/pandas-docs/stable/user_guide/indexing.html#returning-a-view-versus-a-copy\n",
      "  after removing the cwd from sys.path.\n"
     ]
    },
    {
     "data": {
      "text/html": [
       "<div>\n",
       "<style scoped>\n",
       "    .dataframe tbody tr th:only-of-type {\n",
       "        vertical-align: middle;\n",
       "    }\n",
       "\n",
       "    .dataframe tbody tr th {\n",
       "        vertical-align: top;\n",
       "    }\n",
       "\n",
       "    .dataframe thead th {\n",
       "        text-align: right;\n",
       "    }\n",
       "</style>\n",
       "<table border=\"1\" class=\"dataframe\">\n",
       "  <thead>\n",
       "    <tr style=\"text-align: right;\">\n",
       "      <th></th>\n",
       "      <th>NAME_CONTRACT_TYPE_x</th>\n",
       "      <th>CODE_GENDER</th>\n",
       "      <th>FLAG_OWN_CAR</th>\n",
       "      <th>FLAG_OWN_REALTY</th>\n",
       "      <th>NAME_TYPE_SUITE_x</th>\n",
       "      <th>NAME_INCOME_TYPE</th>\n",
       "      <th>NAME_EDUCATION_TYPE</th>\n",
       "      <th>NAME_FAMILY_STATUS</th>\n",
       "      <th>NAME_HOUSING_TYPE</th>\n",
       "      <th>OCCUPATION_TYPE</th>\n",
       "      <th>...</th>\n",
       "      <th>CODE_REJECT_REASON</th>\n",
       "      <th>NAME_TYPE_SUITE_y</th>\n",
       "      <th>NAME_CLIENT_TYPE</th>\n",
       "      <th>NAME_GOODS_CATEGORY</th>\n",
       "      <th>NAME_PORTFOLIO</th>\n",
       "      <th>NAME_PRODUCT_TYPE</th>\n",
       "      <th>CHANNEL_TYPE</th>\n",
       "      <th>NAME_SELLER_INDUSTRY</th>\n",
       "      <th>NAME_YIELD_GROUP</th>\n",
       "      <th>PRODUCT_COMBINATION</th>\n",
       "    </tr>\n",
       "  </thead>\n",
       "  <tbody>\n",
       "    <tr>\n",
       "      <th>0</th>\n",
       "      <td>0.0</td>\n",
       "      <td>1.0</td>\n",
       "      <td>0.0</td>\n",
       "      <td>1.0</td>\n",
       "      <td>6.0</td>\n",
       "      <td>7.0</td>\n",
       "      <td>4.0</td>\n",
       "      <td>3.0</td>\n",
       "      <td>1.0</td>\n",
       "      <td>8.0</td>\n",
       "      <td>...</td>\n",
       "      <td>NaN</td>\n",
       "      <td>NaN</td>\n",
       "      <td>NaN</td>\n",
       "      <td>NaN</td>\n",
       "      <td>NaN</td>\n",
       "      <td>NaN</td>\n",
       "      <td>NaN</td>\n",
       "      <td>NaN</td>\n",
       "      <td>NaN</td>\n",
       "      <td>NaN</td>\n",
       "    </tr>\n",
       "    <tr>\n",
       "      <th>1</th>\n",
       "      <td>0.0</td>\n",
       "      <td>0.0</td>\n",
       "      <td>0.0</td>\n",
       "      <td>0.0</td>\n",
       "      <td>1.0</td>\n",
       "      <td>4.0</td>\n",
       "      <td>1.0</td>\n",
       "      <td>1.0</td>\n",
       "      <td>1.0</td>\n",
       "      <td>3.0</td>\n",
       "      <td>...</td>\n",
       "      <td>NaN</td>\n",
       "      <td>NaN</td>\n",
       "      <td>NaN</td>\n",
       "      <td>NaN</td>\n",
       "      <td>NaN</td>\n",
       "      <td>NaN</td>\n",
       "      <td>NaN</td>\n",
       "      <td>NaN</td>\n",
       "      <td>NaN</td>\n",
       "      <td>NaN</td>\n",
       "    </tr>\n",
       "    <tr>\n",
       "      <th>2</th>\n",
       "      <td>1.0</td>\n",
       "      <td>1.0</td>\n",
       "      <td>1.0</td>\n",
       "      <td>1.0</td>\n",
       "      <td>6.0</td>\n",
       "      <td>7.0</td>\n",
       "      <td>4.0</td>\n",
       "      <td>3.0</td>\n",
       "      <td>1.0</td>\n",
       "      <td>8.0</td>\n",
       "      <td>...</td>\n",
       "      <td>NaN</td>\n",
       "      <td>NaN</td>\n",
       "      <td>NaN</td>\n",
       "      <td>NaN</td>\n",
       "      <td>NaN</td>\n",
       "      <td>NaN</td>\n",
       "      <td>NaN</td>\n",
       "      <td>NaN</td>\n",
       "      <td>NaN</td>\n",
       "      <td>NaN</td>\n",
       "    </tr>\n",
       "    <tr>\n",
       "      <th>3</th>\n",
       "      <td>0.0</td>\n",
       "      <td>0.0</td>\n",
       "      <td>0.0</td>\n",
       "      <td>1.0</td>\n",
       "      <td>6.0</td>\n",
       "      <td>7.0</td>\n",
       "      <td>4.0</td>\n",
       "      <td>0.0</td>\n",
       "      <td>1.0</td>\n",
       "      <td>8.0</td>\n",
       "      <td>...</td>\n",
       "      <td>NaN</td>\n",
       "      <td>NaN</td>\n",
       "      <td>NaN</td>\n",
       "      <td>NaN</td>\n",
       "      <td>NaN</td>\n",
       "      <td>NaN</td>\n",
       "      <td>NaN</td>\n",
       "      <td>NaN</td>\n",
       "      <td>NaN</td>\n",
       "      <td>NaN</td>\n",
       "    </tr>\n",
       "    <tr>\n",
       "      <th>4</th>\n",
       "      <td>0.0</td>\n",
       "      <td>1.0</td>\n",
       "      <td>0.0</td>\n",
       "      <td>1.0</td>\n",
       "      <td>6.0</td>\n",
       "      <td>7.0</td>\n",
       "      <td>4.0</td>\n",
       "      <td>3.0</td>\n",
       "      <td>1.0</td>\n",
       "      <td>3.0</td>\n",
       "      <td>...</td>\n",
       "      <td>NaN</td>\n",
       "      <td>NaN</td>\n",
       "      <td>NaN</td>\n",
       "      <td>NaN</td>\n",
       "      <td>NaN</td>\n",
       "      <td>NaN</td>\n",
       "      <td>NaN</td>\n",
       "      <td>NaN</td>\n",
       "      <td>NaN</td>\n",
       "      <td>NaN</td>\n",
       "    </tr>\n",
       "  </tbody>\n",
       "</table>\n",
       "<p>5 rows × 32 columns</p>\n",
       "</div>"
      ],
      "text/plain": [
       "   NAME_CONTRACT_TYPE_x  CODE_GENDER  FLAG_OWN_CAR  FLAG_OWN_REALTY  \\\n",
       "0                   0.0          1.0           0.0              1.0   \n",
       "1                   0.0          0.0           0.0              0.0   \n",
       "2                   1.0          1.0           1.0              1.0   \n",
       "3                   0.0          0.0           0.0              1.0   \n",
       "4                   0.0          1.0           0.0              1.0   \n",
       "\n",
       "   NAME_TYPE_SUITE_x  NAME_INCOME_TYPE  NAME_EDUCATION_TYPE  \\\n",
       "0                6.0               7.0                  4.0   \n",
       "1                1.0               4.0                  1.0   \n",
       "2                6.0               7.0                  4.0   \n",
       "3                6.0               7.0                  4.0   \n",
       "4                6.0               7.0                  4.0   \n",
       "\n",
       "   NAME_FAMILY_STATUS  NAME_HOUSING_TYPE  OCCUPATION_TYPE  ...  \\\n",
       "0                 3.0                1.0              8.0  ...   \n",
       "1                 1.0                1.0              3.0  ...   \n",
       "2                 3.0                1.0              8.0  ...   \n",
       "3                 0.0                1.0              8.0  ...   \n",
       "4                 3.0                1.0              3.0  ...   \n",
       "\n",
       "   CODE_REJECT_REASON  NAME_TYPE_SUITE_y  NAME_CLIENT_TYPE  \\\n",
       "0                 NaN                NaN               NaN   \n",
       "1                 NaN                NaN               NaN   \n",
       "2                 NaN                NaN               NaN   \n",
       "3                 NaN                NaN               NaN   \n",
       "4                 NaN                NaN               NaN   \n",
       "\n",
       "   NAME_GOODS_CATEGORY  NAME_PORTFOLIO  NAME_PRODUCT_TYPE  CHANNEL_TYPE  \\\n",
       "0                  NaN             NaN                NaN           NaN   \n",
       "1                  NaN             NaN                NaN           NaN   \n",
       "2                  NaN             NaN                NaN           NaN   \n",
       "3                  NaN             NaN                NaN           NaN   \n",
       "4                  NaN             NaN                NaN           NaN   \n",
       "\n",
       "   NAME_SELLER_INDUSTRY  NAME_YIELD_GROUP  PRODUCT_COMBINATION  \n",
       "0                   NaN               NaN                  NaN  \n",
       "1                   NaN               NaN                  NaN  \n",
       "2                   NaN               NaN                  NaN  \n",
       "3                   NaN               NaN                  NaN  \n",
       "4                   NaN               NaN                  NaN  \n",
       "\n",
       "[5 rows x 32 columns]"
      ]
     },
     "execution_count": 4,
     "metadata": {},
     "output_type": "execute_result"
    }
   ],
   "source": [
    "cat = final.select_dtypes(include = object)\n",
    "encoded = prepare_categorical(final[cat.columns])\n",
    "for i in range(len(cat.columns)):\n",
    "    cat[cat.columns[i]] = encoded[: ,i]\n",
    "cat.head()"
   ]
  },
  {
   "cell_type": "code",
   "execution_count": 5,
   "id": "805471ae",
   "metadata": {
    "execution": {
     "iopub.execute_input": "2022-11-09T13:57:37.065543Z",
     "iopub.status.busy": "2022-11-09T13:57:37.064912Z",
     "iopub.status.idle": "2022-11-09T13:57:38.043113Z",
     "shell.execute_reply": "2022-11-09T13:57:38.042456Z"
    },
    "papermill": {
     "duration": 0.984923,
     "end_time": "2022-11-09T13:57:38.045144",
     "exception": false,
     "start_time": "2022-11-09T13:57:37.060221",
     "status": "completed"
    },
    "tags": []
   },
   "outputs": [
    {
     "data": {
      "text/plain": [
       "['NAME_CONTRACT_TYPE_x',\n",
       " 'CODE_GENDER',\n",
       " 'FLAG_OWN_CAR',\n",
       " 'FLAG_OWN_REALTY',\n",
       " 'NAME_TYPE_SUITE_x',\n",
       " 'NAME_INCOME_TYPE',\n",
       " 'NAME_EDUCATION_TYPE',\n",
       " 'NAME_FAMILY_STATUS',\n",
       " 'NAME_HOUSING_TYPE',\n",
       " 'OCCUPATION_TYPE',\n",
       " 'WEEKDAY_APPR_PROCESS_START_x',\n",
       " 'ORGANIZATION_TYPE',\n",
       " 'FONDKAPREMONT_MODE',\n",
       " 'HOUSETYPE_MODE',\n",
       " 'WALLSMATERIAL_MODE',\n",
       " 'EMERGENCYSTATE_MODE',\n",
       " 'WEEKDAY_APPR_PROCESS_START_y',\n",
       " 'NAME_PRODUCT_TYPE',\n",
       " 'CHANNEL_TYPE',\n",
       " 'NAME_SELLER_INDUSTRY']"
      ]
     },
     "execution_count": 5,
     "metadata": {},
     "output_type": "execute_result"
    }
   ],
   "source": [
    "from sklearn.feature_selection import SelectKBest\n",
    "from sklearn.feature_selection import chi2\n",
    "target = final[\"TARGET\"]\n",
    "features = cat.fillna(cat.max() + 1, downcast='infer')\n",
    "selector = SelectKBest(score_func=chi2, k=20)\n",
    "selector.fit(features, target)\n",
    "list(features.columns[selector.get_support()])"
   ]
  },
  {
   "cell_type": "markdown",
   "id": "29f7a1db",
   "metadata": {
    "papermill": {
     "duration": 0.002884,
     "end_time": "2022-11-09T13:57:38.051342",
     "exception": false,
     "start_time": "2022-11-09T13:57:38.048458",
     "status": "completed"
    },
    "tags": []
   },
   "source": [
    "# SELECTING NUMERIC FEATURES"
   ]
  },
  {
   "cell_type": "code",
   "execution_count": 6,
   "id": "9337c7e5",
   "metadata": {
    "execution": {
     "iopub.execute_input": "2022-11-09T13:57:38.059276Z",
     "iopub.status.busy": "2022-11-09T13:57:38.058886Z",
     "iopub.status.idle": "2022-11-09T13:57:40.121839Z",
     "shell.execute_reply": "2022-11-09T13:57:40.120760Z"
    },
    "papermill": {
     "duration": 2.070426,
     "end_time": "2022-11-09T13:57:40.124870",
     "exception": false,
     "start_time": "2022-11-09T13:57:38.054444",
     "status": "completed"
    },
    "tags": []
   },
   "outputs": [
    {
     "name": "stderr",
     "output_type": "stream",
     "text": [
      "/opt/conda/lib/python3.7/site-packages/sklearn/feature_selection/_univariate_selection.py:112: UserWarning: Features [ 79 110] are constant.\n",
      "  warnings.warn(\"Features %s are constant.\" % constant_features_idx, UserWarning)\n",
      "/opt/conda/lib/python3.7/site-packages/sklearn/feature_selection/_univariate_selection.py:113: RuntimeWarning: invalid value encountered in true_divide\n",
      "  f = msb / msw\n"
     ]
    },
    {
     "data": {
      "text/plain": [
       "['CNT_CHILDREN',\n",
       " 'AMT_CREDIT',\n",
       " 'REGION_POPULATION_RELATIVE',\n",
       " 'DAYS_BIRTH',\n",
       " 'DAYS_EMPLOYED',\n",
       " 'DAYS_REGISTRATION',\n",
       " 'DAYS_ID_PUBLISH',\n",
       " 'OWN_CAR_AGE',\n",
       " 'FLAG_WORK_PHONE',\n",
       " 'FLAG_PHONE',\n",
       " 'REGION_RATING_CLIENT',\n",
       " 'HOUR_APPR_PROCESS_START_x',\n",
       " 'REG_CITY_NOT_LIVE_CITY',\n",
       " 'REG_CITY_NOT_WORK_CITY',\n",
       " 'LIVE_CITY_NOT_WORK_CITY',\n",
       " 'EXT_SOURCE_1',\n",
       " 'EXT_SOURCE_2',\n",
       " 'EXT_SOURCE_3',\n",
       " 'APARTMENTS_AVG',\n",
       " 'ELEVATORS_AVG',\n",
       " 'FLOORSMAX_AVG',\n",
       " 'DEF_30_CNT_SOCIAL_CIRCLE',\n",
       " 'DEF_60_CNT_SOCIAL_CIRCLE',\n",
       " 'DAYS_LAST_PHONE_CHANGE',\n",
       " 'FLAG_DOCUMENT_3',\n",
       " 'FLAG_DOCUMENT_6',\n",
       " 'AMT_REQ_CREDIT_BUREAU_YEAR',\n",
       " 'DAYS_CREDIT_ENDDATE',\n",
       " 'AMT_CREDIT_SUM',\n",
       " 'DAYS_CREDIT_UPDATE']"
      ]
     },
     "execution_count": 6,
     "metadata": {},
     "output_type": "execute_result"
    }
   ],
   "source": [
    "from sklearn.feature_selection import SelectKBest\n",
    "from sklearn.feature_selection import f_classif\n",
    "\n",
    "numeric = final.select_dtypes(include = np.number).drop([\"Unnamed: 0\", \"SK_ID_CURR\", \"TARGET\", \"SK_ID_PREV\", \"DEBT_OVER_CREDIT\", \"SK_DPD_mean_pos\", \"SK_DPD_DEF_mean_pos\"], axis = 1)\n",
    "target = final[\"TARGET\"]\n",
    "features = numeric.fillna(numeric.mean(), downcast='infer').round(3)\n",
    "\n",
    "selector = SelectKBest(score_func=f_classif, k=30)\n",
    "selector.fit(features, target)\n",
    "selected = list(features.columns[selector.get_support()])\n",
    "selected"
   ]
  },
  {
   "cell_type": "code",
   "execution_count": null,
   "id": "8cf48d42",
   "metadata": {
    "papermill": {
     "duration": 0.002879,
     "end_time": "2022-11-09T13:57:40.131158",
     "exception": false,
     "start_time": "2022-11-09T13:57:40.128279",
     "status": "completed"
    },
    "tags": []
   },
   "outputs": [],
   "source": []
  }
 ],
 "metadata": {
  "kernelspec": {
   "display_name": "Python 3",
   "language": "python",
   "name": "python3"
  },
  "language_info": {
   "codemirror_mode": {
    "name": "ipython",
    "version": 3
   },
   "file_extension": ".py",
   "mimetype": "text/x-python",
   "name": "python",
   "nbconvert_exporter": "python",
   "pygments_lexer": "ipython3",
   "version": "3.7.12"
  },
  "papermill": {
   "default_parameters": {},
   "duration": 20.843954,
   "end_time": "2022-11-09T13:57:40.955491",
   "environment_variables": {},
   "exception": null,
   "input_path": "__notebook__.ipynb",
   "output_path": "__notebook__.ipynb",
   "parameters": {},
   "start_time": "2022-11-09T13:57:20.111537",
   "version": "2.3.4"
  }
 },
 "nbformat": 4,
 "nbformat_minor": 5
}
