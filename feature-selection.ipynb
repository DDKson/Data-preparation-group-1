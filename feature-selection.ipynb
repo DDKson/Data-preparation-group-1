{
 "cells": [
  {
   "cell_type": "code",
   "execution_count": 1,
   "id": "babea9f1",
   "metadata": {
    "_cell_guid": "b1076dfc-b9ad-4769-8c92-a6c4dae69d19",
    "_uuid": "8f2839f25d086af736a60e9eeb907d3b93b6e0e5",
    "execution": {
     "iopub.execute_input": "2022-11-10T07:55:36.029429Z",
     "iopub.status.busy": "2022-11-10T07:55:36.028941Z",
     "iopub.status.idle": "2022-11-10T07:55:36.050531Z",
     "shell.execute_reply": "2022-11-10T07:55:36.048803Z"
    },
    "papermill": {
     "duration": 0.029028,
     "end_time": "2022-11-10T07:55:36.052932",
     "exception": false,
     "start_time": "2022-11-10T07:55:36.023904",
     "status": "completed"
    },
    "tags": []
   },
   "outputs": [
    {
     "name": "stdout",
     "output_type": "stream",
     "text": [
      "/kaggle/input/final-merged-data/app_train_merge_bureau.csv\n",
      "/kaggle/input/final-merged-data/final_merged_table.csv\n"
     ]
    }
   ],
   "source": [
    "# This Python 3 environment comes with many helpful analytics libraries installed\n",
    "# It is defined by the kaggle/python Docker image: https://github.com/kaggle/docker-python\n",
    "# For example, here's several helpful packages to load\n",
    "\n",
    "import numpy as np # linear algebra\n",
    "import pandas as pd # data processing, CSV file I/O (e.g. pd.read_csv)\n",
    "import matplotlib.pyplot as plt\n",
    "\n",
    "# Input data files are available in the read-only \"../input/\" directory\n",
    "# For example, running this (by clicking run or pressing Shift+Enter) will list all files under the input directory\n",
    "\n",
    "import os\n",
    "for dirname, _, filenames in os.walk('/kaggle/input'):\n",
    "    for filename in filenames:\n",
    "        print(os.path.join(dirname, filename))\n",
    "\n",
    "# You can write up to 20GB to the current directory (/kaggle/working/) that gets preserved as output when you create a version using \"Save & Run All\" \n",
    "# You can also write temporary files to /kaggle/temp/, but they won't be saved outside of the current session"
   ]
  },
  {
   "cell_type": "code",
   "execution_count": 2,
   "id": "3e855d13",
   "metadata": {
    "execution": {
     "iopub.execute_input": "2022-11-10T07:55:36.060671Z",
     "iopub.status.busy": "2022-11-10T07:55:36.059551Z",
     "iopub.status.idle": "2022-11-10T07:55:41.828482Z",
     "shell.execute_reply": "2022-11-10T07:55:41.826743Z"
    },
    "papermill": {
     "duration": 5.775696,
     "end_time": "2022-11-10T07:55:41.831543",
     "exception": false,
     "start_time": "2022-11-10T07:55:36.055847",
     "status": "completed"
    },
    "tags": []
   },
   "outputs": [],
   "source": [
    "final = pd.read_csv(\"../input/final-merged-data/final_merged_table.csv\")"
   ]
  },
  {
   "cell_type": "markdown",
   "id": "5728221b",
   "metadata": {
    "papermill": {
     "duration": 0.002356,
     "end_time": "2022-11-10T07:55:41.836861",
     "exception": false,
     "start_time": "2022-11-10T07:55:41.834505",
     "status": "completed"
    },
    "tags": []
   },
   "source": [
    "# SELECT CATEGORICAL FEATURES"
   ]
  },
  {
   "cell_type": "code",
   "execution_count": 3,
   "id": "5fc4a93c",
   "metadata": {
    "execution": {
     "iopub.execute_input": "2022-11-10T07:55:41.844548Z",
     "iopub.status.busy": "2022-11-10T07:55:41.844100Z",
     "iopub.status.idle": "2022-11-10T07:55:42.837452Z",
     "shell.execute_reply": "2022-11-10T07:55:42.835794Z"
    },
    "papermill": {
     "duration": 1.000404,
     "end_time": "2022-11-10T07:55:42.839794",
     "exception": false,
     "start_time": "2022-11-10T07:55:41.839390",
     "status": "completed"
    },
    "tags": []
   },
   "outputs": [],
   "source": [
    "from sklearn.preprocessing import OrdinalEncoder\n",
    "def prepare_categorical(x):\n",
    "    oe = OrdinalEncoder()\n",
    "    oe.fit(x)\n",
    "    x_new = oe.transform(x)\n",
    "    return x_new"
   ]
  },
  {
   "cell_type": "code",
   "execution_count": 4,
   "id": "3ffb4fc7",
   "metadata": {
    "execution": {
     "iopub.execute_input": "2022-11-10T07:55:42.846899Z",
     "iopub.status.busy": "2022-11-10T07:55:42.846554Z",
     "iopub.status.idle": "2022-11-10T07:55:44.454872Z",
     "shell.execute_reply": "2022-11-10T07:55:44.453870Z"
    },
    "papermill": {
     "duration": 1.614208,
     "end_time": "2022-11-10T07:55:44.456789",
     "exception": false,
     "start_time": "2022-11-10T07:55:42.842581",
     "status": "completed"
    },
    "tags": []
   },
   "outputs": [
    {
     "name": "stderr",
     "output_type": "stream",
     "text": [
      "/opt/conda/lib/python3.7/site-packages/ipykernel_launcher.py:4: SettingWithCopyWarning: \n",
      "A value is trying to be set on a copy of a slice from a DataFrame.\n",
      "Try using .loc[row_indexer,col_indexer] = value instead\n",
      "\n",
      "See the caveats in the documentation: https://pandas.pydata.org/pandas-docs/stable/user_guide/indexing.html#returning-a-view-versus-a-copy\n",
      "  after removing the cwd from sys.path.\n"
     ]
    },
    {
     "data": {
      "text/html": [
       "<div>\n",
       "<style scoped>\n",
       "    .dataframe tbody tr th:only-of-type {\n",
       "        vertical-align: middle;\n",
       "    }\n",
       "\n",
       "    .dataframe tbody tr th {\n",
       "        vertical-align: top;\n",
       "    }\n",
       "\n",
       "    .dataframe thead th {\n",
       "        text-align: right;\n",
       "    }\n",
       "</style>\n",
       "<table border=\"1\" class=\"dataframe\">\n",
       "  <thead>\n",
       "    <tr style=\"text-align: right;\">\n",
       "      <th></th>\n",
       "      <th>NAME_CONTRACT_TYPE</th>\n",
       "      <th>CODE_GENDER</th>\n",
       "      <th>FLAG_OWN_CAR</th>\n",
       "      <th>FLAG_OWN_REALTY</th>\n",
       "      <th>NAME_TYPE_SUITE</th>\n",
       "      <th>NAME_INCOME_TYPE</th>\n",
       "      <th>NAME_EDUCATION_TYPE</th>\n",
       "      <th>NAME_FAMILY_STATUS</th>\n",
       "      <th>NAME_HOUSING_TYPE</th>\n",
       "      <th>OCCUPATION_TYPE</th>\n",
       "      <th>WEEKDAY_APPR_PROCESS_START</th>\n",
       "      <th>ORGANIZATION_TYPE</th>\n",
       "      <th>FONDKAPREMONT_MODE</th>\n",
       "      <th>HOUSETYPE_MODE</th>\n",
       "      <th>WALLSMATERIAL_MODE</th>\n",
       "      <th>EMERGENCYSTATE_MODE</th>\n",
       "    </tr>\n",
       "  </thead>\n",
       "  <tbody>\n",
       "    <tr>\n",
       "      <th>0</th>\n",
       "      <td>0.0</td>\n",
       "      <td>1.0</td>\n",
       "      <td>0.0</td>\n",
       "      <td>1.0</td>\n",
       "      <td>6.0</td>\n",
       "      <td>7.0</td>\n",
       "      <td>4.0</td>\n",
       "      <td>3.0</td>\n",
       "      <td>1.0</td>\n",
       "      <td>8.0</td>\n",
       "      <td>6.0</td>\n",
       "      <td>5.0</td>\n",
       "      <td>2.0</td>\n",
       "      <td>0.0</td>\n",
       "      <td>5.0</td>\n",
       "      <td>0.0</td>\n",
       "    </tr>\n",
       "    <tr>\n",
       "      <th>1</th>\n",
       "      <td>0.0</td>\n",
       "      <td>0.0</td>\n",
       "      <td>0.0</td>\n",
       "      <td>0.0</td>\n",
       "      <td>1.0</td>\n",
       "      <td>4.0</td>\n",
       "      <td>1.0</td>\n",
       "      <td>1.0</td>\n",
       "      <td>1.0</td>\n",
       "      <td>3.0</td>\n",
       "      <td>1.0</td>\n",
       "      <td>39.0</td>\n",
       "      <td>2.0</td>\n",
       "      <td>0.0</td>\n",
       "      <td>0.0</td>\n",
       "      <td>0.0</td>\n",
       "    </tr>\n",
       "    <tr>\n",
       "      <th>2</th>\n",
       "      <td>1.0</td>\n",
       "      <td>1.0</td>\n",
       "      <td>1.0</td>\n",
       "      <td>1.0</td>\n",
       "      <td>6.0</td>\n",
       "      <td>7.0</td>\n",
       "      <td>4.0</td>\n",
       "      <td>3.0</td>\n",
       "      <td>1.0</td>\n",
       "      <td>8.0</td>\n",
       "      <td>1.0</td>\n",
       "      <td>11.0</td>\n",
       "      <td>NaN</td>\n",
       "      <td>NaN</td>\n",
       "      <td>NaN</td>\n",
       "      <td>NaN</td>\n",
       "    </tr>\n",
       "    <tr>\n",
       "      <th>3</th>\n",
       "      <td>0.0</td>\n",
       "      <td>0.0</td>\n",
       "      <td>0.0</td>\n",
       "      <td>1.0</td>\n",
       "      <td>6.0</td>\n",
       "      <td>7.0</td>\n",
       "      <td>4.0</td>\n",
       "      <td>0.0</td>\n",
       "      <td>1.0</td>\n",
       "      <td>8.0</td>\n",
       "      <td>6.0</td>\n",
       "      <td>5.0</td>\n",
       "      <td>NaN</td>\n",
       "      <td>NaN</td>\n",
       "      <td>NaN</td>\n",
       "      <td>NaN</td>\n",
       "    </tr>\n",
       "    <tr>\n",
       "      <th>4</th>\n",
       "      <td>0.0</td>\n",
       "      <td>1.0</td>\n",
       "      <td>0.0</td>\n",
       "      <td>1.0</td>\n",
       "      <td>6.0</td>\n",
       "      <td>7.0</td>\n",
       "      <td>4.0</td>\n",
       "      <td>3.0</td>\n",
       "      <td>1.0</td>\n",
       "      <td>3.0</td>\n",
       "      <td>4.0</td>\n",
       "      <td>37.0</td>\n",
       "      <td>NaN</td>\n",
       "      <td>NaN</td>\n",
       "      <td>NaN</td>\n",
       "      <td>NaN</td>\n",
       "    </tr>\n",
       "  </tbody>\n",
       "</table>\n",
       "</div>"
      ],
      "text/plain": [
       "   NAME_CONTRACT_TYPE  CODE_GENDER  FLAG_OWN_CAR  FLAG_OWN_REALTY  \\\n",
       "0                 0.0          1.0           0.0              1.0   \n",
       "1                 0.0          0.0           0.0              0.0   \n",
       "2                 1.0          1.0           1.0              1.0   \n",
       "3                 0.0          0.0           0.0              1.0   \n",
       "4                 0.0          1.0           0.0              1.0   \n",
       "\n",
       "   NAME_TYPE_SUITE  NAME_INCOME_TYPE  NAME_EDUCATION_TYPE  NAME_FAMILY_STATUS  \\\n",
       "0              6.0               7.0                  4.0                 3.0   \n",
       "1              1.0               4.0                  1.0                 1.0   \n",
       "2              6.0               7.0                  4.0                 3.0   \n",
       "3              6.0               7.0                  4.0                 0.0   \n",
       "4              6.0               7.0                  4.0                 3.0   \n",
       "\n",
       "   NAME_HOUSING_TYPE  OCCUPATION_TYPE  WEEKDAY_APPR_PROCESS_START  \\\n",
       "0                1.0              8.0                         6.0   \n",
       "1                1.0              3.0                         1.0   \n",
       "2                1.0              8.0                         1.0   \n",
       "3                1.0              8.0                         6.0   \n",
       "4                1.0              3.0                         4.0   \n",
       "\n",
       "   ORGANIZATION_TYPE  FONDKAPREMONT_MODE  HOUSETYPE_MODE  WALLSMATERIAL_MODE  \\\n",
       "0                5.0                 2.0             0.0                 5.0   \n",
       "1               39.0                 2.0             0.0                 0.0   \n",
       "2               11.0                 NaN             NaN                 NaN   \n",
       "3                5.0                 NaN             NaN                 NaN   \n",
       "4               37.0                 NaN             NaN                 NaN   \n",
       "\n",
       "   EMERGENCYSTATE_MODE  \n",
       "0                  0.0  \n",
       "1                  0.0  \n",
       "2                  NaN  \n",
       "3                  NaN  \n",
       "4                  NaN  "
      ]
     },
     "execution_count": 4,
     "metadata": {},
     "output_type": "execute_result"
    }
   ],
   "source": [
    "cat = final.select_dtypes(include = object)\n",
    "encoded = prepare_categorical(final[cat.columns])\n",
    "for i in range(len(cat.columns)):\n",
    "    cat[cat.columns[i]] = encoded[: ,i]\n",
    "cat.head()"
   ]
  },
  {
   "cell_type": "code",
   "execution_count": 5,
   "id": "2bb48075",
   "metadata": {
    "execution": {
     "iopub.execute_input": "2022-11-10T07:55:44.464721Z",
     "iopub.status.busy": "2022-11-10T07:55:44.464403Z",
     "iopub.status.idle": "2022-11-10T07:55:45.108978Z",
     "shell.execute_reply": "2022-11-10T07:55:45.107413Z"
    },
    "papermill": {
     "duration": 0.651397,
     "end_time": "2022-11-10T07:55:45.111276",
     "exception": false,
     "start_time": "2022-11-10T07:55:44.459879",
     "status": "completed"
    },
    "tags": []
   },
   "outputs": [
    {
     "data": {
      "text/plain": [
       "['NAME_CONTRACT_TYPE',\n",
       " 'CODE_GENDER',\n",
       " 'NAME_INCOME_TYPE',\n",
       " 'NAME_EDUCATION_TYPE',\n",
       " 'NAME_HOUSING_TYPE',\n",
       " 'OCCUPATION_TYPE',\n",
       " 'ORGANIZATION_TYPE',\n",
       " 'HOUSETYPE_MODE',\n",
       " 'WALLSMATERIAL_MODE',\n",
       " 'EMERGENCYSTATE_MODE']"
      ]
     },
     "execution_count": 5,
     "metadata": {},
     "output_type": "execute_result"
    }
   ],
   "source": [
    "from sklearn.feature_selection import SelectKBest\n",
    "from sklearn.feature_selection import chi2\n",
    "target = final[\"TARGET\"]\n",
    "features = cat.fillna(cat.max() + 1, downcast='infer')\n",
    "selector = SelectKBest(score_func=chi2, k=10)\n",
    "selector.fit(features, target)\n",
    "list(features.columns[selector.get_support()])"
   ]
  },
  {
   "cell_type": "markdown",
   "id": "00403d91",
   "metadata": {
    "papermill": {
     "duration": 0.003022,
     "end_time": "2022-11-10T07:55:45.117889",
     "exception": false,
     "start_time": "2022-11-10T07:55:45.114867",
     "status": "completed"
    },
    "tags": []
   },
   "source": [
    "# SELECTING NUMERIC FEATURES"
   ]
  },
  {
   "cell_type": "code",
   "execution_count": 6,
   "id": "c77953d2",
   "metadata": {
    "execution": {
     "iopub.execute_input": "2022-11-10T07:55:45.125545Z",
     "iopub.status.busy": "2022-11-10T07:55:45.125246Z",
     "iopub.status.idle": "2022-11-10T07:55:49.162377Z",
     "shell.execute_reply": "2022-11-10T07:55:49.161526Z"
    },
    "papermill": {
     "duration": 4.04363,
     "end_time": "2022-11-10T07:55:49.164597",
     "exception": false,
     "start_time": "2022-11-10T07:55:45.120967",
     "status": "completed"
    },
    "tags": []
   },
   "outputs": [
    {
     "name": "stderr",
     "output_type": "stream",
     "text": [
      "/opt/conda/lib/python3.7/site-packages/sklearn/feature_selection/_univariate_selection.py:112: UserWarning: Features [79] are constant.\n",
      "  warnings.warn(\"Features %s are constant.\" % constant_features_idx, UserWarning)\n",
      "/opt/conda/lib/python3.7/site-packages/sklearn/feature_selection/_univariate_selection.py:113: RuntimeWarning: invalid value encountered in true_divide\n",
      "  f = msb / msw\n"
     ]
    },
    {
     "data": {
      "text/plain": [
       "['AMT_CREDIT',\n",
       " 'REGION_POPULATION_RELATIVE',\n",
       " 'DAYS_BIRTH',\n",
       " 'DAYS_EMPLOYED',\n",
       " 'DAYS_REGISTRATION',\n",
       " 'DAYS_ID_PUBLISH',\n",
       " 'FLAG_WORK_PHONE',\n",
       " 'REGION_RATING_CLIENT',\n",
       " 'REG_CITY_NOT_LIVE_CITY',\n",
       " 'REG_CITY_NOT_WORK_CITY',\n",
       " 'LIVE_CITY_NOT_WORK_CITY',\n",
       " 'EXT_SOURCE_1',\n",
       " 'EXT_SOURCE_2',\n",
       " 'EXT_SOURCE_3',\n",
       " 'FLOORSMAX_AVG',\n",
       " 'DEF_30_CNT_SOCIAL_CIRCLE',\n",
       " 'DEF_60_CNT_SOCIAL_CIRCLE',\n",
       " 'DAYS_LAST_PHONE_CHANGE',\n",
       " 'FLAG_DOCUMENT_3',\n",
       " 'FLAG_DOCUMENT_6',\n",
       " 'DAYS_CREDIT_ENDDATE',\n",
       " 'DAYS_CREDIT_UPDATE',\n",
       " 'log_AMT_CREDIT',\n",
       " 'log_AMT_DOWN_PAYMENT',\n",
       " 'HOUR_APPR_PROCESS_START_prev',\n",
       " 'RATE_DOWN_PAYMENT',\n",
       " 'DAYS_DECISION',\n",
       " 'CNT_PAYMENT',\n",
       " 'DAYS_FIRST_DUE',\n",
       " 'DAYS_TERMINATION']"
      ]
     },
     "execution_count": 6,
     "metadata": {},
     "output_type": "execute_result"
    }
   ],
   "source": [
    "from sklearn.feature_selection import SelectKBest\n",
    "from sklearn.feature_selection import f_classif\n",
    "\n",
    "numeric = final.select_dtypes(include = np.number).drop([\"Unnamed: 0\", \"SK_ID_CURR\", \"TARGET\", \"SK_ID_PREV\", \"DEBT_OVER_CREDIT\", \"SK_DPD_mean_pos\", \"SK_DPD_DEF_mean_pos\"], axis = 1)\n",
    "target = final[\"TARGET\"]\n",
    "features = numeric.fillna(numeric.mean(), downcast='infer').round(3)\n",
    "\n",
    "selector = SelectKBest(score_func=f_classif, k=30)\n",
    "selector.fit(features, target)\n",
    "selected = list(features.columns[selector.get_support()])\n",
    "selected"
   ]
  },
  {
   "cell_type": "code",
   "execution_count": 7,
   "id": "3e45a6e7",
   "metadata": {
    "execution": {
     "iopub.execute_input": "2022-11-10T07:55:49.173833Z",
     "iopub.status.busy": "2022-11-10T07:55:49.172778Z",
     "iopub.status.idle": "2022-11-10T07:55:49.182453Z",
     "shell.execute_reply": "2022-11-10T07:55:49.181028Z"
    },
    "papermill": {
     "duration": 0.016291,
     "end_time": "2022-11-10T07:55:49.185014",
     "exception": false,
     "start_time": "2022-11-10T07:55:49.168723",
     "status": "completed"
    },
    "tags": []
   },
   "outputs": [
    {
     "data": {
      "text/plain": [
       "array([1.13249930e+02, 4.87571051e+00, 2.83875387e+02, 5.05208606e+01,\n",
       "       4.28093978e+02, 1.89397609e+03, 6.22071742e+02, 5.42753029e+02,\n",
       "       8.16396507e+02, 1.34008685e+02, 8.78325664e-02, 2.50404428e+02,\n",
       "       4.21268394e-02, 1.74376046e+02, 9.50793797e-01, 2.66432852e+01,\n",
       "       1.07049125e+03, 1.79686319e+02, 9.56110796e+00, 1.48195976e+01,\n",
       "       2.44455081e+00, 6.07281571e+02, 8.01742167e+02, 3.25517304e+02,\n",
       "       3.05386216e+03, 8.11017452e+03, 7.81066362e+03, 1.16365002e+02,\n",
       "       5.83709410e+01, 1.27711388e+01, 4.43452996e+01, 2.69278316e+01,\n",
       "       1.45281037e+02, 4.80787137e+01, 2.62714877e+02, 9.65474602e+01,\n",
       "       1.33863401e+01, 7.44573961e-01, 2.27656901e+01, 2.55977889e+01,\n",
       "       3.19606416e+02, 3.00620075e+02, 9.40487178e+02, 9.02425546e+00,\n",
       "       6.05938369e+02, 2.19563705e+00, 3.06633789e-02, 2.51769341e+02,\n",
       "       7.10006049e-01, 1.98810602e+01, 5.82539493e+00, 6.14739226e-01,\n",
       "       5.50063441e+00, 1.75636672e-01, 4.12643388e+01, 2.75441802e+01,\n",
       "       1.31357527e+01, 4.14887443e+01, 3.50809450e+00, 1.94482309e+01,\n",
       "       5.66695850e-01, 1.42666915e-02, 4.22950609e+00, 1.91859362e-01,\n",
       "       1.86734503e+00, 1.49144663e-01, 3.96959951e+01, 1.05198838e+00,\n",
       "       1.01448890e+02, 5.53658904e+02, 1.06183227e+00, 1.00889820e+02,\n",
       "       1.00355762e-01, 3.04214079e+01, 1.20786801e+03, 1.58003615e-01,\n",
       "       1.29245660e+01, 5.00499367e+01, 4.16516351e+00,            nan,\n",
       "       2.04479085e+01, 1.81560309e+01, 1.82518738e+01, 3.68670916e+00,\n",
       "       3.47303129e+00, 6.81219936e-02, 3.96584516e+00, 7.37887675e+00,\n",
       "       1.78297540e+00, 1.61843982e+01, 9.80088325e-02, 5.20325203e-01,\n",
       "       4.37481531e-01, 7.46300931e+00, 6.22149669e-01, 1.55432589e+00,\n",
       "       4.53207164e-01, 1.54235455e-01, 5.53202534e+00, 4.88114820e+00,\n",
       "       4.32568905e+00, 2.94963765e+00, 1.41892294e+01, 2.86892960e+02,\n",
       "       2.16883975e+02, 3.62693727e+02, 2.75670284e+00, 2.62309957e+02,\n",
       "       6.85904282e+02, 1.89447578e+00, 4.17200189e+02, 1.79526971e-01,\n",
       "       3.25000122e+02, 5.13117979e-02, 3.01317941e+02, 6.88559175e+00])"
      ]
     },
     "execution_count": 7,
     "metadata": {},
     "output_type": "execute_result"
    }
   ],
   "source": [
    "selector.scores_"
   ]
  },
  {
   "cell_type": "code",
   "execution_count": null,
   "id": "f1e60535",
   "metadata": {
    "papermill": {
     "duration": 0.003228,
     "end_time": "2022-11-10T07:55:49.191931",
     "exception": false,
     "start_time": "2022-11-10T07:55:49.188703",
     "status": "completed"
    },
    "tags": []
   },
   "outputs": [],
   "source": []
  }
 ],
 "metadata": {
  "kernelspec": {
   "display_name": "Python 3",
   "language": "python",
   "name": "python3"
  },
  "language_info": {
   "codemirror_mode": {
    "name": "ipython",
    "version": 3
   },
   "file_extension": ".py",
   "mimetype": "text/x-python",
   "name": "python",
   "nbconvert_exporter": "python",
   "pygments_lexer": "ipython3",
   "version": "3.7.12"
  },
  "papermill": {
   "default_parameters": {},
   "duration": 23.514237,
   "end_time": "2022-11-10T07:55:49.918031",
   "environment_variables": {},
   "exception": null,
   "input_path": "__notebook__.ipynb",
   "output_path": "__notebook__.ipynb",
   "parameters": {},
   "start_time": "2022-11-10T07:55:26.403794",
   "version": "2.3.4"
  }
 },
 "nbformat": 4,
 "nbformat_minor": 5
}
