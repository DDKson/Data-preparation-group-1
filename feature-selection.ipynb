{
 "cells": [
  {
   "cell_type": "code",
   "execution_count": 1,
   "id": "f9c66e0b",
   "metadata": {
    "_cell_guid": "b1076dfc-b9ad-4769-8c92-a6c4dae69d19",
    "_uuid": "8f2839f25d086af736a60e9eeb907d3b93b6e0e5",
    "execution": {
     "iopub.execute_input": "2022-11-09T14:18:35.735903Z",
     "iopub.status.busy": "2022-11-09T14:18:35.735296Z",
     "iopub.status.idle": "2022-11-09T14:18:35.756693Z",
     "shell.execute_reply": "2022-11-09T14:18:35.755699Z"
    },
    "papermill": {
     "duration": 0.029814,
     "end_time": "2022-11-09T14:18:35.759456",
     "exception": false,
     "start_time": "2022-11-09T14:18:35.729642",
     "status": "completed"
    },
    "tags": []
   },
   "outputs": [
    {
     "name": "stdout",
     "output_type": "stream",
     "text": [
      "/kaggle/input/final-merged-data/app_train_merge_bureau.csv\n",
      "/kaggle/input/final-merged-data/final_merged_table.csv\n"
     ]
    }
   ],
   "source": [
    "# This Python 3 environment comes with many helpful analytics libraries installed\n",
    "# It is defined by the kaggle/python Docker image: https://github.com/kaggle/docker-python\n",
    "# For example, here's several helpful packages to load\n",
    "\n",
    "import numpy as np # linear algebra\n",
    "import pandas as pd # data processing, CSV file I/O (e.g. pd.read_csv)\n",
    "import matplotlib.pyplot as plt\n",
    "\n",
    "# Input data files are available in the read-only \"../input/\" directory\n",
    "# For example, running this (by clicking run or pressing Shift+Enter) will list all files under the input directory\n",
    "\n",
    "import os\n",
    "for dirname, _, filenames in os.walk('/kaggle/input'):\n",
    "    for filename in filenames:\n",
    "        print(os.path.join(dirname, filename))\n",
    "\n",
    "# You can write up to 20GB to the current directory (/kaggle/working/) that gets preserved as output when you create a version using \"Save & Run All\" \n",
    "# You can also write temporary files to /kaggle/temp/, but they won't be saved outside of the current session"
   ]
  },
  {
   "cell_type": "code",
   "execution_count": 2,
   "id": "80b06f69",
   "metadata": {
    "execution": {
     "iopub.execute_input": "2022-11-09T14:18:35.767794Z",
     "iopub.status.busy": "2022-11-09T14:18:35.767079Z",
     "iopub.status.idle": "2022-11-09T14:18:43.270816Z",
     "shell.execute_reply": "2022-11-09T14:18:43.269560Z"
    },
    "papermill": {
     "duration": 7.510967,
     "end_time": "2022-11-09T14:18:43.273686",
     "exception": false,
     "start_time": "2022-11-09T14:18:35.762719",
     "status": "completed"
    },
    "tags": []
   },
   "outputs": [],
   "source": [
    "final = pd.read_csv(\"../input/final-merged-data/final_merged_table.csv\")"
   ]
  },
  {
   "cell_type": "markdown",
   "id": "694b0f6f",
   "metadata": {
    "papermill": {
     "duration": 0.002731,
     "end_time": "2022-11-09T14:18:43.279582",
     "exception": false,
     "start_time": "2022-11-09T14:18:43.276851",
     "status": "completed"
    },
    "tags": []
   },
   "source": [
    "# SELECT CATEGORICAL FEATURES"
   ]
  },
  {
   "cell_type": "code",
   "execution_count": 3,
   "id": "8ddee9bf",
   "metadata": {
    "execution": {
     "iopub.execute_input": "2022-11-09T14:18:43.287339Z",
     "iopub.status.busy": "2022-11-09T14:18:43.286892Z",
     "iopub.status.idle": "2022-11-09T14:18:44.381609Z",
     "shell.execute_reply": "2022-11-09T14:18:44.380429Z"
    },
    "papermill": {
     "duration": 1.101701,
     "end_time": "2022-11-09T14:18:44.384390",
     "exception": false,
     "start_time": "2022-11-09T14:18:43.282689",
     "status": "completed"
    },
    "tags": []
   },
   "outputs": [],
   "source": [
    "from sklearn.preprocessing import OrdinalEncoder\n",
    "def prepare_categorical(x):\n",
    "    oe = OrdinalEncoder()\n",
    "    oe.fit(x)\n",
    "    x_new = oe.transform(x)\n",
    "    return x_new"
   ]
  },
  {
   "cell_type": "code",
   "execution_count": 4,
   "id": "0cb6dc7d",
   "metadata": {
    "execution": {
     "iopub.execute_input": "2022-11-09T14:18:44.392480Z",
     "iopub.status.busy": "2022-11-09T14:18:44.392062Z",
     "iopub.status.idle": "2022-11-09T14:18:50.249012Z",
     "shell.execute_reply": "2022-11-09T14:18:50.247795Z"
    },
    "papermill": {
     "duration": 5.863806,
     "end_time": "2022-11-09T14:18:50.251313",
     "exception": false,
     "start_time": "2022-11-09T14:18:44.387507",
     "status": "completed"
    },
    "tags": []
   },
   "outputs": [
    {
     "name": "stderr",
     "output_type": "stream",
     "text": [
      "/opt/conda/lib/python3.7/site-packages/ipykernel_launcher.py:4: SettingWithCopyWarning: \n",
      "A value is trying to be set on a copy of a slice from a DataFrame.\n",
      "Try using .loc[row_indexer,col_indexer] = value instead\n",
      "\n",
      "See the caveats in the documentation: https://pandas.pydata.org/pandas-docs/stable/user_guide/indexing.html#returning-a-view-versus-a-copy\n",
      "  after removing the cwd from sys.path.\n"
     ]
    },
    {
     "data": {
      "text/html": [
       "<div>\n",
       "<style scoped>\n",
       "    .dataframe tbody tr th:only-of-type {\n",
       "        vertical-align: middle;\n",
       "    }\n",
       "\n",
       "    .dataframe tbody tr th {\n",
       "        vertical-align: top;\n",
       "    }\n",
       "\n",
       "    .dataframe thead th {\n",
       "        text-align: right;\n",
       "    }\n",
       "</style>\n",
       "<table border=\"1\" class=\"dataframe\">\n",
       "  <thead>\n",
       "    <tr style=\"text-align: right;\">\n",
       "      <th></th>\n",
       "      <th>NAME_CONTRACT_TYPE</th>\n",
       "      <th>CODE_GENDER</th>\n",
       "      <th>FLAG_OWN_CAR</th>\n",
       "      <th>FLAG_OWN_REALTY</th>\n",
       "      <th>NAME_TYPE_SUITE</th>\n",
       "      <th>NAME_INCOME_TYPE</th>\n",
       "      <th>NAME_EDUCATION_TYPE</th>\n",
       "      <th>NAME_FAMILY_STATUS</th>\n",
       "      <th>NAME_HOUSING_TYPE</th>\n",
       "      <th>OCCUPATION_TYPE</th>\n",
       "      <th>...</th>\n",
       "      <th>CODE_REJECT_REASON</th>\n",
       "      <th>NAME_TYPE_SUITE_prev</th>\n",
       "      <th>NAME_CLIENT_TYPE</th>\n",
       "      <th>NAME_GOODS_CATEGORY</th>\n",
       "      <th>NAME_PORTFOLIO</th>\n",
       "      <th>NAME_PRODUCT_TYPE</th>\n",
       "      <th>CHANNEL_TYPE</th>\n",
       "      <th>NAME_SELLER_INDUSTRY</th>\n",
       "      <th>NAME_YIELD_GROUP</th>\n",
       "      <th>PRODUCT_COMBINATION</th>\n",
       "    </tr>\n",
       "  </thead>\n",
       "  <tbody>\n",
       "    <tr>\n",
       "      <th>0</th>\n",
       "      <td>0.0</td>\n",
       "      <td>1.0</td>\n",
       "      <td>0.0</td>\n",
       "      <td>1.0</td>\n",
       "      <td>6.0</td>\n",
       "      <td>7.0</td>\n",
       "      <td>4.0</td>\n",
       "      <td>3.0</td>\n",
       "      <td>1.0</td>\n",
       "      <td>8.0</td>\n",
       "      <td>...</td>\n",
       "      <td>NaN</td>\n",
       "      <td>NaN</td>\n",
       "      <td>NaN</td>\n",
       "      <td>NaN</td>\n",
       "      <td>NaN</td>\n",
       "      <td>NaN</td>\n",
       "      <td>NaN</td>\n",
       "      <td>NaN</td>\n",
       "      <td>NaN</td>\n",
       "      <td>NaN</td>\n",
       "    </tr>\n",
       "    <tr>\n",
       "      <th>1</th>\n",
       "      <td>0.0</td>\n",
       "      <td>0.0</td>\n",
       "      <td>0.0</td>\n",
       "      <td>0.0</td>\n",
       "      <td>1.0</td>\n",
       "      <td>4.0</td>\n",
       "      <td>1.0</td>\n",
       "      <td>1.0</td>\n",
       "      <td>1.0</td>\n",
       "      <td>3.0</td>\n",
       "      <td>...</td>\n",
       "      <td>NaN</td>\n",
       "      <td>NaN</td>\n",
       "      <td>NaN</td>\n",
       "      <td>NaN</td>\n",
       "      <td>NaN</td>\n",
       "      <td>NaN</td>\n",
       "      <td>NaN</td>\n",
       "      <td>NaN</td>\n",
       "      <td>NaN</td>\n",
       "      <td>NaN</td>\n",
       "    </tr>\n",
       "    <tr>\n",
       "      <th>2</th>\n",
       "      <td>1.0</td>\n",
       "      <td>1.0</td>\n",
       "      <td>1.0</td>\n",
       "      <td>1.0</td>\n",
       "      <td>6.0</td>\n",
       "      <td>7.0</td>\n",
       "      <td>4.0</td>\n",
       "      <td>3.0</td>\n",
       "      <td>1.0</td>\n",
       "      <td>8.0</td>\n",
       "      <td>...</td>\n",
       "      <td>NaN</td>\n",
       "      <td>NaN</td>\n",
       "      <td>NaN</td>\n",
       "      <td>NaN</td>\n",
       "      <td>NaN</td>\n",
       "      <td>NaN</td>\n",
       "      <td>NaN</td>\n",
       "      <td>NaN</td>\n",
       "      <td>NaN</td>\n",
       "      <td>NaN</td>\n",
       "    </tr>\n",
       "    <tr>\n",
       "      <th>3</th>\n",
       "      <td>0.0</td>\n",
       "      <td>0.0</td>\n",
       "      <td>0.0</td>\n",
       "      <td>1.0</td>\n",
       "      <td>6.0</td>\n",
       "      <td>7.0</td>\n",
       "      <td>4.0</td>\n",
       "      <td>0.0</td>\n",
       "      <td>1.0</td>\n",
       "      <td>8.0</td>\n",
       "      <td>...</td>\n",
       "      <td>NaN</td>\n",
       "      <td>NaN</td>\n",
       "      <td>NaN</td>\n",
       "      <td>NaN</td>\n",
       "      <td>NaN</td>\n",
       "      <td>NaN</td>\n",
       "      <td>NaN</td>\n",
       "      <td>NaN</td>\n",
       "      <td>NaN</td>\n",
       "      <td>NaN</td>\n",
       "    </tr>\n",
       "    <tr>\n",
       "      <th>4</th>\n",
       "      <td>0.0</td>\n",
       "      <td>1.0</td>\n",
       "      <td>0.0</td>\n",
       "      <td>1.0</td>\n",
       "      <td>6.0</td>\n",
       "      <td>7.0</td>\n",
       "      <td>4.0</td>\n",
       "      <td>3.0</td>\n",
       "      <td>1.0</td>\n",
       "      <td>3.0</td>\n",
       "      <td>...</td>\n",
       "      <td>NaN</td>\n",
       "      <td>NaN</td>\n",
       "      <td>NaN</td>\n",
       "      <td>NaN</td>\n",
       "      <td>NaN</td>\n",
       "      <td>NaN</td>\n",
       "      <td>NaN</td>\n",
       "      <td>NaN</td>\n",
       "      <td>NaN</td>\n",
       "      <td>NaN</td>\n",
       "    </tr>\n",
       "  </tbody>\n",
       "</table>\n",
       "<p>5 rows × 32 columns</p>\n",
       "</div>"
      ],
      "text/plain": [
       "   NAME_CONTRACT_TYPE  CODE_GENDER  FLAG_OWN_CAR  FLAG_OWN_REALTY  \\\n",
       "0                 0.0          1.0           0.0              1.0   \n",
       "1                 0.0          0.0           0.0              0.0   \n",
       "2                 1.0          1.0           1.0              1.0   \n",
       "3                 0.0          0.0           0.0              1.0   \n",
       "4                 0.0          1.0           0.0              1.0   \n",
       "\n",
       "   NAME_TYPE_SUITE  NAME_INCOME_TYPE  NAME_EDUCATION_TYPE  NAME_FAMILY_STATUS  \\\n",
       "0              6.0               7.0                  4.0                 3.0   \n",
       "1              1.0               4.0                  1.0                 1.0   \n",
       "2              6.0               7.0                  4.0                 3.0   \n",
       "3              6.0               7.0                  4.0                 0.0   \n",
       "4              6.0               7.0                  4.0                 3.0   \n",
       "\n",
       "   NAME_HOUSING_TYPE  OCCUPATION_TYPE  ...  CODE_REJECT_REASON  \\\n",
       "0                1.0              8.0  ...                 NaN   \n",
       "1                1.0              3.0  ...                 NaN   \n",
       "2                1.0              8.0  ...                 NaN   \n",
       "3                1.0              8.0  ...                 NaN   \n",
       "4                1.0              3.0  ...                 NaN   \n",
       "\n",
       "   NAME_TYPE_SUITE_prev  NAME_CLIENT_TYPE  NAME_GOODS_CATEGORY  \\\n",
       "0                   NaN               NaN                  NaN   \n",
       "1                   NaN               NaN                  NaN   \n",
       "2                   NaN               NaN                  NaN   \n",
       "3                   NaN               NaN                  NaN   \n",
       "4                   NaN               NaN                  NaN   \n",
       "\n",
       "   NAME_PORTFOLIO  NAME_PRODUCT_TYPE  CHANNEL_TYPE  NAME_SELLER_INDUSTRY  \\\n",
       "0             NaN                NaN           NaN                   NaN   \n",
       "1             NaN                NaN           NaN                   NaN   \n",
       "2             NaN                NaN           NaN                   NaN   \n",
       "3             NaN                NaN           NaN                   NaN   \n",
       "4             NaN                NaN           NaN                   NaN   \n",
       "\n",
       "   NAME_YIELD_GROUP  PRODUCT_COMBINATION  \n",
       "0               NaN                  NaN  \n",
       "1               NaN                  NaN  \n",
       "2               NaN                  NaN  \n",
       "3               NaN                  NaN  \n",
       "4               NaN                  NaN  \n",
       "\n",
       "[5 rows x 32 columns]"
      ]
     },
     "execution_count": 4,
     "metadata": {},
     "output_type": "execute_result"
    }
   ],
   "source": [
    "cat = final.select_dtypes(include = object)\n",
    "encoded = prepare_categorical(final[cat.columns])\n",
    "for i in range(len(cat.columns)):\n",
    "    cat[cat.columns[i]] = encoded[: ,i]\n",
    "cat.head()"
   ]
  },
  {
   "cell_type": "code",
   "execution_count": 5,
   "id": "6135d094",
   "metadata": {
    "execution": {
     "iopub.execute_input": "2022-11-09T14:18:50.259878Z",
     "iopub.status.busy": "2022-11-09T14:18:50.259497Z",
     "iopub.status.idle": "2022-11-09T14:18:51.903370Z",
     "shell.execute_reply": "2022-11-09T14:18:51.902090Z"
    },
    "papermill": {
     "duration": 1.651933,
     "end_time": "2022-11-09T14:18:51.906720",
     "exception": false,
     "start_time": "2022-11-09T14:18:50.254787",
     "status": "completed"
    },
    "tags": []
   },
   "outputs": [
    {
     "data": {
      "text/plain": [
       "['NAME_CONTRACT_TYPE',\n",
       " 'CODE_GENDER',\n",
       " 'FLAG_OWN_CAR',\n",
       " 'FLAG_OWN_REALTY',\n",
       " 'NAME_TYPE_SUITE',\n",
       " 'NAME_INCOME_TYPE',\n",
       " 'NAME_EDUCATION_TYPE',\n",
       " 'NAME_FAMILY_STATUS',\n",
       " 'NAME_HOUSING_TYPE',\n",
       " 'OCCUPATION_TYPE',\n",
       " 'WEEKDAY_APPR_PROCESS_START',\n",
       " 'ORGANIZATION_TYPE',\n",
       " 'FONDKAPREMONT_MODE',\n",
       " 'HOUSETYPE_MODE',\n",
       " 'WALLSMATERIAL_MODE',\n",
       " 'EMERGENCYSTATE_MODE',\n",
       " 'WEEKDAY_APPR_PROCESS_START_prev',\n",
       " 'NAME_PRODUCT_TYPE',\n",
       " 'CHANNEL_TYPE',\n",
       " 'NAME_SELLER_INDUSTRY']"
      ]
     },
     "execution_count": 5,
     "metadata": {},
     "output_type": "execute_result"
    }
   ],
   "source": [
    "from sklearn.feature_selection import SelectKBest\n",
    "from sklearn.feature_selection import chi2\n",
    "target = final[\"TARGET\"]\n",
    "features = cat.fillna(cat.max() + 1, downcast='infer')\n",
    "selector = SelectKBest(score_func=chi2, k=20)\n",
    "selector.fit(features, target)\n",
    "list(features.columns[selector.get_support()])"
   ]
  },
  {
   "cell_type": "markdown",
   "id": "5c5383e6",
   "metadata": {
    "papermill": {
     "duration": 0.003283,
     "end_time": "2022-11-09T14:18:51.913730",
     "exception": false,
     "start_time": "2022-11-09T14:18:51.910447",
     "status": "completed"
    },
    "tags": []
   },
   "source": [
    "# SELECTING NUMERIC FEATURES"
   ]
  },
  {
   "cell_type": "code",
   "execution_count": 6,
   "id": "34ff73fb",
   "metadata": {
    "execution": {
     "iopub.execute_input": "2022-11-09T14:18:51.922920Z",
     "iopub.status.busy": "2022-11-09T14:18:51.922120Z",
     "iopub.status.idle": "2022-11-09T14:18:55.673932Z",
     "shell.execute_reply": "2022-11-09T14:18:55.673046Z"
    },
    "papermill": {
     "duration": 3.7592,
     "end_time": "2022-11-09T14:18:55.676413",
     "exception": false,
     "start_time": "2022-11-09T14:18:51.917213",
     "status": "completed"
    },
    "tags": []
   },
   "outputs": [
    {
     "name": "stderr",
     "output_type": "stream",
     "text": [
      "/opt/conda/lib/python3.7/site-packages/sklearn/feature_selection/_univariate_selection.py:112: UserWarning: Features [ 79 110] are constant.\n",
      "  warnings.warn(\"Features %s are constant.\" % constant_features_idx, UserWarning)\n",
      "/opt/conda/lib/python3.7/site-packages/sklearn/feature_selection/_univariate_selection.py:113: RuntimeWarning: invalid value encountered in true_divide\n",
      "  f = msb / msw\n"
     ]
    },
    {
     "data": {
      "text/plain": [
       "['CNT_CHILDREN',\n",
       " 'AMT_CREDIT',\n",
       " 'REGION_POPULATION_RELATIVE',\n",
       " 'DAYS_BIRTH',\n",
       " 'DAYS_EMPLOYED',\n",
       " 'DAYS_REGISTRATION',\n",
       " 'DAYS_ID_PUBLISH',\n",
       " 'OWN_CAR_AGE',\n",
       " 'FLAG_WORK_PHONE',\n",
       " 'FLAG_PHONE',\n",
       " 'REGION_RATING_CLIENT',\n",
       " 'HOUR_APPR_PROCESS_START',\n",
       " 'REG_CITY_NOT_LIVE_CITY',\n",
       " 'REG_CITY_NOT_WORK_CITY',\n",
       " 'LIVE_CITY_NOT_WORK_CITY',\n",
       " 'EXT_SOURCE_1',\n",
       " 'EXT_SOURCE_2',\n",
       " 'EXT_SOURCE_3',\n",
       " 'APARTMENTS_AVG',\n",
       " 'ELEVATORS_AVG',\n",
       " 'FLOORSMAX_AVG',\n",
       " 'DEF_30_CNT_SOCIAL_CIRCLE',\n",
       " 'DEF_60_CNT_SOCIAL_CIRCLE',\n",
       " 'DAYS_LAST_PHONE_CHANGE',\n",
       " 'FLAG_DOCUMENT_3',\n",
       " 'FLAG_DOCUMENT_6',\n",
       " 'AMT_REQ_CREDIT_BUREAU_YEAR',\n",
       " 'DAYS_CREDIT_ENDDATE',\n",
       " 'AMT_CREDIT_SUM',\n",
       " 'DAYS_CREDIT_UPDATE']"
      ]
     },
     "execution_count": 6,
     "metadata": {},
     "output_type": "execute_result"
    }
   ],
   "source": [
    "from sklearn.feature_selection import SelectKBest\n",
    "from sklearn.feature_selection import f_classif\n",
    "\n",
    "numeric = final.select_dtypes(include = np.number).drop([\"Unnamed: 0\", \"SK_ID_CURR\", \"TARGET\", \"SK_ID_PREV\", \"DEBT_OVER_CREDIT\", \"SK_DPD_mean_pos\", \"SK_DPD_DEF_mean_pos\"], axis = 1)\n",
    "target = final[\"TARGET\"]\n",
    "features = numeric.fillna(numeric.mean(), downcast='infer').round(3)\n",
    "\n",
    "selector = SelectKBest(score_func=f_classif, k=30)\n",
    "selector.fit(features, target)\n",
    "selected = list(features.columns[selector.get_support()])\n",
    "selected"
   ]
  },
  {
   "cell_type": "code",
   "execution_count": null,
   "id": "92f9a1eb",
   "metadata": {
    "papermill": {
     "duration": 0.003904,
     "end_time": "2022-11-09T14:18:55.684370",
     "exception": false,
     "start_time": "2022-11-09T14:18:55.680466",
     "status": "completed"
    },
    "tags": []
   },
   "outputs": [],
   "source": []
  }
 ],
 "metadata": {
  "kernelspec": {
   "display_name": "Python 3",
   "language": "python",
   "name": "python3"
  },
  "language_info": {
   "codemirror_mode": {
    "name": "ipython",
    "version": 3
   },
   "file_extension": ".py",
   "mimetype": "text/x-python",
   "name": "python",
   "nbconvert_exporter": "python",
   "pygments_lexer": "ipython3",
   "version": "3.7.12"
  },
  "papermill": {
   "default_parameters": {},
   "duration": 29.828159,
   "end_time": "2022-11-09T14:18:56.512123",
   "environment_variables": {},
   "exception": null,
   "input_path": "__notebook__.ipynb",
   "output_path": "__notebook__.ipynb",
   "parameters": {},
   "start_time": "2022-11-09T14:18:26.683964",
   "version": "2.3.4"
  }
 },
 "nbformat": 4,
 "nbformat_minor": 5
}
