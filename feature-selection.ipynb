{
 "cells": [
  {
   "cell_type": "code",
   "execution_count": 1,
   "id": "767cbf4e",
   "metadata": {
    "_cell_guid": "b1076dfc-b9ad-4769-8c92-a6c4dae69d19",
    "_uuid": "8f2839f25d086af736a60e9eeb907d3b93b6e0e5",
    "execution": {
     "iopub.execute_input": "2022-11-09T16:29:14.626416Z",
     "iopub.status.busy": "2022-11-09T16:29:14.625278Z",
     "iopub.status.idle": "2022-11-09T16:29:14.648010Z",
     "shell.execute_reply": "2022-11-09T16:29:14.646804Z"
    },
    "papermill": {
     "duration": 0.030905,
     "end_time": "2022-11-09T16:29:14.650493",
     "exception": false,
     "start_time": "2022-11-09T16:29:14.619588",
     "status": "completed"
    },
    "tags": []
   },
   "outputs": [
    {
     "name": "stdout",
     "output_type": "stream",
     "text": [
      "/kaggle/input/final-merged-data/app_train_merge_bureau.csv\n",
      "/kaggle/input/final-merged-data/final_merged_table.csv\n"
     ]
    }
   ],
   "source": [
    "# This Python 3 environment comes with many helpful analytics libraries installed\n",
    "# It is defined by the kaggle/python Docker image: https://github.com/kaggle/docker-python\n",
    "# For example, here's several helpful packages to load\n",
    "\n",
    "import numpy as np # linear algebra\n",
    "import pandas as pd # data processing, CSV file I/O (e.g. pd.read_csv)\n",
    "import matplotlib.pyplot as plt\n",
    "\n",
    "# Input data files are available in the read-only \"../input/\" directory\n",
    "# For example, running this (by clicking run or pressing Shift+Enter) will list all files under the input directory\n",
    "\n",
    "import os\n",
    "for dirname, _, filenames in os.walk('/kaggle/input'):\n",
    "    for filename in filenames:\n",
    "        print(os.path.join(dirname, filename))\n",
    "\n",
    "# You can write up to 20GB to the current directory (/kaggle/working/) that gets preserved as output when you create a version using \"Save & Run All\" \n",
    "# You can also write temporary files to /kaggle/temp/, but they won't be saved outside of the current session"
   ]
  },
  {
   "cell_type": "code",
   "execution_count": 2,
   "id": "f3315154",
   "metadata": {
    "execution": {
     "iopub.execute_input": "2022-11-09T16:29:14.659094Z",
     "iopub.status.busy": "2022-11-09T16:29:14.658414Z",
     "iopub.status.idle": "2022-11-09T16:29:49.090032Z",
     "shell.execute_reply": "2022-11-09T16:29:49.088689Z"
    },
    "papermill": {
     "duration": 34.439108,
     "end_time": "2022-11-09T16:29:49.093065",
     "exception": false,
     "start_time": "2022-11-09T16:29:14.653957",
     "status": "completed"
    },
    "tags": []
   },
   "outputs": [],
   "source": [
    "final = pd.read_csv(\"../input/final-merged-data/final_merged_table.csv\")"
   ]
  },
  {
   "cell_type": "markdown",
   "id": "30adfb4d",
   "metadata": {
    "papermill": {
     "duration": 0.002888,
     "end_time": "2022-11-09T16:29:49.099231",
     "exception": false,
     "start_time": "2022-11-09T16:29:49.096343",
     "status": "completed"
    },
    "tags": []
   },
   "source": [
    "# SELECT CATEGORICAL FEATURES"
   ]
  },
  {
   "cell_type": "code",
   "execution_count": 3,
   "id": "813e87d9",
   "metadata": {
    "execution": {
     "iopub.execute_input": "2022-11-09T16:29:49.107207Z",
     "iopub.status.busy": "2022-11-09T16:29:49.106787Z",
     "iopub.status.idle": "2022-11-09T16:29:50.217530Z",
     "shell.execute_reply": "2022-11-09T16:29:50.216080Z"
    },
    "papermill": {
     "duration": 1.118081,
     "end_time": "2022-11-09T16:29:50.220336",
     "exception": false,
     "start_time": "2022-11-09T16:29:49.102255",
     "status": "completed"
    },
    "tags": []
   },
   "outputs": [],
   "source": [
    "from sklearn.preprocessing import OrdinalEncoder\n",
    "def prepare_categorical(x):\n",
    "    oe = OrdinalEncoder()\n",
    "    oe.fit(x)\n",
    "    x_new = oe.transform(x)\n",
    "    return x_new"
   ]
  },
  {
   "cell_type": "code",
   "execution_count": 4,
   "id": "5d75d841",
   "metadata": {
    "execution": {
     "iopub.execute_input": "2022-11-09T16:29:50.228927Z",
     "iopub.status.busy": "2022-11-09T16:29:50.227916Z",
     "iopub.status.idle": "2022-11-09T16:30:15.657684Z",
     "shell.execute_reply": "2022-11-09T16:30:15.656894Z"
    },
    "papermill": {
     "duration": 25.436678,
     "end_time": "2022-11-09T16:30:15.660252",
     "exception": false,
     "start_time": "2022-11-09T16:29:50.223574",
     "status": "completed"
    },
    "tags": []
   },
   "outputs": [
    {
     "name": "stderr",
     "output_type": "stream",
     "text": [
      "/opt/conda/lib/python3.7/site-packages/ipykernel_launcher.py:4: SettingWithCopyWarning: \n",
      "A value is trying to be set on a copy of a slice from a DataFrame.\n",
      "Try using .loc[row_indexer,col_indexer] = value instead\n",
      "\n",
      "See the caveats in the documentation: https://pandas.pydata.org/pandas-docs/stable/user_guide/indexing.html#returning-a-view-versus-a-copy\n",
      "  after removing the cwd from sys.path.\n"
     ]
    },
    {
     "data": {
      "text/html": [
       "<div>\n",
       "<style scoped>\n",
       "    .dataframe tbody tr th:only-of-type {\n",
       "        vertical-align: middle;\n",
       "    }\n",
       "\n",
       "    .dataframe tbody tr th {\n",
       "        vertical-align: top;\n",
       "    }\n",
       "\n",
       "    .dataframe thead th {\n",
       "        text-align: right;\n",
       "    }\n",
       "</style>\n",
       "<table border=\"1\" class=\"dataframe\">\n",
       "  <thead>\n",
       "    <tr style=\"text-align: right;\">\n",
       "      <th></th>\n",
       "      <th>NAME_CONTRACT_TYPE</th>\n",
       "      <th>CODE_GENDER</th>\n",
       "      <th>FLAG_OWN_CAR</th>\n",
       "      <th>FLAG_OWN_REALTY</th>\n",
       "      <th>NAME_TYPE_SUITE</th>\n",
       "      <th>NAME_INCOME_TYPE</th>\n",
       "      <th>NAME_EDUCATION_TYPE</th>\n",
       "      <th>NAME_FAMILY_STATUS</th>\n",
       "      <th>NAME_HOUSING_TYPE</th>\n",
       "      <th>OCCUPATION_TYPE</th>\n",
       "      <th>...</th>\n",
       "      <th>CODE_REJECT_REASON</th>\n",
       "      <th>NAME_TYPE_SUITE_prev</th>\n",
       "      <th>NAME_CLIENT_TYPE</th>\n",
       "      <th>NAME_GOODS_CATEGORY</th>\n",
       "      <th>NAME_PORTFOLIO</th>\n",
       "      <th>NAME_PRODUCT_TYPE</th>\n",
       "      <th>CHANNEL_TYPE</th>\n",
       "      <th>NAME_SELLER_INDUSTRY</th>\n",
       "      <th>NAME_YIELD_GROUP</th>\n",
       "      <th>PRODUCT_COMBINATION</th>\n",
       "    </tr>\n",
       "  </thead>\n",
       "  <tbody>\n",
       "    <tr>\n",
       "      <th>0</th>\n",
       "      <td>0.0</td>\n",
       "      <td>1.0</td>\n",
       "      <td>0.0</td>\n",
       "      <td>1.0</td>\n",
       "      <td>6.0</td>\n",
       "      <td>7.0</td>\n",
       "      <td>4.0</td>\n",
       "      <td>3.0</td>\n",
       "      <td>1.0</td>\n",
       "      <td>8.0</td>\n",
       "      <td>...</td>\n",
       "      <td>7.0</td>\n",
       "      <td>NaN</td>\n",
       "      <td>0.0</td>\n",
       "      <td>24.0</td>\n",
       "      <td>3.0</td>\n",
       "      <td>0.0</td>\n",
       "      <td>7.0</td>\n",
       "      <td>0.0</td>\n",
       "      <td>3.0</td>\n",
       "      <td>15.0</td>\n",
       "    </tr>\n",
       "    <tr>\n",
       "      <th>1</th>\n",
       "      <td>0.0</td>\n",
       "      <td>0.0</td>\n",
       "      <td>0.0</td>\n",
       "      <td>0.0</td>\n",
       "      <td>1.0</td>\n",
       "      <td>4.0</td>\n",
       "      <td>1.0</td>\n",
       "      <td>1.0</td>\n",
       "      <td>1.0</td>\n",
       "      <td>3.0</td>\n",
       "      <td>...</td>\n",
       "      <td>7.0</td>\n",
       "      <td>6.0</td>\n",
       "      <td>2.0</td>\n",
       "      <td>26.0</td>\n",
       "      <td>2.0</td>\n",
       "      <td>2.0</td>\n",
       "      <td>5.0</td>\n",
       "      <td>10.0</td>\n",
       "      <td>3.0</td>\n",
       "      <td>7.0</td>\n",
       "    </tr>\n",
       "    <tr>\n",
       "      <th>2</th>\n",
       "      <td>0.0</td>\n",
       "      <td>0.0</td>\n",
       "      <td>0.0</td>\n",
       "      <td>0.0</td>\n",
       "      <td>1.0</td>\n",
       "      <td>4.0</td>\n",
       "      <td>1.0</td>\n",
       "      <td>1.0</td>\n",
       "      <td>1.0</td>\n",
       "      <td>3.0</td>\n",
       "      <td>...</td>\n",
       "      <td>7.0</td>\n",
       "      <td>1.0</td>\n",
       "      <td>1.0</td>\n",
       "      <td>11.0</td>\n",
       "      <td>3.0</td>\n",
       "      <td>0.0</td>\n",
       "      <td>7.0</td>\n",
       "      <td>5.0</td>\n",
       "      <td>4.0</td>\n",
       "      <td>11.0</td>\n",
       "    </tr>\n",
       "    <tr>\n",
       "      <th>3</th>\n",
       "      <td>0.0</td>\n",
       "      <td>0.0</td>\n",
       "      <td>0.0</td>\n",
       "      <td>0.0</td>\n",
       "      <td>1.0</td>\n",
       "      <td>4.0</td>\n",
       "      <td>1.0</td>\n",
       "      <td>1.0</td>\n",
       "      <td>1.0</td>\n",
       "      <td>3.0</td>\n",
       "      <td>...</td>\n",
       "      <td>7.0</td>\n",
       "      <td>1.0</td>\n",
       "      <td>1.0</td>\n",
       "      <td>7.0</td>\n",
       "      <td>3.0</td>\n",
       "      <td>0.0</td>\n",
       "      <td>4.0</td>\n",
       "      <td>4.0</td>\n",
       "      <td>4.0</td>\n",
       "      <td>9.0</td>\n",
       "    </tr>\n",
       "    <tr>\n",
       "      <th>4</th>\n",
       "      <td>1.0</td>\n",
       "      <td>1.0</td>\n",
       "      <td>1.0</td>\n",
       "      <td>1.0</td>\n",
       "      <td>6.0</td>\n",
       "      <td>7.0</td>\n",
       "      <td>4.0</td>\n",
       "      <td>3.0</td>\n",
       "      <td>1.0</td>\n",
       "      <td>8.0</td>\n",
       "      <td>...</td>\n",
       "      <td>7.0</td>\n",
       "      <td>6.0</td>\n",
       "      <td>0.0</td>\n",
       "      <td>18.0</td>\n",
       "      <td>3.0</td>\n",
       "      <td>0.0</td>\n",
       "      <td>6.0</td>\n",
       "      <td>2.0</td>\n",
       "      <td>4.0</td>\n",
       "      <td>14.0</td>\n",
       "    </tr>\n",
       "  </tbody>\n",
       "</table>\n",
       "<p>5 rows × 32 columns</p>\n",
       "</div>"
      ],
      "text/plain": [
       "   NAME_CONTRACT_TYPE  CODE_GENDER  FLAG_OWN_CAR  FLAG_OWN_REALTY  \\\n",
       "0                 0.0          1.0           0.0              1.0   \n",
       "1                 0.0          0.0           0.0              0.0   \n",
       "2                 0.0          0.0           0.0              0.0   \n",
       "3                 0.0          0.0           0.0              0.0   \n",
       "4                 1.0          1.0           1.0              1.0   \n",
       "\n",
       "   NAME_TYPE_SUITE  NAME_INCOME_TYPE  NAME_EDUCATION_TYPE  NAME_FAMILY_STATUS  \\\n",
       "0              6.0               7.0                  4.0                 3.0   \n",
       "1              1.0               4.0                  1.0                 1.0   \n",
       "2              1.0               4.0                  1.0                 1.0   \n",
       "3              1.0               4.0                  1.0                 1.0   \n",
       "4              6.0               7.0                  4.0                 3.0   \n",
       "\n",
       "   NAME_HOUSING_TYPE  OCCUPATION_TYPE  ...  CODE_REJECT_REASON  \\\n",
       "0                1.0              8.0  ...                 7.0   \n",
       "1                1.0              3.0  ...                 7.0   \n",
       "2                1.0              3.0  ...                 7.0   \n",
       "3                1.0              3.0  ...                 7.0   \n",
       "4                1.0              8.0  ...                 7.0   \n",
       "\n",
       "   NAME_TYPE_SUITE_prev  NAME_CLIENT_TYPE  NAME_GOODS_CATEGORY  \\\n",
       "0                   NaN               0.0                 24.0   \n",
       "1                   6.0               2.0                 26.0   \n",
       "2                   1.0               1.0                 11.0   \n",
       "3                   1.0               1.0                  7.0   \n",
       "4                   6.0               0.0                 18.0   \n",
       "\n",
       "   NAME_PORTFOLIO  NAME_PRODUCT_TYPE  CHANNEL_TYPE  NAME_SELLER_INDUSTRY  \\\n",
       "0             3.0                0.0           7.0                   0.0   \n",
       "1             2.0                2.0           5.0                  10.0   \n",
       "2             3.0                0.0           7.0                   5.0   \n",
       "3             3.0                0.0           4.0                   4.0   \n",
       "4             3.0                0.0           6.0                   2.0   \n",
       "\n",
       "   NAME_YIELD_GROUP  PRODUCT_COMBINATION  \n",
       "0               3.0                 15.0  \n",
       "1               3.0                  7.0  \n",
       "2               4.0                 11.0  \n",
       "3               4.0                  9.0  \n",
       "4               4.0                 14.0  \n",
       "\n",
       "[5 rows x 32 columns]"
      ]
     },
     "execution_count": 4,
     "metadata": {},
     "output_type": "execute_result"
    }
   ],
   "source": [
    "cat = final.select_dtypes(include = object)\n",
    "encoded = prepare_categorical(final[cat.columns])\n",
    "for i in range(len(cat.columns)):\n",
    "    cat[cat.columns[i]] = encoded[: ,i]\n",
    "cat.head()"
   ]
  },
  {
   "cell_type": "code",
   "execution_count": 5,
   "id": "ae2ec51d",
   "metadata": {
    "execution": {
     "iopub.execute_input": "2022-11-09T16:30:15.669203Z",
     "iopub.status.busy": "2022-11-09T16:30:15.668622Z",
     "iopub.status.idle": "2022-11-09T16:30:21.430205Z",
     "shell.execute_reply": "2022-11-09T16:30:21.429255Z"
    },
    "papermill": {
     "duration": 5.768646,
     "end_time": "2022-11-09T16:30:21.432523",
     "exception": false,
     "start_time": "2022-11-09T16:30:15.663877",
     "status": "completed"
    },
    "tags": []
   },
   "outputs": [
    {
     "data": {
      "text/plain": [
       "['NAME_CONTRACT_TYPE',\n",
       " 'CODE_GENDER',\n",
       " 'NAME_INCOME_TYPE',\n",
       " 'NAME_EDUCATION_TYPE',\n",
       " 'NAME_HOUSING_TYPE',\n",
       " 'OCCUPATION_TYPE',\n",
       " 'ORGANIZATION_TYPE',\n",
       " 'FONDKAPREMONT_MODE',\n",
       " 'HOUSETYPE_MODE',\n",
       " 'WALLSMATERIAL_MODE',\n",
       " 'EMERGENCYSTATE_MODE',\n",
       " 'NAME_CONTRACT_STATUS',\n",
       " 'NAME_PAYMENT_TYPE',\n",
       " 'CODE_REJECT_REASON',\n",
       " 'NAME_TYPE_SUITE_prev',\n",
       " 'NAME_GOODS_CATEGORY',\n",
       " 'CHANNEL_TYPE',\n",
       " 'NAME_SELLER_INDUSTRY',\n",
       " 'NAME_YIELD_GROUP',\n",
       " 'PRODUCT_COMBINATION']"
      ]
     },
     "execution_count": 5,
     "metadata": {},
     "output_type": "execute_result"
    }
   ],
   "source": [
    "from sklearn.feature_selection import SelectKBest\n",
    "from sklearn.feature_selection import chi2\n",
    "target = final[\"TARGET\"]\n",
    "features = cat.fillna(cat.max() + 1, downcast='infer')\n",
    "selector = SelectKBest(score_func=chi2, k=20)\n",
    "selector.fit(features, target)\n",
    "list(features.columns[selector.get_support()])"
   ]
  },
  {
   "cell_type": "markdown",
   "id": "34a3ab66",
   "metadata": {
    "papermill": {
     "duration": 0.003296,
     "end_time": "2022-11-09T16:30:21.439740",
     "exception": false,
     "start_time": "2022-11-09T16:30:21.436444",
     "status": "completed"
    },
    "tags": []
   },
   "source": [
    "# SELECTING NUMERIC FEATURES"
   ]
  },
  {
   "cell_type": "code",
   "execution_count": 6,
   "id": "a9e89600",
   "metadata": {
    "execution": {
     "iopub.execute_input": "2022-11-09T16:30:21.448924Z",
     "iopub.status.busy": "2022-11-09T16:30:21.448007Z",
     "iopub.status.idle": "2022-11-09T16:30:35.180461Z",
     "shell.execute_reply": "2022-11-09T16:30:35.179402Z"
    },
    "papermill": {
     "duration": 13.73956,
     "end_time": "2022-11-09T16:30:35.182805",
     "exception": false,
     "start_time": "2022-11-09T16:30:21.443245",
     "status": "completed"
    },
    "tags": []
   },
   "outputs": [
    {
     "name": "stderr",
     "output_type": "stream",
     "text": [
      "/opt/conda/lib/python3.7/site-packages/sklearn/feature_selection/_univariate_selection.py:112: UserWarning: Features [79] are constant.\n",
      "  warnings.warn(\"Features %s are constant.\" % constant_features_idx, UserWarning)\n",
      "/opt/conda/lib/python3.7/site-packages/sklearn/feature_selection/_univariate_selection.py:113: RuntimeWarning: invalid value encountered in true_divide\n",
      "  f = msb / msw\n"
     ]
    },
    {
     "data": {
      "text/plain": [
       "['AMT_CREDIT',\n",
       " 'REGION_POPULATION_RELATIVE',\n",
       " 'DAYS_BIRTH',\n",
       " 'DAYS_EMPLOYED',\n",
       " 'DAYS_REGISTRATION',\n",
       " 'DAYS_ID_PUBLISH',\n",
       " 'FLAG_WORK_PHONE',\n",
       " 'FLAG_PHONE',\n",
       " 'REGION_RATING_CLIENT',\n",
       " 'HOUR_APPR_PROCESS_START',\n",
       " 'REG_CITY_NOT_LIVE_CITY',\n",
       " 'REG_CITY_NOT_WORK_CITY',\n",
       " 'LIVE_CITY_NOT_WORK_CITY',\n",
       " 'EXT_SOURCE_1',\n",
       " 'EXT_SOURCE_2',\n",
       " 'EXT_SOURCE_3',\n",
       " 'ELEVATORS_AVG',\n",
       " 'FLOORSMAX_AVG',\n",
       " 'DEF_30_CNT_SOCIAL_CIRCLE',\n",
       " 'DEF_60_CNT_SOCIAL_CIRCLE',\n",
       " 'DAYS_LAST_PHONE_CHANGE',\n",
       " 'FLAG_DOCUMENT_3',\n",
       " 'FLAG_DOCUMENT_6',\n",
       " 'DAYS_CREDIT_ENDDATE',\n",
       " 'DAYS_CREDIT_UPDATE',\n",
       " 'TOTAL_CUSTOMER_DEBT',\n",
       " 'BUREAU_LOAN_COUNT',\n",
       " 'HOUR_APPR_PROCESS_START_prev',\n",
       " 'DAYS_DECISION',\n",
       " 'CNT_PAYMENT']"
      ]
     },
     "execution_count": 6,
     "metadata": {},
     "output_type": "execute_result"
    }
   ],
   "source": [
    "from sklearn.feature_selection import SelectKBest\n",
    "from sklearn.feature_selection import f_classif\n",
    "\n",
    "numeric = final.select_dtypes(include = np.number).drop([\"Unnamed: 0\", \"SK_ID_CURR\", \"TARGET\", \"SK_ID_PREV\", \"DEBT_OVER_CREDIT\", \"SK_DPD_mean_pos\", \"SK_DPD_DEF_mean_pos\"], axis = 1)\n",
    "target = final[\"TARGET\"]\n",
    "features = numeric.fillna(numeric.mean(), downcast='infer').round(3)\n",
    "\n",
    "selector = SelectKBest(score_func=f_classif, k=30)\n",
    "selector.fit(features, target)\n",
    "selected = list(features.columns[selector.get_support()])\n",
    "selected"
   ]
  },
  {
   "cell_type": "code",
   "execution_count": null,
   "id": "aa89f9e0",
   "metadata": {
    "papermill": {
     "duration": 0.003505,
     "end_time": "2022-11-09T16:30:35.190254",
     "exception": false,
     "start_time": "2022-11-09T16:30:35.186749",
     "status": "completed"
    },
    "tags": []
   },
   "outputs": [],
   "source": []
  }
 ],
 "metadata": {
  "kernelspec": {
   "display_name": "Python 3",
   "language": "python",
   "name": "python3"
  },
  "language_info": {
   "codemirror_mode": {
    "name": "ipython",
    "version": 3
   },
   "file_extension": ".py",
   "mimetype": "text/x-python",
   "name": "python",
   "nbconvert_exporter": "python",
   "pygments_lexer": "ipython3",
   "version": "3.7.12"
  },
  "papermill": {
   "default_parameters": {},
   "duration": 90.318947,
   "end_time": "2022-11-09T16:30:36.218071",
   "environment_variables": {},
   "exception": null,
   "input_path": "__notebook__.ipynb",
   "output_path": "__notebook__.ipynb",
   "parameters": {},
   "start_time": "2022-11-09T16:29:05.899124",
   "version": "2.3.4"
  }
 },
 "nbformat": 4,
 "nbformat_minor": 5
}
